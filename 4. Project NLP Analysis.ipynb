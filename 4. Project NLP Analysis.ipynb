{
 "cells": [
  {
   "cell_type": "code",
   "execution_count": 2,
   "id": "be7ef42b",
   "metadata": {},
   "outputs": [],
   "source": [
    "import numpy as np\n",
    "import pandas as pd"
   ]
  },
  {
   "cell_type": "code",
   "execution_count": 3,
   "id": "1bbe2a5f",
   "metadata": {},
   "outputs": [],
   "source": [
    "data = pd.read_csv(\"data_w_htags_8897.csv\")"
   ]
  },
  {
   "cell_type": "code",
   "execution_count": 4,
   "id": "dc9e9db5",
   "metadata": {},
   "outputs": [
    {
     "data": {
      "text/html": [
       "<div>\n",
       "<style scoped>\n",
       "    .dataframe tbody tr th:only-of-type {\n",
       "        vertical-align: middle;\n",
       "    }\n",
       "\n",
       "    .dataframe tbody tr th {\n",
       "        vertical-align: top;\n",
       "    }\n",
       "\n",
       "    .dataframe thead th {\n",
       "        text-align: right;\n",
       "    }\n",
       "</style>\n",
       "<table border=\"1\" class=\"dataframe\">\n",
       "  <thead>\n",
       "    <tr style=\"text-align: right;\">\n",
       "      <th></th>\n",
       "      <th>Unnamed: 0</th>\n",
       "      <th>airline_sentiment</th>\n",
       "      <th>airline_sentiment_confidence</th>\n",
       "      <th>negativereason</th>\n",
       "      <th>negativereason_confidence</th>\n",
       "      <th>airline</th>\n",
       "      <th>airline_sentiment_gold</th>\n",
       "      <th>name</th>\n",
       "      <th>negativereason_gold</th>\n",
       "      <th>retweet_count</th>\n",
       "      <th>text</th>\n",
       "      <th>updated_text</th>\n",
       "    </tr>\n",
       "  </thead>\n",
       "  <tbody>\n",
       "    <tr>\n",
       "      <th>0</th>\n",
       "      <td>0</td>\n",
       "      <td>negative</td>\n",
       "      <td>1.0</td>\n",
       "      <td>Bad Flight</td>\n",
       "      <td>0.7033</td>\n",
       "      <td>Virgin America</td>\n",
       "      <td>NaN</td>\n",
       "      <td>jnardino</td>\n",
       "      <td>NaN</td>\n",
       "      <td>0</td>\n",
       "      <td>@VirginAmerica it's really aggressive to blast...</td>\n",
       "      <td>it s realli aggress to blast obnoxi  enterta...</td>\n",
       "    </tr>\n",
       "    <tr>\n",
       "      <th>1</th>\n",
       "      <td>1</td>\n",
       "      <td>negative</td>\n",
       "      <td>1.0</td>\n",
       "      <td>Can't Tell</td>\n",
       "      <td>1.0000</td>\n",
       "      <td>Virgin America</td>\n",
       "      <td>NaN</td>\n",
       "      <td>jnardino</td>\n",
       "      <td>NaN</td>\n",
       "      <td>0</td>\n",
       "      <td>@VirginAmerica and it's a really big bad thing...</td>\n",
       "      <td>and it s a realli big bad thing about it</td>\n",
       "    </tr>\n",
       "    <tr>\n",
       "      <th>2</th>\n",
       "      <td>2</td>\n",
       "      <td>negative</td>\n",
       "      <td>1.0</td>\n",
       "      <td>Can't Tell</td>\n",
       "      <td>0.6842</td>\n",
       "      <td>Virgin America</td>\n",
       "      <td>NaN</td>\n",
       "      <td>jnardino</td>\n",
       "      <td>NaN</td>\n",
       "      <td>0</td>\n",
       "      <td>@VirginAmerica seriously would pay $30 a fligh...</td>\n",
       "      <td>serious would pay    a flight for seat that ...</td>\n",
       "    </tr>\n",
       "    <tr>\n",
       "      <th>3</th>\n",
       "      <td>3</td>\n",
       "      <td>positive</td>\n",
       "      <td>1.0</td>\n",
       "      <td>NaN</td>\n",
       "      <td>NaN</td>\n",
       "      <td>Virgin America</td>\n",
       "      <td>NaN</td>\n",
       "      <td>YupitsTate</td>\n",
       "      <td>NaN</td>\n",
       "      <td>0</td>\n",
       "      <td>@VirginAmerica it was amazing, and arrived an ...</td>\n",
       "      <td>it was amaz  and arriv an hour ear  you re t...</td>\n",
       "    </tr>\n",
       "    <tr>\n",
       "      <th>4</th>\n",
       "      <td>4</td>\n",
       "      <td>positive</td>\n",
       "      <td>1.0</td>\n",
       "      <td>NaN</td>\n",
       "      <td>NaN</td>\n",
       "      <td>Virgin America</td>\n",
       "      <td>NaN</td>\n",
       "      <td>HyperCamiLax</td>\n",
       "      <td>NaN</td>\n",
       "      <td>0</td>\n",
       "      <td>@VirginAmerica I &amp;lt;3 pretty graphics. so muc...</td>\n",
       "      <td>i  red heart ️ pretti graphic  so much bette...</td>\n",
       "    </tr>\n",
       "    <tr>\n",
       "      <th>...</th>\n",
       "      <td>...</td>\n",
       "      <td>...</td>\n",
       "      <td>...</td>\n",
       "      <td>...</td>\n",
       "      <td>...</td>\n",
       "      <td>...</td>\n",
       "      <td>...</td>\n",
       "      <td>...</td>\n",
       "      <td>...</td>\n",
       "      <td>...</td>\n",
       "      <td>...</td>\n",
       "      <td>...</td>\n",
       "    </tr>\n",
       "    <tr>\n",
       "      <th>8892</th>\n",
       "      <td>8892</td>\n",
       "      <td>positive</td>\n",
       "      <td>1.0</td>\n",
       "      <td>NaN</td>\n",
       "      <td>NaN</td>\n",
       "      <td>American</td>\n",
       "      <td>NaN</td>\n",
       "      <td>Laurelinesblog</td>\n",
       "      <td>NaN</td>\n",
       "      <td>0</td>\n",
       "      <td>@AmericanAir Thanks! He is.</td>\n",
       "      <td>thank  he is</td>\n",
       "    </tr>\n",
       "    <tr>\n",
       "      <th>8893</th>\n",
       "      <td>8893</td>\n",
       "      <td>negative</td>\n",
       "      <td>1.0</td>\n",
       "      <td>Bad Flight</td>\n",
       "      <td>1.0000</td>\n",
       "      <td>American</td>\n",
       "      <td>NaN</td>\n",
       "      <td>MDDavis7</td>\n",
       "      <td>NaN</td>\n",
       "      <td>0</td>\n",
       "      <td>@AmericanAir thx for nothing on getting us out...</td>\n",
       "      <td>thank  for noth on get  unit state  out of ...</td>\n",
       "    </tr>\n",
       "    <tr>\n",
       "      <th>8894</th>\n",
       "      <td>8894</td>\n",
       "      <td>negative</td>\n",
       "      <td>1.0</td>\n",
       "      <td>Cancelled Flight</td>\n",
       "      <td>1.0000</td>\n",
       "      <td>American</td>\n",
       "      <td>NaN</td>\n",
       "      <td>RussellsWriting</td>\n",
       "      <td>NaN</td>\n",
       "      <td>0</td>\n",
       "      <td>@AmericanAir my flight was Cancelled Flightled...</td>\n",
       "      <td>my flight was cancel light  leav tomorrow mo...</td>\n",
       "    </tr>\n",
       "    <tr>\n",
       "      <th>8895</th>\n",
       "      <td>8895</td>\n",
       "      <td>negative</td>\n",
       "      <td>1.0</td>\n",
       "      <td>Customer Service Issue</td>\n",
       "      <td>1.0000</td>\n",
       "      <td>American</td>\n",
       "      <td>NaN</td>\n",
       "      <td>itsropes</td>\n",
       "      <td>NaN</td>\n",
       "      <td>0</td>\n",
       "      <td>@AmericanAir leaving over 20 minutes Late Flig...</td>\n",
       "      <td>leav over   minut late flight  no warn or co...</td>\n",
       "    </tr>\n",
       "    <tr>\n",
       "      <th>8896</th>\n",
       "      <td>8896</td>\n",
       "      <td>negative</td>\n",
       "      <td>1.0</td>\n",
       "      <td>Customer Service Issue</td>\n",
       "      <td>0.6659</td>\n",
       "      <td>American</td>\n",
       "      <td>NaN</td>\n",
       "      <td>SraJackson</td>\n",
       "      <td>NaN</td>\n",
       "      <td>0</td>\n",
       "      <td>@AmericanAir you have my money, you change my ...</td>\n",
       "      <td>you have my money  you chang my flight  and ...</td>\n",
       "    </tr>\n",
       "  </tbody>\n",
       "</table>\n",
       "<p>8897 rows × 12 columns</p>\n",
       "</div>"
      ],
      "text/plain": [
       "      Unnamed: 0 airline_sentiment  airline_sentiment_confidence  \\\n",
       "0              0          negative                           1.0   \n",
       "1              1          negative                           1.0   \n",
       "2              2          negative                           1.0   \n",
       "3              3          positive                           1.0   \n",
       "4              4          positive                           1.0   \n",
       "...          ...               ...                           ...   \n",
       "8892        8892          positive                           1.0   \n",
       "8893        8893          negative                           1.0   \n",
       "8894        8894          negative                           1.0   \n",
       "8895        8895          negative                           1.0   \n",
       "8896        8896          negative                           1.0   \n",
       "\n",
       "              negativereason  negativereason_confidence         airline  \\\n",
       "0                 Bad Flight                     0.7033  Virgin America   \n",
       "1                 Can't Tell                     1.0000  Virgin America   \n",
       "2                 Can't Tell                     0.6842  Virgin America   \n",
       "3                        NaN                        NaN  Virgin America   \n",
       "4                        NaN                        NaN  Virgin America   \n",
       "...                      ...                        ...             ...   \n",
       "8892                     NaN                        NaN        American   \n",
       "8893              Bad Flight                     1.0000        American   \n",
       "8894        Cancelled Flight                     1.0000        American   \n",
       "8895  Customer Service Issue                     1.0000        American   \n",
       "8896  Customer Service Issue                     0.6659        American   \n",
       "\n",
       "     airline_sentiment_gold             name negativereason_gold  \\\n",
       "0                       NaN         jnardino                 NaN   \n",
       "1                       NaN         jnardino                 NaN   \n",
       "2                       NaN         jnardino                 NaN   \n",
       "3                       NaN       YupitsTate                 NaN   \n",
       "4                       NaN     HyperCamiLax                 NaN   \n",
       "...                     ...              ...                 ...   \n",
       "8892                    NaN   Laurelinesblog                 NaN   \n",
       "8893                    NaN         MDDavis7                 NaN   \n",
       "8894                    NaN  RussellsWriting                 NaN   \n",
       "8895                    NaN         itsropes                 NaN   \n",
       "8896                    NaN       SraJackson                 NaN   \n",
       "\n",
       "      retweet_count                                               text  \\\n",
       "0                 0  @VirginAmerica it's really aggressive to blast...   \n",
       "1                 0  @VirginAmerica and it's a really big bad thing...   \n",
       "2                 0  @VirginAmerica seriously would pay $30 a fligh...   \n",
       "3                 0  @VirginAmerica it was amazing, and arrived an ...   \n",
       "4                 0  @VirginAmerica I &lt;3 pretty graphics. so muc...   \n",
       "...             ...                                                ...   \n",
       "8892              0                        @AmericanAir Thanks! He is.   \n",
       "8893              0  @AmericanAir thx for nothing on getting us out...   \n",
       "8894              0  @AmericanAir my flight was Cancelled Flightled...   \n",
       "8895              0  @AmericanAir leaving over 20 minutes Late Flig...   \n",
       "8896              0  @AmericanAir you have my money, you change my ...   \n",
       "\n",
       "                                           updated_text  \n",
       "0       it s realli aggress to blast obnoxi  enterta...  \n",
       "1              and it s a realli big bad thing about it  \n",
       "2       serious would pay    a flight for seat that ...  \n",
       "3       it was amaz  and arriv an hour ear  you re t...  \n",
       "4       i  red heart ️ pretti graphic  so much bette...  \n",
       "...                                                 ...  \n",
       "8892                                      thank  he is   \n",
       "8893     thank  for noth on get  unit state  out of ...  \n",
       "8894    my flight was cancel light  leav tomorrow mo...  \n",
       "8895    leav over   minut late flight  no warn or co...  \n",
       "8896    you have my money  you chang my flight  and ...  \n",
       "\n",
       "[8897 rows x 12 columns]"
      ]
     },
     "execution_count": 4,
     "metadata": {},
     "output_type": "execute_result"
    }
   ],
   "source": [
    "data"
   ]
  },
  {
   "cell_type": "code",
   "execution_count": 5,
   "id": "d8e73358",
   "metadata": {},
   "outputs": [
    {
     "data": {
      "text/plain": [
       "negative    7382\n",
       "positive    1515\n",
       "Name: airline_sentiment, dtype: int64"
      ]
     },
     "execution_count": 5,
     "metadata": {},
     "output_type": "execute_result"
    }
   ],
   "source": [
    "data.airline_sentiment.value_counts()"
   ]
  },
  {
   "cell_type": "code",
   "execution_count": 6,
   "id": "978e41cb",
   "metadata": {},
   "outputs": [],
   "source": [
    "X = data.updated_text\n",
    "y = data.airline_sentiment\n",
    "from imblearn.under_sampling import RandomUnderSampler\n",
    "X_under, y_under = RandomUnderSampler().fit_resample(pd.array(X).reshape(-1,1),y)"
   ]
  },
  {
   "cell_type": "code",
   "execution_count": 7,
   "id": "b97833c5",
   "metadata": {},
   "outputs": [
    {
     "data": {
      "text/plain": [
       "negative    1515\n",
       "positive    1515\n",
       "Name: airline_sentiment, dtype: int64"
      ]
     },
     "execution_count": 7,
     "metadata": {},
     "output_type": "execute_result"
    }
   ],
   "source": [
    "y_under.value_counts()"
   ]
  },
  {
   "cell_type": "code",
   "execution_count": 8,
   "id": "a5c44a0d",
   "metadata": {},
   "outputs": [],
   "source": [
    "from sklearn.model_selection import train_test_split"
   ]
  },
  {
   "cell_type": "code",
   "execution_count": 9,
   "id": "92521c76",
   "metadata": {},
   "outputs": [],
   "source": [
    "from sklearn.model_selection import train_test_split\n",
    "X_train, X_test, y_train, y_test = train_test_split(X_under, y_under, test_size=0.3, random_state=42)"
   ]
  },
  {
   "cell_type": "code",
   "execution_count": 10,
   "id": "2368ec9d",
   "metadata": {},
   "outputs": [],
   "source": [
    "from sklearn.feature_extraction.text import TfidfVectorizer\n",
    "\n",
    "tfidf1 = TfidfVectorizer(stop_words='english')\n",
    "X_train_cv1 = tfidf1.fit_transform(X_train.ravel())\n",
    "X_test_cv1  = tfidf1.transform(X_test.ravel())\n",
    "\n",
    "tfidf2 = TfidfVectorizer(ngram_range=(1,2), binary=True, stop_words='english')\n",
    "X_train_cv2 = tfidf2.fit_transform(X_train.ravel())\n",
    "X_test_cv2  = tfidf2.transform(X_test.ravel())"
   ]
  },
  {
   "cell_type": "code",
   "execution_count": null,
   "id": "5268fc25",
   "metadata": {},
   "outputs": [],
   "source": [
    "from sklearn.linear_model import LogisticRegression\n",
    "lr1 = LogisticRegression()"
   ]
  },
  {
   "cell_type": "code",
   "execution_count": null,
   "id": "282eab90",
   "metadata": {},
   "outputs": [],
   "source": [
    "# Kelimelere ayırarak oluşturulan DataFrame\n",
    "lr1.fit(X_train_cv1, y_train)\n",
    "y_pred_cv1 = lr1.predict(X_test_cv1)"
   ]
  },
  {
   "cell_type": "code",
   "execution_count": null,
   "id": "492519ed",
   "metadata": {},
   "outputs": [],
   "source": [
    "# 2'li N-Gram yöntemi kullanılarak oluşturulan DataFrame\n",
    "lr2 = LogisticRegression()\n",
    "lr2.fit(X_train_cv2, y_train)\n",
    "y_pred_cv2 = lr2.predict(X_test_cv2)"
   ]
  },
  {
   "cell_type": "code",
   "execution_count": 11,
   "id": "9ba90dda",
   "metadata": {},
   "outputs": [],
   "source": [
    "from sklearn.metrics import confusion_matrix\n",
    "import matplotlib.pyplot as plt\n",
    "import seaborn as sns\n",
    "from sklearn.metrics import accuracy_score, precision_score, recall_score, f1_score\n",
    "\n",
    "def conf_matrix(actual, predicted):\n",
    "    plt.figure(figsize=[8,8])\n",
    "    cm = confusion_matrix(actual, predicted)\n",
    "    sns.heatmap(cm, xticklabels=['Predicted Negative', 'Predicted Positive'], \n",
    "                yticklabels=['Actual Negative', 'Actual Positive'], annot=True,\n",
    "                fmt='d', annot_kws={'fontsize':35}, cmap=\"YlGnBu\", square=True);\n",
    "\n",
    "    accuracy = accuracy_score(actual, predicted)\n",
    "    precision = precision_score(actual, predicted, pos_label='negative', zero_division=1)\n",
    "    recall = recall_score(actual, predicted, pos_label='negative', zero_division=1)\n",
    "    f1 = f1_score(actual, predicted, pos_label='negative', zero_division=1)\n",
    "    # pos_label parametresi precision, recall ve f1 score unu görmek istediğimiz labelı soruyor\n",
    "    # zero_division parametresi 0'a bölme işlemini gerçekleşirse uyarı verip vermeyeceğini soruyor (1=uyarı verme)\n",
    "\n",
    "    cm_results = [accuracy, precision, recall, f1]\n",
    "    cm_results = pd.DataFrame({\"Precision\":[precision],\n",
    "                             \"Recall\":[recall],\n",
    "                             \"F1 Score\":[f1],\n",
    "                             \"Accuracy\":[accuracy]})\n",
    "    return cm_results"
   ]
  },
  {
   "cell_type": "code",
   "execution_count": null,
   "id": "5eb9c080",
   "metadata": {},
   "outputs": [],
   "source": [
    "X_train_cv1.shape"
   ]
  },
  {
   "cell_type": "code",
   "execution_count": null,
   "id": "cbbcd6a8",
   "metadata": {},
   "outputs": [],
   "source": [
    "# İlk modelimizden elde ettiğimiz hata matrisi\n",
    "cm1 = conf_matrix(y_test, y_pred_cv1)\n",
    "train_acc = accuracy_score(y_train,lr1.predict(X_train_cv1))\n",
    "cm1.insert(0,\"Model\",\"LR(Word)\")\n",
    "cm1[\"Accuracy (Train)\"]=train_acc\n",
    "cm1"
   ]
  },
  {
   "cell_type": "code",
   "execution_count": null,
   "id": "9d454a53",
   "metadata": {},
   "outputs": [],
   "source": [
    "# İkinci modelimizden elde ettiğimiz hata matrisi\n",
    "cm2 = conf_matrix(y_test, y_pred_cv2)\n",
    "cm2.insert(0,\"Model\",\"LR(N-Gram)\")\n",
    "cm2[\"Accuracy (Train)\"]=accuracy_score(y_train,lr2.predict(X_train_cv2))\n",
    "cm2"
   ]
  },
  {
   "cell_type": "code",
   "execution_count": null,
   "id": "96d85de2",
   "metadata": {},
   "outputs": [],
   "source": [
    "# İlk olarak MultinomialNB algoritmasıyla modellerimizi eğitelim\n",
    "from sklearn.naive_bayes import MultinomialNB\n",
    "\n",
    "mnb1 = MultinomialNB()\n",
    "mnb1.fit(X_train_cv1, y_train)\n",
    "\n",
    "mnb2 = MultinomialNB()\n",
    "mnb2.fit(X_train_cv2, y_train)\n",
    "\n",
    "y_pred_cv1_mnb = mnb1.predict(X_test_cv1)\n",
    "y_pred_cv2_mnb = mnb2.predict(X_test_cv2)"
   ]
  },
  {
   "cell_type": "code",
   "execution_count": null,
   "id": "f75e811e",
   "metadata": {},
   "outputs": [],
   "source": [
    "# MultinomialNB & Kelime\n",
    "cm3 = conf_matrix(y_test, y_pred_cv1_mnb)\n",
    "cm3.insert(0,\"Model\",\"MultinomialNB(Word)\")\n",
    "cm3[\"Accuracy (Train)\"]=accuracy_score(y_train,mnb1.predict(X_train_cv1))\n",
    "cm3"
   ]
  },
  {
   "cell_type": "code",
   "execution_count": null,
   "id": "9f01d45a",
   "metadata": {},
   "outputs": [],
   "source": [
    "# MultinomialNB & 2'li N-Grams\n",
    "cm4 = conf_matrix(y_test, y_pred_cv2_mnb)\n",
    "cm4.insert(0,\"Model\",\"MultinomialNB(N-Gram)\")\n",
    "cm4[\"Accuracy (Train)\"]=accuracy_score(y_train,mnb2.predict(X_train_cv2))\n",
    "cm4"
   ]
  },
  {
   "cell_type": "code",
   "execution_count": null,
   "id": "240014fd",
   "metadata": {},
   "outputs": [],
   "source": [
    "# Ardından da BernoulliNB algoritmasıyla\n",
    "from sklearn.naive_bayes import BernoulliNB\n",
    "\n",
    "bnb1 = BernoulliNB()\n",
    "bnb1.fit(X_train_cv1, y_train)\n",
    "\n",
    "bnb2 = BernoulliNB()\n",
    "bnb2.fit(X_train_cv2, y_train)\n",
    "\n",
    "y_pred_cv1_bnb = bnb1.predict(X_test_cv1)\n",
    "y_pred_cv2_bnb = bnb2.predict(X_test_cv2)"
   ]
  },
  {
   "cell_type": "code",
   "execution_count": null,
   "id": "9f65601f",
   "metadata": {},
   "outputs": [],
   "source": [
    "# BernoulliNB & Kelime\n",
    "cm5 = conf_matrix(y_test, y_pred_cv1_bnb)\n",
    "cm5.insert(0,\"Model\",\"BernoulliNB(Word)\")\n",
    "cm5[\"Accuracy (Train)\"]=accuracy_score(y_train,bnb1.predict(X_train_cv1))\n",
    "cm5"
   ]
  },
  {
   "cell_type": "code",
   "execution_count": null,
   "id": "b72159b7",
   "metadata": {},
   "outputs": [],
   "source": [
    "# BernoulliNB & 2'li N-Grams\n",
    "cm6 = conf_matrix(y_test, y_pred_cv2_bnb)\n",
    "cm6.insert(0,\"Model\",\"BernoulliNB(N-Gram)\")\n",
    "cm6[\"Accuracy (Train)\"]=accuracy_score(y_train,bnb2.predict(X_train_cv2))\n",
    "cm6"
   ]
  },
  {
   "cell_type": "code",
   "execution_count": null,
   "id": "57d13070",
   "metadata": {},
   "outputs": [],
   "source": [
    "#SVm\n",
    "from sklearn import model_selection, naive_bayes, svm\n",
    "svm1 = svm.SVC(probability=True)\n",
    "svm1.fit(X_train_cv1, y_train)\n",
    "\n",
    "svm2 = svm.SVC(probability=True)\n",
    "svm2.fit(X_train_cv2, y_train)\n",
    "\n",
    "y_pred_cv1_svm = svm1.predict(X_test_cv1)\n",
    "y_pred_cv2_svm = svm2.predict(X_test_cv2)"
   ]
  },
  {
   "cell_type": "code",
   "execution_count": null,
   "id": "e00aa12d",
   "metadata": {},
   "outputs": [],
   "source": [
    "# svm & Kelime\n",
    "cm7 = conf_matrix(y_test, y_pred_cv1_svm)\n",
    "cm7.insert(0,\"Model\",\"SVM(Word)\")\n",
    "cm7[\"Accuracy (Train)\"]=accuracy_score(y_train,svm1.predict(X_train_cv1))\n",
    "cm7"
   ]
  },
  {
   "cell_type": "code",
   "execution_count": null,
   "id": "6d67a639",
   "metadata": {},
   "outputs": [],
   "source": [
    "# svm & 2'li N-grams\n",
    "cm8 = conf_matrix(y_test, y_pred_cv2_svm)\n",
    "cm8.insert(0,\"Model\",\"SVM(N-Gram)\")\n",
    "cm8[\"Accuracy (Train)\"]=accuracy_score(y_train,svm2.predict(X_train_cv2))\n",
    "cm8"
   ]
  },
  {
   "cell_type": "code",
   "execution_count": 12,
   "id": "decc8ba4",
   "metadata": {},
   "outputs": [],
   "source": [
    "from sklearn.svm import LinearSVC, SVC\n",
    "from nltk.classify.scikitlearn import SklearnClassifier\n",
    "svc1 = LinearSVC(dual=False)\n",
    "svc1.fit(X_train_cv1, y_train)\n",
    "\n",
    "svc2 = LinearSVC(dual=False)\n",
    "svc2.fit(X_train_cv2, y_train)\n",
    "\n",
    "y_pred_cv1_svc = svc1.predict(X_test_cv1)\n",
    "y_pred_cv2_svc = svc2.predict(X_test_cv2)"
   ]
  },
  {
   "cell_type": "code",
   "execution_count": 13,
   "id": "f200cfec",
   "metadata": {},
   "outputs": [
    {
     "data": {
      "text/html": [
       "<div>\n",
       "<style scoped>\n",
       "    .dataframe tbody tr th:only-of-type {\n",
       "        vertical-align: middle;\n",
       "    }\n",
       "\n",
       "    .dataframe tbody tr th {\n",
       "        vertical-align: top;\n",
       "    }\n",
       "\n",
       "    .dataframe thead th {\n",
       "        text-align: right;\n",
       "    }\n",
       "</style>\n",
       "<table border=\"1\" class=\"dataframe\">\n",
       "  <thead>\n",
       "    <tr style=\"text-align: right;\">\n",
       "      <th></th>\n",
       "      <th>Model</th>\n",
       "      <th>Precision</th>\n",
       "      <th>Recall</th>\n",
       "      <th>F1 Score</th>\n",
       "      <th>Accuracy</th>\n",
       "      <th>Accuracy (Train)</th>\n",
       "    </tr>\n",
       "  </thead>\n",
       "  <tbody>\n",
       "    <tr>\n",
       "      <th>0</th>\n",
       "      <td>SVC(Word)</td>\n",
       "      <td>0.884696</td>\n",
       "      <td>0.90364</td>\n",
       "      <td>0.894068</td>\n",
       "      <td>0.889989</td>\n",
       "      <td>0.995757</td>\n",
       "    </tr>\n",
       "  </tbody>\n",
       "</table>\n",
       "</div>"
      ],
      "text/plain": [
       "       Model  Precision   Recall  F1 Score  Accuracy  Accuracy (Train)\n",
       "0  SVC(Word)   0.884696  0.90364  0.894068  0.889989          0.995757"
      ]
     },
     "execution_count": 13,
     "metadata": {},
     "output_type": "execute_result"
    },
    {
     "data": {
      "image/png": "[encoded data removed]",
      "text/plain": [
       "<Figure size 800x800 with 2 Axes>"
      ]
     },
     "metadata": {},
     "output_type": "display_data"
    }
   ],
   "source": [
    "# svc & Kelime\n",
    "cm9 = conf_matrix(y_test, y_pred_cv1_svc)\n",
    "cm9.insert(0,\"Model\",\"SVC(Word)\")\n",
    "cm9[\"Accuracy (Train)\"]=accuracy_score(y_train,svc1.predict(X_train_cv1))\n",
    "cm9"
   ]
  },
  {
   "cell_type": "code",
   "execution_count": 14,
   "id": "5e931e1b",
   "metadata": {},
   "outputs": [
    {
     "data": {
      "text/html": [
       "<div>\n",
       "<style scoped>\n",
       "    .dataframe tbody tr th:only-of-type {\n",
       "        vertical-align: middle;\n",
       "    }\n",
       "\n",
       "    .dataframe tbody tr th {\n",
       "        vertical-align: top;\n",
       "    }\n",
       "\n",
       "    .dataframe thead th {\n",
       "        text-align: right;\n",
       "    }\n",
       "</style>\n",
       "<table border=\"1\" class=\"dataframe\">\n",
       "  <thead>\n",
       "    <tr style=\"text-align: right;\">\n",
       "      <th></th>\n",
       "      <th>Model</th>\n",
       "      <th>Precision</th>\n",
       "      <th>Recall</th>\n",
       "      <th>F1 Score</th>\n",
       "      <th>Accuracy</th>\n",
       "      <th>Accuracy (Train)</th>\n",
       "    </tr>\n",
       "  </thead>\n",
       "  <tbody>\n",
       "    <tr>\n",
       "      <th>0</th>\n",
       "      <td>SVC(N-Gram)</td>\n",
       "      <td>0.90625</td>\n",
       "      <td>0.931478</td>\n",
       "      <td>0.918691</td>\n",
       "      <td>0.915292</td>\n",
       "      <td>0.998586</td>\n",
       "    </tr>\n",
       "  </tbody>\n",
       "</table>\n",
       "</div>"
      ],
      "text/plain": [
       "         Model  Precision    Recall  F1 Score  Accuracy  Accuracy (Train)\n",
       "0  SVC(N-Gram)    0.90625  0.931478  0.918691  0.915292          0.998586"
      ]
     },
     "execution_count": 14,
     "metadata": {},
     "output_type": "execute_result"
    },
    {
     "data": {
      "image/png": "[encoded data removed]",
      "text/plain": [
       "<Figure size 800x800 with 2 Axes>"
      ]
     },
     "metadata": {},
     "output_type": "display_data"
    }
   ],
   "source": [
    "# svc & 2'li N-grams\n",
    "cm10 = conf_matrix(y_test, y_pred_cv2_svc)\n",
    "cm10.insert(0,\"Model\",\"SVC(N-Gram)\")\n",
    "cm10[\"Accuracy (Train)\"]=accuracy_score(y_train,svc2.predict(X_train_cv2))\n",
    "cm10"
   ]
  },
  {
   "cell_type": "code",
   "execution_count": null,
   "id": "f71ee377",
   "metadata": {},
   "outputs": [],
   "source": [
    "#random forest classifier  & word\n",
    "from sklearn.ensemble import RandomForestClassifier\n",
    "rfc1 = RandomForestClassifier()\n",
    "rfc1.fit(X_train_cv1, y_train)\n",
    "\n",
    "rfc2 = RandomForestClassifier()\n",
    "rfc2.fit(X_train_cv2, y_train)\n",
    "\n",
    "y_pred_cv1_rfc = rfc1.predict(X_test_cv1)\n",
    "y_pred_cv2_rfc = rfc2.predict(X_test_cv2)"
   ]
  },
  {
   "cell_type": "code",
   "execution_count": null,
   "id": "a60e78c4",
   "metadata": {},
   "outputs": [],
   "source": [
    "#rfc & word\n",
    "cm11 = conf_matrix(y_test,y_pred_cv1_rfc)\n",
    "cm11.insert(0,\"Model\",\"RFC(Word)\")\n",
    "cm11[\"Accuracy (Train)\"]=accuracy_score(y_train,rfc1.predict(X_train_cv1))\n",
    "cm11"
   ]
  },
  {
   "cell_type": "code",
   "execution_count": null,
   "id": "1313b44a",
   "metadata": {},
   "outputs": [],
   "source": [
    "# rfc & n-gram\n",
    "cm12 = conf_matrix(y_test,y_pred_cv2_rfc)\n",
    "cm12.insert(0,\"Model\",\"RFC(N-Gram)\")\n",
    "cm12[\"Accuracy (Train)\"]=accuracy_score(y_train,rfc2.predict(X_train_cv2))\n",
    "cm12"
   ]
  },
  {
   "cell_type": "code",
   "execution_count": null,
   "id": "10359917",
   "metadata": {},
   "outputs": [],
   "source": [
    "from sklearn.naive_bayes import GaussianNB\n",
    "gnb1 = GaussianNB()\n",
    "gnb1.fit(X_train_cv1.toarray(), y_train)\n",
    "\n",
    "gnb2 = GaussianNB()\n",
    "gnb2.fit(X_train_cv2.toarray(), y_train)\n",
    "\n",
    "y_pred_cv1_gnb = gnb1.predict(X_test_cv1.toarray())\n",
    "y_pred_cv2_gnb = gnb2.predict(X_test_cv2.toarray())"
   ]
  },
  {
   "cell_type": "code",
   "execution_count": null,
   "id": "ebd4a105",
   "metadata": {},
   "outputs": [],
   "source": [
    "#gnb & word\n",
    "cm13 = conf_matrix(y_test,y_pred_cv1_gnb)\n",
    "cm13.insert(0,\"Model\",\"GNB(Word)\")\n",
    "cm13[\"Accuracy (Train)\"]=accuracy_score(y_train,gnb1.predict(X_train_cv1.toarray()))\n",
    "cm13"
   ]
  },
  {
   "cell_type": "code",
   "execution_count": null,
   "id": "4eddaacc",
   "metadata": {},
   "outputs": [],
   "source": [
    "#gnb & 2'li N-Grams\n",
    "cm14 =conf_matrix(y_test,y_pred_cv2_gnb)\n",
    "cm14.insert(0,\"Model\",\"GNB(N-Gram)\")\n",
    "cm14[\"Accuracy (Train)\"]=accuracy_score(y_train,gnb2.predict(X_train_cv2.toarray()))\n",
    "cm14"
   ]
  },
  {
   "cell_type": "code",
   "execution_count": null,
   "id": "8f3a8656",
   "metadata": {},
   "outputs": [],
   "source": [
    "from sklearn.linear_model import Perceptron\n",
    "pct1 = Perceptron()\n",
    "pct1.fit(X_train_cv1,y_train)\n",
    "\n",
    "pct2 = Perceptron()\n",
    "pct2.fit(X_train_cv2,y_train)\n",
    "\n",
    "y_pred_cv1_pct = pct1.predict(X_test_cv1)\n",
    "y_pred_cv2_pct = pct2.predict(X_test_cv2)"
   ]
  },
  {
   "cell_type": "code",
   "execution_count": null,
   "id": "892276fc",
   "metadata": {},
   "outputs": [],
   "source": [
    "cm15 = conf_matrix(y_test,y_pred_cv1_pct)\n",
    "cm15.insert(0,\"Model\",\"Perceptron(Word)\")\n",
    "cm15[\"Accuracy (Train)\"]=accuracy_score(y_train,pct1.predict(X_train_cv1))\n",
    "cm15"
   ]
  },
  {
   "cell_type": "code",
   "execution_count": null,
   "id": "b006737d",
   "metadata": {},
   "outputs": [],
   "source": [
    "cm16 = conf_matrix(y_test,y_pred_cv2_pct)\n",
    "cm16.insert(0,\"Model\",\"Perceptron(N-Gram)\")\n",
    "cm16[\"Accuracy (Train)\"]=accuracy_score(y_train,pct2.predict(X_train_cv2))\n",
    "cm16"
   ]
  },
  {
   "cell_type": "code",
   "execution_count": null,
   "id": "b8d8be4d",
   "metadata": {},
   "outputs": [],
   "source": [
    "from sklearn.tree import DecisionTreeClassifier\n",
    "dtc1 = DecisionTreeClassifier()\n",
    "dtc1.fit(X_train_cv1,y_train)\n",
    "\n",
    "dtc2 = DecisionTreeClassifier()\n",
    "dtc2.fit(X_train_cv2,y_train)\n",
    "\n",
    "y_pred_cv1_dtc = dtc1.predict(X_test_cv1)\n",
    "y_pred_cv2_dtc = dtc2.predict(X_test_cv2)"
   ]
  },
  {
   "cell_type": "code",
   "execution_count": null,
   "id": "fcf4d771",
   "metadata": {},
   "outputs": [],
   "source": [
    "cm17 = conf_matrix(y_test,y_pred_cv1_dtc)\n",
    "cm17.insert(0,\"Model\",\"DecisionTree(Word)\")\n",
    "cm17[\"Accuracy (Train)\"]=accuracy_score(y_train,dtc1.predict(X_train_cv1))\n",
    "cm17"
   ]
  },
  {
   "cell_type": "code",
   "execution_count": null,
   "id": "0a641aa5",
   "metadata": {},
   "outputs": [],
   "source": [
    "cm18 =conf_matrix(y_test,y_pred_cv2_dtc)\n",
    "cm18.insert(0,\"Model\",\"DecisionTree(N-Gram)\")\n",
    "cm18[\"Accuracy (Train)\"]=accuracy_score(y_train,dtc2.predict(X_train_cv2))\n",
    "cm18"
   ]
  },
  {
   "cell_type": "code",
   "execution_count": null,
   "id": "ccfb84e0",
   "metadata": {},
   "outputs": [],
   "source": [
    "from xgboost import XGBClassifier\n",
    "y_train_0_1 = y_train.map(lambda x: x.replace(\"negative\",\"0\").replace(\"positive\",\"1\")).apply(int)\n",
    "y_test_0_1 = y_test.map(lambda x: x.replace(\"negative\",\"0\").replace(\"positive\",\"1\")).apply(int)\n",
    "xgb1 = XGBClassifier()\n",
    "xgb1.fit(X_train_cv1,y_train_0_1)\n",
    "\n",
    "xgb2 = XGBClassifier()\n",
    "xgb2.fit(X_train_cv2,y_train_0_1)\n",
    "\n",
    "y_pred_cv1_xgb = xgb1.predict(X_test_cv1)\n",
    "y_pred_cv2_xgb = xgb2.predict(X_test_cv2)"
   ]
  },
  {
   "cell_type": "code",
   "execution_count": null,
   "id": "746cff5e",
   "metadata": {},
   "outputs": [],
   "source": [
    "len(y_pred_cv1_xgb)"
   ]
  },
  {
   "cell_type": "code",
   "execution_count": null,
   "id": "16277327",
   "metadata": {},
   "outputs": [],
   "source": [
    "def conf_matrix_xgb(actual, predicted):\n",
    "    plt.figure(figsize=[8,8])\n",
    "    cm = confusion_matrix(actual, predicted)\n",
    "    sns.heatmap(cm, xticklabels=['Predicted Negative', 'Predicted Positive'], \n",
    "                yticklabels=['Actual Negative', 'Actual Positive'], annot=True,\n",
    "                fmt='d', annot_kws={'fontsize':35}, cmap=\"YlGnBu\", square=True);\n",
    "\n",
    "    accuracy = accuracy_score(actual, predicted)\n",
    "    precision = precision_score(actual, predicted, pos_label=0, zero_division=1)\n",
    "    recall = recall_score(actual, predicted, pos_label=0, zero_division=1)\n",
    "    f1 = f1_score(actual, predicted, pos_label=0, zero_division=1)\n",
    "    # pos_label parametresi precision, recall ve f1 score unu görmek istediğimiz labelı soruyor\n",
    "    # zero_division parametresi 0'a bölme işlemini gerçekleşirse uyarı verip vermeyeceğini soruyor (1=uyarı verme)\n",
    "\n",
    "    cm_results = [accuracy, precision, recall, f1]\n",
    "    cm_results = pd.DataFrame({\"Precision\":[precision],\n",
    "                             \"Recall\":[recall],\n",
    "                             \"F1 Score\":[f1],\n",
    "                             \"Accuracy\":[accuracy]})\n",
    "    return cm_results"
   ]
  },
  {
   "cell_type": "code",
   "execution_count": null,
   "id": "46f2a0b0",
   "metadata": {},
   "outputs": [],
   "source": [
    "cm19 = conf_matrix_xgb(y_test_0_1, y_pred_cv1_xgb)\n",
    "cm19.insert(0,\"Model\",\"XGBoost(Word)\")\n",
    "cm19[\"Accuracy (Train)\"]=accuracy_score(y_train_0_1,xgb1.predict(X_train_cv1))\n",
    "cm19"
   ]
  },
  {
   "cell_type": "code",
   "execution_count": null,
   "id": "e2f8163d",
   "metadata": {},
   "outputs": [],
   "source": [
    "cm20 = conf_matrix_xgb(y_test_0_1, y_pred_cv2_xgb)\n",
    "cm20.insert(0,\"Model\",\"XGBoost(N-Gram)\")\n",
    "cm20[\"Accuracy (Train)\"]=accuracy_score(y_train_0_1,xgb2.predict(X_train_cv2))\n",
    "cm20"
   ]
  },
  {
   "cell_type": "code",
   "execution_count": null,
   "id": "d728eabc",
   "metadata": {},
   "outputs": [],
   "source": [
    "from sklearn.ensemble import AdaBoostClassifier\n",
    "abc1 = AdaBoostClassifier()\n",
    "abc1.fit(X_train_cv1,y_train)\n",
    "\n",
    "abc2 = AdaBoostClassifier()\n",
    "abc2.fit(X_train_cv2,y_train)\n",
    "\n",
    "y_pred_cv1_abc = abc1.predict(X_test_cv1)\n",
    "y_pred_cv2_abc = abc2.predict(X_test_cv2)"
   ]
  },
  {
   "cell_type": "code",
   "execution_count": null,
   "id": "44748e61",
   "metadata": {},
   "outputs": [],
   "source": [
    "cm21 = conf_matrix(y_test,y_pred_cv1_abc)\n",
    "cm21.insert(0,\"Model\",\"AdaBoost(Word)\")\n",
    "cm21[\"Accuracy (Train)\"]=accuracy_score(y_train,abc1.predict(X_train_cv1))\n",
    "cm21"
   ]
  },
  {
   "cell_type": "code",
   "execution_count": null,
   "id": "df3efe67",
   "metadata": {},
   "outputs": [],
   "source": [
    "cm22 = conf_matrix(y_test,y_pred_cv2_abc)\n",
    "cm22.insert(0,\"Model\",\"AdaBoost(N-Gram)\")\n",
    "cm22[\"Accuracy (Train)\"]=accuracy_score(y_train,abc2.predict(X_train_cv2))\n",
    "cm22"
   ]
  },
  {
   "cell_type": "code",
   "execution_count": null,
   "id": "c6cd061c",
   "metadata": {},
   "outputs": [],
   "source": [
    "from sklearn.ensemble import BaggingClassifier\n",
    "bc1 = BaggingClassifier()\n",
    "bc1.fit(X_train_cv1,y_train)\n",
    "\n",
    "bc2 = BaggingClassifier()\n",
    "bc2.fit(X_train_cv2,y_train)\n",
    "\n",
    "y_pred_cv1_bc = bc1.predict(X_test_cv1)\n",
    "y_pred_cv2_bc = bc2.predict(X_test_cv2)"
   ]
  },
  {
   "cell_type": "code",
   "execution_count": null,
   "id": "4c9768e5",
   "metadata": {},
   "outputs": [],
   "source": [
    "cm23 = conf_matrix(y_test,y_pred_cv1_bc)\n",
    "cm23.insert(0,\"Model\",\"Bagging(Word)\")\n",
    "cm23[\"Accuracy (Train)\"]=accuracy_score(y_train,bc1.predict(X_train_cv1))\n",
    "cm23"
   ]
  },
  {
   "cell_type": "code",
   "execution_count": null,
   "id": "327e82b5",
   "metadata": {},
   "outputs": [],
   "source": [
    "cm24 = conf_matrix(y_test,y_pred_cv2_bc)\n",
    "cm24.insert(0,\"Model\",\"Bagging(N-Gram)\")\n",
    "cm24[\"Accuracy (Train)\"]=accuracy_score(y_train,bc2.predict(X_train_cv2))\n",
    "cm24"
   ]
  },
  {
   "cell_type": "code",
   "execution_count": null,
   "id": "1098049c",
   "metadata": {},
   "outputs": [],
   "source": [
    "score_df = [cm1,cm2,cm3,cm4,cm5,cm6,cm7,cm8,cm9,cm10,cm11,cm12,cm13,cm14,cm15,cm16,cm17,cm18,cm19,cm20,cm21,cm22,cm23,cm24]\n",
    "scores = pd.concat(score_df)  \n",
    "scores.set_index(\"Model\").sort_values(by=\"F1 Score\",ascending=False)"
   ]
  },
  {
   "cell_type": "code",
   "execution_count": null,
   "id": "45f482e1",
   "metadata": {},
   "outputs": [],
   "source": [
    "LinearSVC()"
   ]
  },
  {
   "cell_type": "code",
   "execution_count": null,
   "id": "bf35c98b",
   "metadata": {},
   "outputs": [],
   "source": [
    "from sklearn.model_selection import GridSearchCV\n",
    "parameters= {\"penalty\":[\"l1\",\"l2\"],\n",
    "            \"loss\":[\"hinge\",\"squared_hinge\"],\n",
    "            \"dual\":[True,False],\n",
    "            \"multi_class\":[\"ovr\",\"crammer_singer\"],\n",
    "             \"C\":[1,1.5,2],\n",
    "            \"fit_intercept\":[True,False],\n",
    "            \"max_iter\":[2,3,4,5]}\n",
    "grid = GridSearchCV(estimator=LinearSVC(),\n",
    "                       param_grid = parameters,\n",
    "                       cv = 5, verbose=2, scoring='roc_auc')\n",
    "grid.fit(X_train_cv2,y_train)\n",
    "optimal_model = grid.best_estimator_\n",
    "print(\"Best parameters:\",optimal_model)"
   ]
  },
  {
   "cell_type": "code",
   "execution_count": null,
   "id": "3df3a92a",
   "metadata": {},
   "outputs": [],
   "source": [
    "opt_mnb = LinearSVC(fit_intercept=False, loss='hinge', max_iter=5).fit(X_train_cv2,y_train)\n",
    "y_pred_opt_mnb = opt_mnb.predict(X_test_cv2)"
   ]
  },
  {
   "cell_type": "code",
   "execution_count": null,
   "id": "d62b388f",
   "metadata": {},
   "outputs": [],
   "source": [
    "cm_opt = conf_matrix(y_test,y_pred_opt_mnb)\n",
    "cm_opt"
   ]
  },
  {
   "cell_type": "code",
   "execution_count": null,
   "id": "eac2f6f0",
   "metadata": {},
   "outputs": [],
   "source": [
    "# save the model to disk\n",
    "from joblib import dump, load\n",
    "\n",
    "# Modeli pickle kullanarak kaydetme\n",
    "dump(svc2, 'SVC_N_gram_model.pkl')"
   ]
  },
  {
   "cell_type": "code",
   "execution_count": 15,
   "id": "049e7d4d",
   "metadata": {},
   "outputs": [
    {
     "name": "stderr",
     "output_type": "stream",
     "text": [
      "[nltk_data] Downloading package stopwords to\n",
      "[nltk_data]     C:\\Users\\MERVE\\AppData\\Roaming\\nltk_data...\n",
      "[nltk_data]   Package stopwords is already up-to-date!\n"
     ]
    }
   ],
   "source": [
    "import string\n",
    "import nltk\n",
    "from nltk.corpus import stopwords\n",
    "nltk.download('stopwords')\n",
    "def text_process(msg):\n",
    "    nopunc =[char for char in msg if char not in string.punctuation]\n",
    "    nopunc=''.join(nopunc)\n",
    "    return ' '.join([word for word in nopunc.split() if word.lower() not in stopwords.words('english')])\n",
    "data.updated_text = data.updated_text.apply(text_process)"
   ]
  },
  {
   "cell_type": "code",
   "execution_count": null,
   "id": "94b58b12",
   "metadata": {
    "scrolled": true
   },
   "outputs": [],
   "source": [
    "from collections import Counter\n",
    "Counter(\" \".join(data[\"updated_text\"]).split()).most_common(100)"
   ]
  },
  {
   "cell_type": "code",
   "execution_count": 21,
   "id": "cc640a62",
   "metadata": {
    "scrolled": true
   },
   "outputs": [],
   "source": [
    "from collections import Counter\n",
    "negative = Counter(\" \".join(data[data.airline_sentiment==\"negative\"][\"updated_text\"]).split()).most_common(20)"
   ]
  },
  {
   "cell_type": "code",
   "execution_count": 19,
   "id": "4e44abd7",
   "metadata": {},
   "outputs": [
    {
     "data": {
      "text/plain": [
       "[('flight', 2988),\n",
       " ('hour', 1188),\n",
       " ('get', 983),\n",
       " ('airport', 827),\n",
       " ('delay', 823),\n",
       " ('cancel', 803),\n",
       " ('servic', 711),\n",
       " ('unit', 697),\n",
       " ('custom', 670),\n",
       " ('time', 670)]"
      ]
     },
     "execution_count": 19,
     "metadata": {},
     "output_type": "execute_result"
    }
   ],
   "source": [
    "negative"
   ]
  },
  {
   "cell_type": "code",
   "execution_count": 45,
   "id": "838ef422",
   "metadata": {},
   "outputs": [
    {
     "data": {
      "image/png": "[encoded data removed]",
      "text/plain": [
       "<Figure size 1400x700 with 1 Axes>"
      ]
     },
     "metadata": {},
     "output_type": "display_data"
    }
   ],
   "source": [
    "import matplotlib.pyplot as plt\n",
    "import matplotlib.cm as cm\n",
    "from matplotlib.colors import Normalize\n",
    "names = [i[0] for i in negative]\n",
    "values = [i[1] for i in negative]\n",
    "\n",
    "plt.figure(figsize=[14,7])\n",
    "# plt.grid(color = 'grey', linestyle=\"--\", linewidth = 0.5)\n",
    "sns.set_theme(style=\"whitegrid\")\n",
    "\n",
    "plt.bar(range(len(negative)), values, tick_label=names)\n",
    "plt.title(\"Most Common 20 words in Negative Tweets\")\n",
    "plt.ylabel(\"Word Count\")\n",
    "plt.xlabel(\"Words\")\n",
    "plt.show()"
   ]
  },
  {
   "cell_type": "code",
   "execution_count": null,
   "id": "f0359385",
   "metadata": {},
   "outputs": [],
   "source": [
    "k = dict(sorted(negative.items(),key=lambda x:x[1],reverse = True))"
   ]
  },
  {
   "cell_type": "code",
   "execution_count": null,
   "id": "97f9f403",
   "metadata": {},
   "outputs": [],
   "source": [
    "k"
   ]
  },
  {
   "cell_type": "code",
   "execution_count": 46,
   "id": "694cf2b4",
   "metadata": {
    "scrolled": true
   },
   "outputs": [],
   "source": [
    "from collections import Counter\n",
    "positive = Counter(\" \".join(data[data.airline_sentiment==\"positive\"][\"updated_text\"]).split()).most_common(20)"
   ]
  },
  {
   "cell_type": "code",
   "execution_count": 47,
   "id": "19c1d55d",
   "metadata": {},
   "outputs": [
    {
     "data": {
      "image/png": "[encoded data removed]",
      "text/plain": [
       "<Figure size 1400x700 with 1 Axes>"
      ]
     },
     "metadata": {},
     "output_type": "display_data"
    }
   ],
   "source": [
    "names = [i[0] for i in positive]\n",
    "values = [i[1] for i in positive]\n",
    "\n",
    "plt.figure(figsize=[14,7])\n",
    "# plt.grid(color = 'grey', linestyle=\"--\", linewidth = 0.5)\n",
    "sns.set_theme(style=\"whitegrid\")\n",
    "\n",
    "plt.bar(range(len(positive)), values, tick_label=names)\n",
    "plt.title(\"Most Common 20 words in Positive Tweets\")\n",
    "plt.ylabel(\"Word Count\")\n",
    "plt.xlabel(\"Words\")\n",
    "plt.show()"
   ]
  },
  {
   "cell_type": "code",
   "execution_count": null,
   "id": "30115c01",
   "metadata": {},
   "outputs": [],
   "source": [
    "y_pred_cv2_svc"
   ]
  },
  {
   "cell_type": "code",
   "execution_count": null,
   "id": "998e2b4e",
   "metadata": {},
   "outputs": [],
   "source": [
    "!pip install wordcloud"
   ]
  },
  {
   "cell_type": "code",
   "execution_count": null,
   "id": "4bf4b828",
   "metadata": {},
   "outputs": [],
   "source": [
    "import seaborn as sns\n",
    "import matplotlib.pyplot as plt\n",
    "from wordcloud import WordCloud"
   ]
  },
  {
   "cell_type": "code",
   "execution_count": null,
   "id": "3907a5d4",
   "metadata": {},
   "outputs": [],
   "source": [
    "sentence = []\n",
    "\n",
    "for i in negative:\n",
    "    sentence.append(i)\n",
    "    \n",
    "text_ = \" \".join(map(str, sentence)) \n",
    "\n",
    "wordcloud = WordCloud(width = 3000, \n",
    "                      height = 3000, \n",
    "                      max_font_size = 300, \n",
    "                      colormap = \"twilight_shifted\").generate(text_)\n",
    "\n",
    "plt.figure(figsize = (20,17))\n",
    "plt.imshow(wordcloud, interpolation = \"bilinear\")\n",
    "plt.axis(\"off\")\n",
    "plt.show()"
   ]
  },
  {
   "cell_type": "code",
   "execution_count": null,
   "id": "68dbf4f0",
   "metadata": {},
   "outputs": [],
   "source": [
    "con_df = data.copy()"
   ]
  },
  {
   "cell_type": "code",
   "execution_count": null,
   "id": "22e24851",
   "metadata": {},
   "outputs": [],
   "source": [
    "indexes =[]\n",
    "c=1\n",
    "for txt in X_test:\n",
    "    if c==1:\n",
    "        print(type(txt[0]))\n",
    "    for dt in data.updated_text:\n",
    "        if c==1:\n",
    "            print(type(dt))\n",
    "        c+=1\n",
    "        if txt[0] == dt:\n",
    "            indexes.append(data[data.updated_text == dt].index)            "
   ]
  },
  {
   "cell_type": "code",
   "execution_count": null,
   "id": "37c997f1",
   "metadata": {},
   "outputs": [],
   "source": [
    "len(indexes)"
   ]
  },
  {
   "cell_type": "code",
   "execution_count": null,
   "id": "eec3527f",
   "metadata": {},
   "outputs": [],
   "source": [
    "# Önce test setinin orijinal halini çağıralım:\n",
    "actual_table = data.iloc[X_test.index] # burada target sütunu da var!\n",
    "actual_table.reset_index(drop=True,inplace=True)\n",
    "# Tahmin sütununu ekleyelim:\n",
    "data = pd.concat([actual_table,pd.Series(y_pred_cv2_svc)],axis=1).rename(columns={0:\"PRED\"})\n",
    "# # Fark sütunu\n",
    "# data[\"Err\"] = round(data[\"PRED\"] - data[\"ATaxi_min\"],1)\n",
    "# # Mutlak Fark sütunu\n",
    "# data[\"AbsErr\"] = np.abs(data[\"Err\"])\n",
    "# data"
   ]
  },
  {
   "cell_type": "code",
   "execution_count": null,
   "id": "28e7e1e8",
   "metadata": {},
   "outputs": [],
   "source": [
    "from sklearn.metrics import precision_recall_curve\n",
    "\n",
    "y_scores = mnb2.predict_proba(X_test_cv2)\n",
    "y_scores = y_scores[:,1]\n",
    "\n",
    "precision, recall, threshold = precision_recall_curve(y_test_0_1, y_scores)\n",
    "def plot_precision_and_recall(precision, recall, threshold):\n",
    "    plt.plot(threshold, precision[:-1], \"r-\", label=\"precision\")\n",
    "    plt.plot(threshold, recall[:-1], \"b\", label=\"recall\")\n",
    "    plt.title(\"Precision - Recall Curve (Random Forest Classifier)\",fontsize=19)\n",
    "    plt.xlabel(\"Threshold\", fontsize=14)\n",
    "    plt.legend(loc=\"upper right\", fontsize=12)\n",
    "    plt.ylim([0, 1])\n",
    "\n",
    "plt.figure(figsize=[14,7])\n",
    "plot_precision_and_recall(precision, recall, threshold)"
   ]
  },
  {
   "cell_type": "code",
   "execution_count": null,
   "id": "eea7a119",
   "metadata": {},
   "outputs": [],
   "source": [
    "from sklearn.metrics import auc\n",
    "print(\"Area under Curve:\", round(auc(recall,precision),2))"
   ]
  },
  {
   "cell_type": "code",
   "execution_count": null,
   "id": "d9d9b719",
   "metadata": {},
   "outputs": [],
   "source": [
    "from sklearn.metrics import roc_curve\n",
    "\n",
    "false_positive_rate, true_positive_rate, thresholds = roc_curve(y_test_0_1, y_scores)\n",
    "\n",
    "def plot_roc_curve(false_positive_rate, true_positive_rate, label=None):\n",
    "    plt.plot(false_positive_rate, true_positive_rate, linewidth=4, label=label)\n",
    "    plt.plot([0, 1], [0, 1], 'r')\n",
    "    plt.axis([0, 1, 0, 1])\n",
    "    plt.title(\"ROC Curve (Random Forest Classifier)\",fontsize=19)\n",
    "    plt.xlabel('False Positive Rate (FPR)', fontsize=14)\n",
    "    plt.ylabel('True Positive Rate (TPR)', fontsize=14)\n",
    "\n",
    "plt.figure(figsize=[14,7])\n",
    "plot_roc_curve(false_positive_rate, true_positive_rate)"
   ]
  },
  {
   "cell_type": "code",
   "execution_count": null,
   "id": "eed159eb",
   "metadata": {},
   "outputs": [],
   "source": [
    "# from sklearn.metrics import roc_auc_score\n",
    "from sklearn.metrics import roc_curve\n",
    "roc_curve(y_test, test_probs)"
   ]
  }
 ],
 "metadata": {
  "kernelspec": {
   "display_name": "Python 3 (ipykernel)",
   "language": "python",
   "name": "python3"
  },
  "language_info": {
   "codemirror_mode": {
    "name": "ipython",
    "version": 3
   },
   "file_extension": ".py",
   "mimetype": "text/x-python",
   "name": "python",
   "nbconvert_exporter": "python",
   "pygments_lexer": "ipython3",
   "version": "3.9.13"
  }
 },
 "nbformat": 4,
 "nbformat_minor": 5
}
