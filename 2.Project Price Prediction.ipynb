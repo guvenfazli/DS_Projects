{
 "cells": [
  {
   "cell_type": "code",
   "execution_count": 1,
   "metadata": {},
   "outputs": [],
   "source": [
    "import pandas as pd\n",
    "import numpy as np"
   ]
  },
  {
   "cell_type": "code",
   "execution_count": 2,
   "metadata": {},
   "outputs": [],
   "source": [
    "df = pd.read_csv(\"trendyol_laptops_4934.csv\")"
   ]
  },
  {
   "cell_type": "code",
   "execution_count": 3,
   "metadata": {},
   "outputs": [],
   "source": [
    "df.drop([\"Unnamed: 0\"],axis=1,inplace=True)"
   ]
  },
  {
   "cell_type": "code",
   "execution_count": 4,
   "metadata": {},
   "outputs": [],
   "source": [
    "# markaları alırken başlıklarla birlikte almışım. sadece marka olacak şekilde ayırdım.\n",
    "df[\"Brand\"]=df[\"Brand\"].apply(lambda x:x.split(\" \")[0])"
   ]
  },
  {
   "cell_type": "code",
   "execution_count": 5,
   "metadata": {},
   "outputs": [],
   "source": [
    "df[\"Price\"] = df[\"Price\"].apply(lambda x : float(x.replace(\".\",\"\").replace(\",\",\".\")))"
   ]
  },
  {
   "cell_type": "code",
   "execution_count": 6,
   "metadata": {},
   "outputs": [
    {
     "name": "stdout",
     "output_type": "stream",
     "text": [
      "<class 'pandas.core.frame.DataFrame'>\n",
      "RangeIndex: 4934 entries, 0 to 4933\n",
      "Data columns (total 43 columns):\n",
      " #   Column                       Non-Null Count  Dtype  \n",
      "---  ------                       --------------  -----  \n",
      " 0   Arttırılabilir Azami Bellek  326 non-null    object \n",
      " 1   Bağlantılar                  1457 non-null   object \n",
      " 2   Brand                        4934 non-null   object \n",
      " 3   Cihaz Ağırlığı               4934 non-null   object \n",
      " 4   Dokunmatik Ekran             4932 non-null   object \n",
      " 5   Ekran Boyutu                 4934 non-null   object \n",
      " 6   Ekran Kartı                  4934 non-null   object \n",
      " 7   Ekran Kartı Bellek Tipi      4932 non-null   object \n",
      " 8   Ekran Kartı Hafızası         4890 non-null   object \n",
      " 9   Ekran Kartı Tipi             4933 non-null   object \n",
      " 10  Ekran Yenileme Hızı          4666 non-null   object \n",
      " 11  Ekran Özelliği               154 non-null    object \n",
      " 12  Garanti Süresi               3950 non-null   object \n",
      " 13  Garanti Tipi                 4934 non-null   object \n",
      " 14  Görüntü Kalitesi             75 non-null     object \n",
      " 15  HDMI                         135 non-null    object \n",
      " 16  Hard Disk Kapasitesi         4672 non-null   object \n",
      " 17  Kapasite                     1490 non-null   object \n",
      " 18  Klavye                       4933 non-null   object \n",
      " 19  Kullanım Amacı               4934 non-null   object \n",
      " 20  Maksimum İşlemci Hızı (GHz)  1834 non-null   float64\n",
      " 21  Okula Dönüş                  60 non-null     object \n",
      " 22  Optik Sürücü                 11 non-null     object \n",
      " 23  Optik Sürücü Tipi            4876 non-null   object \n",
      " 24  Panel Tipi                   1916 non-null   object \n",
      " 25  Price                        4934 non-null   float64\n",
      " 26  Ram (Sistem Belleği)         4934 non-null   object \n",
      " 27  Ram (Sistem Belleği) Tipi    4659 non-null   object \n",
      " 28  Renk                         4872 non-null   object \n",
      " 29  SSD Kapasitesi               4933 non-null   object \n",
      " 30  Soket Tipi                   9 non-null      object \n",
      " 31  Star                         4934 non-null   float64\n",
      " 32  Temel İşlemci Hızı (GHz)     2517 non-null   object \n",
      " 33  Title                        4934 non-null   object \n",
      " 34  Çözünürlük                   4934 non-null   object \n",
      " 35  Çözünürlük Standartı         4901 non-null   object \n",
      " 36  İşlemci Frekansı             22 non-null     object \n",
      " 37  İşlemci Modeli               4932 non-null   object \n",
      " 38  İşlemci Nesli                4827 non-null   object \n",
      " 39  İşlemci Tipi                 4934 non-null   object \n",
      " 40  İşlemci Çekirdek Sayısı      4804 non-null   object \n",
      " 41  İşletim Sistemi              4934 non-null   object \n",
      " 42  Şarjlı Kullanım Süresi       985 non-null    object \n",
      "dtypes: float64(3), object(40)\n",
      "memory usage: 1.6+ MB\n"
     ]
    }
   ],
   "source": [
    "df.info()"
   ]
  },
  {
   "cell_type": "code",
   "execution_count": 7,
   "metadata": {},
   "outputs": [],
   "source": [
    "df.drop([\"Temel İşlemci Hızı (GHz)\",\"Arttırılabilir Azami Bellek\",\"Bağlantılar\",\"Ekran Özelliği\",\"Görüntü Kalitesi\",\"HDMI\",\"Kapasite\",\"Maksimum İşlemci Hızı (GHz)\",\"Okula Dönüş\",\"Optik Sürücü\",\"Panel Tipi\",\"Soket Tipi\",\"İşlemci Frekansı\",\"Şarjlı Kullanım Süresi\"],axis=1,inplace=True)"
   ]
  },
  {
   "cell_type": "markdown",
   "metadata": {},
   "source": [
    "###  Çok fazla null değere sahip sütunları temizledim."
   ]
  },
  {
   "cell_type": "code",
   "execution_count": 8,
   "metadata": {},
   "outputs": [
    {
     "name": "stdout",
     "output_type": "stream",
     "text": [
      "<class 'pandas.core.frame.DataFrame'>\n",
      "RangeIndex: 4934 entries, 0 to 4933\n",
      "Data columns (total 29 columns):\n",
      " #   Column                     Non-Null Count  Dtype  \n",
      "---  ------                     --------------  -----  \n",
      " 0   Brand                      4934 non-null   object \n",
      " 1   Cihaz Ağırlığı             4934 non-null   object \n",
      " 2   Dokunmatik Ekran           4932 non-null   object \n",
      " 3   Ekran Boyutu               4934 non-null   object \n",
      " 4   Ekran Kartı                4934 non-null   object \n",
      " 5   Ekran Kartı Bellek Tipi    4932 non-null   object \n",
      " 6   Ekran Kartı Hafızası       4890 non-null   object \n",
      " 7   Ekran Kartı Tipi           4933 non-null   object \n",
      " 8   Ekran Yenileme Hızı        4666 non-null   object \n",
      " 9   Garanti Süresi             3950 non-null   object \n",
      " 10  Garanti Tipi               4934 non-null   object \n",
      " 11  Hard Disk Kapasitesi       4672 non-null   object \n",
      " 12  Klavye                     4933 non-null   object \n",
      " 13  Kullanım Amacı             4934 non-null   object \n",
      " 14  Optik Sürücü Tipi          4876 non-null   object \n",
      " 15  Price                      4934 non-null   float64\n",
      " 16  Ram (Sistem Belleği)       4934 non-null   object \n",
      " 17  Ram (Sistem Belleği) Tipi  4659 non-null   object \n",
      " 18  Renk                       4872 non-null   object \n",
      " 19  SSD Kapasitesi             4933 non-null   object \n",
      " 20  Star                       4934 non-null   float64\n",
      " 21  Title                      4934 non-null   object \n",
      " 22  Çözünürlük                 4934 non-null   object \n",
      " 23  Çözünürlük Standartı       4901 non-null   object \n",
      " 24  İşlemci Modeli             4932 non-null   object \n",
      " 25  İşlemci Nesli              4827 non-null   object \n",
      " 26  İşlemci Tipi               4934 non-null   object \n",
      " 27  İşlemci Çekirdek Sayısı    4804 non-null   object \n",
      " 28  İşletim Sistemi            4934 non-null   object \n",
      "dtypes: float64(2), object(27)\n",
      "memory usage: 1.1+ MB\n"
     ]
    }
   ],
   "source": [
    "df.info()"
   ]
  },
  {
   "cell_type": "code",
   "execution_count": 9,
   "metadata": {},
   "outputs": [
    {
     "data": {
      "text/plain": [
       "LENOVO          2181\n",
       "ASUS             833\n",
       "HP               640\n",
       "Dell             539\n",
       "ACER             198\n",
       "MSI              121\n",
       "Apple            106\n",
       "Casper            93\n",
       "Monster           56\n",
       "Huawei            22\n",
       "Toshiba           22\n",
       "Game              21\n",
       "Everest           13\n",
       "Hometech          11\n",
       "Dynabook           9\n",
       "Gigabyte           8\n",
       "Technopc           7\n",
       "Shenzhen           7\n",
       "Microsoft          7\n",
       "İXTECH             6\n",
       "Honor              5\n",
       "DEL                4\n",
       "I-LIFE             4\n",
       "Dahua              3\n",
       "Life               3\n",
       "FUJITSU            2\n",
       "HADRON             2\n",
       "EVOO               2\n",
       "Excalibur          1\n",
       "Thomson            1\n",
       "Intel              1\n",
       "ILIFE              1\n",
       "toystower          1\n",
       "FSFBOOK            1\n",
       "Sorbibilisim       1\n",
       "sorbi              1\n",
       "Xi-Sirius          1\n",
       "Name: Brand, dtype: int64"
      ]
     },
     "execution_count": 9,
     "metadata": {},
     "output_type": "execute_result"
    }
   ],
   "source": [
    "df[\"Brand\"].value_counts()"
   ]
  },
  {
   "cell_type": "markdown",
   "metadata": {},
   "source": [
    "###  100 taneden az sayıdaki marka isimlerini veri setimizden kaldırdık."
   ]
  },
  {
   "cell_type": "code",
   "execution_count": 10,
   "metadata": {},
   "outputs": [],
   "source": [
    "mask = (df[\"Brand\"] == \"LENOVO\") | (df[\"Brand\"] == \"ASUS\") | (df[\"Brand\"] == \"HP\") | (df[\"Brand\"] == \"Dell\") | (df[\"Brand\"] == \"ACER\")  | (df[\"Brand\"] == \"MSI\") | (df[\"Brand\"] == \"Apple\") \n",
    "new_df = df[mask]"
   ]
  },
  {
   "cell_type": "code",
   "execution_count": 11,
   "metadata": {},
   "outputs": [],
   "source": [
    "new_df.reset_index(inplace=True)"
   ]
  },
  {
   "cell_type": "code",
   "execution_count": 12,
   "metadata": {},
   "outputs": [
    {
     "name": "stderr",
     "output_type": "stream",
     "text": [
      "C:\\Users\\MERVE\\anaconda3\\lib\\site-packages\\pandas\\core\\frame.py:4163: SettingWithCopyWarning: \n",
      "A value is trying to be set on a copy of a slice from a DataFrame\n",
      "\n",
      "See the caveats in the documentation: https://pandas.pydata.org/pandas-docs/stable/user_guide/indexing.html#returning-a-view-versus-a-copy\n",
      "  return super().drop(\n"
     ]
    }
   ],
   "source": [
    "new_df.drop([\"index\"],axis=1,inplace=True)"
   ]
  },
  {
   "cell_type": "code",
   "execution_count": 13,
   "metadata": {},
   "outputs": [],
   "source": [
    "new_df.reset_index(inplace=True)"
   ]
  },
  {
   "cell_type": "code",
   "execution_count": 14,
   "metadata": {},
   "outputs": [
    {
     "data": {
      "text/html": [
       "<div>\n",
       "<style scoped>\n",
       "    .dataframe tbody tr th:only-of-type {\n",
       "        vertical-align: middle;\n",
       "    }\n",
       "\n",
       "    .dataframe tbody tr th {\n",
       "        vertical-align: top;\n",
       "    }\n",
       "\n",
       "    .dataframe thead th {\n",
       "        text-align: right;\n",
       "    }\n",
       "</style>\n",
       "<table border=\"1\" class=\"dataframe\">\n",
       "  <thead>\n",
       "    <tr style=\"text-align: right;\">\n",
       "      <th></th>\n",
       "      <th>index</th>\n",
       "      <th>Brand</th>\n",
       "      <th>Cihaz Ağırlığı</th>\n",
       "      <th>Dokunmatik Ekran</th>\n",
       "      <th>Ekran Boyutu</th>\n",
       "      <th>Ekran Kartı</th>\n",
       "      <th>Ekran Kartı Bellek Tipi</th>\n",
       "      <th>Ekran Kartı Hafızası</th>\n",
       "      <th>Ekran Kartı Tipi</th>\n",
       "      <th>Ekran Yenileme Hızı</th>\n",
       "      <th>...</th>\n",
       "      <th>SSD Kapasitesi</th>\n",
       "      <th>Star</th>\n",
       "      <th>Title</th>\n",
       "      <th>Çözünürlük</th>\n",
       "      <th>Çözünürlük Standartı</th>\n",
       "      <th>İşlemci Modeli</th>\n",
       "      <th>İşlemci Nesli</th>\n",
       "      <th>İşlemci Tipi</th>\n",
       "      <th>İşlemci Çekirdek Sayısı</th>\n",
       "      <th>İşletim Sistemi</th>\n",
       "    </tr>\n",
       "  </thead>\n",
       "  <tbody>\n",
       "    <tr>\n",
       "      <th>0</th>\n",
       "      <td>0</td>\n",
       "      <td>Apple</td>\n",
       "      <td>Belirtilmemiş</td>\n",
       "      <td>Yok</td>\n",
       "      <td>13 inç</td>\n",
       "      <td>M1 7 Çekirdekli</td>\n",
       "      <td>Belirtilmemiş</td>\n",
       "      <td>Paylaşımlı</td>\n",
       "      <td>Dahili</td>\n",
       "      <td>Belirtilmemiş</td>\n",
       "      <td>...</td>\n",
       "      <td>256 GB</td>\n",
       "      <td>4.84</td>\n",
       "      <td>Macbook Air 13'' M1 8gb 256gb Ssd Uzay Grisi ...</td>\n",
       "      <td>2560 x 1600</td>\n",
       "      <td>Retina</td>\n",
       "      <td>Belirtilmemiş</td>\n",
       "      <td>Belirtilmemiş</td>\n",
       "      <td>Apple M1</td>\n",
       "      <td>8</td>\n",
       "      <td>Mac Os</td>\n",
       "    </tr>\n",
       "    <tr>\n",
       "      <th>1</th>\n",
       "      <td>1</td>\n",
       "      <td>LENOVO</td>\n",
       "      <td>2 kg ve Altı</td>\n",
       "      <td>Yok</td>\n",
       "      <td>14 inç</td>\n",
       "      <td>Intel UHD Graphics 600</td>\n",
       "      <td>DDR4</td>\n",
       "      <td>Paylaşımlı</td>\n",
       "      <td>Dahili</td>\n",
       "      <td>Belirtilmemiş</td>\n",
       "      <td>...</td>\n",
       "      <td>128 GB</td>\n",
       "      <td>4.25</td>\n",
       "      <td>Ideapad Intel Celeron N4020 4GB 128GB SSD 14\"...</td>\n",
       "      <td>1366 x 768</td>\n",
       "      <td>HD Ready (HD)</td>\n",
       "      <td>N4020</td>\n",
       "      <td>Belirtilmemiş</td>\n",
       "      <td>Intel Celeron</td>\n",
       "      <td>2</td>\n",
       "      <td>Free Dos</td>\n",
       "    </tr>\n",
       "    <tr>\n",
       "      <th>2</th>\n",
       "      <td>2</td>\n",
       "      <td>LENOVO</td>\n",
       "      <td>4 kg ve Üstü</td>\n",
       "      <td>Yok</td>\n",
       "      <td>16 inç</td>\n",
       "      <td>Nvidia GeForce RTX 3050 Ti</td>\n",
       "      <td>GDDR6</td>\n",
       "      <td>4 GB</td>\n",
       "      <td>Harici</td>\n",
       "      <td>165 Hz</td>\n",
       "      <td>...</td>\n",
       "      <td>512 GB</td>\n",
       "      <td>4.36</td>\n",
       "      <td>Ideapad Gaming 3 82sc0062tx Amd Ryzen5 6600h ...</td>\n",
       "      <td>Belirtilmemiş</td>\n",
       "      <td>WUXGA</td>\n",
       "      <td>6600H</td>\n",
       "      <td>6. Nesil</td>\n",
       "      <td>AMD Ryzen 5</td>\n",
       "      <td>6</td>\n",
       "      <td>Free Dos</td>\n",
       "    </tr>\n",
       "    <tr>\n",
       "      <th>3</th>\n",
       "      <td>3</td>\n",
       "      <td>ASUS</td>\n",
       "      <td>2 - 4 kg</td>\n",
       "      <td>Yok</td>\n",
       "      <td>15,6 inç</td>\n",
       "      <td>Nvidia GeForce GTX 1650</td>\n",
       "      <td>GDDR6</td>\n",
       "      <td>4 GB</td>\n",
       "      <td>Harici</td>\n",
       "      <td>144 Hz</td>\n",
       "      <td>...</td>\n",
       "      <td>512 GB</td>\n",
       "      <td>4.74</td>\n",
       "      <td>Tuf Gamıng A15 Fx506lhb-hn347 Intel I5-10300h...</td>\n",
       "      <td>1920 x 1080</td>\n",
       "      <td>Full HD (FHD)</td>\n",
       "      <td>10300H</td>\n",
       "      <td>Belirtilmemiş</td>\n",
       "      <td>Intel Core i5</td>\n",
       "      <td>4</td>\n",
       "      <td>Free Dos</td>\n",
       "    </tr>\n",
       "    <tr>\n",
       "      <th>4</th>\n",
       "      <td>4</td>\n",
       "      <td>LENOVO</td>\n",
       "      <td>2 - 4 kg</td>\n",
       "      <td>Var</td>\n",
       "      <td>15,6 inç</td>\n",
       "      <td>Belirtilmemiş</td>\n",
       "      <td>Belirtilmemiş</td>\n",
       "      <td>Paylaşımlı</td>\n",
       "      <td>Dahili</td>\n",
       "      <td>Belirtilmemiş</td>\n",
       "      <td>...</td>\n",
       "      <td>128 GB</td>\n",
       "      <td>4.60</td>\n",
       "      <td>Yoga C630 Intel Core I5 8250u 8gb 128gb Ssd C...</td>\n",
       "      <td>1920 x 1080</td>\n",
       "      <td>Full HD (FHD)</td>\n",
       "      <td>8250U</td>\n",
       "      <td>8. Nesil</td>\n",
       "      <td>Intel Core i5</td>\n",
       "      <td>Belirtilmemiş</td>\n",
       "      <td>Chrome OS</td>\n",
       "    </tr>\n",
       "    <tr>\n",
       "      <th>...</th>\n",
       "      <td>...</td>\n",
       "      <td>...</td>\n",
       "      <td>...</td>\n",
       "      <td>...</td>\n",
       "      <td>...</td>\n",
       "      <td>...</td>\n",
       "      <td>...</td>\n",
       "      <td>...</td>\n",
       "      <td>...</td>\n",
       "      <td>...</td>\n",
       "      <td>...</td>\n",
       "      <td>...</td>\n",
       "      <td>...</td>\n",
       "      <td>...</td>\n",
       "      <td>...</td>\n",
       "      <td>...</td>\n",
       "      <td>...</td>\n",
       "      <td>...</td>\n",
       "      <td>...</td>\n",
       "      <td>...</td>\n",
       "      <td>...</td>\n",
       "    </tr>\n",
       "    <tr>\n",
       "      <th>4613</th>\n",
       "      <td>4613</td>\n",
       "      <td>Dell</td>\n",
       "      <td>2 - 4 kg</td>\n",
       "      <td>Yok</td>\n",
       "      <td>15,6 inç</td>\n",
       "      <td>Nvidia GeForce RTX 3050</td>\n",
       "      <td>GDDR6</td>\n",
       "      <td>4 GB</td>\n",
       "      <td>Harici</td>\n",
       "      <td>120 Hz</td>\n",
       "      <td>...</td>\n",
       "      <td>512 GB</td>\n",
       "      <td>0.00</td>\n",
       "      <td>G15 5511 G55112306u08 I5-11260h 64gb 512ssd R...</td>\n",
       "      <td>1920 x 1080</td>\n",
       "      <td>Full HD (FHD)</td>\n",
       "      <td>11260H</td>\n",
       "      <td>11. Nesil</td>\n",
       "      <td>Intel Core i5</td>\n",
       "      <td>6</td>\n",
       "      <td>Windows</td>\n",
       "    </tr>\n",
       "    <tr>\n",
       "      <th>4614</th>\n",
       "      <td>4614</td>\n",
       "      <td>Dell</td>\n",
       "      <td>2 - 4 kg</td>\n",
       "      <td>Yok</td>\n",
       "      <td>15,6 inç</td>\n",
       "      <td>Nvidia GeForce RTX 3050</td>\n",
       "      <td>GDDR6</td>\n",
       "      <td>4 GB</td>\n",
       "      <td>Harici</td>\n",
       "      <td>120 Hz</td>\n",
       "      <td>...</td>\n",
       "      <td>512 GB</td>\n",
       "      <td>0.00</td>\n",
       "      <td>G15 5511 G55112306u02 I5-11260h 32gb 512ssd R...</td>\n",
       "      <td>1920 x 1080</td>\n",
       "      <td>Full HD (FHD)</td>\n",
       "      <td>11260H</td>\n",
       "      <td>11. Nesil</td>\n",
       "      <td>Intel Core i5</td>\n",
       "      <td>6</td>\n",
       "      <td>Free Dos</td>\n",
       "    </tr>\n",
       "    <tr>\n",
       "      <th>4615</th>\n",
       "      <td>4615</td>\n",
       "      <td>Dell</td>\n",
       "      <td>2 - 4 kg</td>\n",
       "      <td>Yok</td>\n",
       "      <td>15,6 inç</td>\n",
       "      <td>Nvidia GeForce RTX 3050</td>\n",
       "      <td>GDDR6</td>\n",
       "      <td>4 GB</td>\n",
       "      <td>Harici</td>\n",
       "      <td>120 Hz</td>\n",
       "      <td>...</td>\n",
       "      <td>1 TB</td>\n",
       "      <td>0.00</td>\n",
       "      <td>G15 5511 G55112306u01 I5-11260h 16gb 1tbssd R...</td>\n",
       "      <td>1920 x 1080</td>\n",
       "      <td>Full HD (FHD)</td>\n",
       "      <td>11260H</td>\n",
       "      <td>11. Nesil</td>\n",
       "      <td>Intel Core i5</td>\n",
       "      <td>6</td>\n",
       "      <td>Free Dos</td>\n",
       "    </tr>\n",
       "    <tr>\n",
       "      <th>4616</th>\n",
       "      <td>4616</td>\n",
       "      <td>Dell</td>\n",
       "      <td>2 - 4 kg</td>\n",
       "      <td>Yok</td>\n",
       "      <td>15,6 inç</td>\n",
       "      <td>Nvidia GeForce RTX 3050</td>\n",
       "      <td>GDDR6</td>\n",
       "      <td>4 GB</td>\n",
       "      <td>Harici</td>\n",
       "      <td>120 Hz</td>\n",
       "      <td>...</td>\n",
       "      <td>512 GB</td>\n",
       "      <td>0.00</td>\n",
       "      <td>G15 5511 G55112306u I5-11260h 16gb 512ssd Rtx...</td>\n",
       "      <td>1920 x 1080</td>\n",
       "      <td>Full HD (FHD)</td>\n",
       "      <td>11260H</td>\n",
       "      <td>11. Nesil</td>\n",
       "      <td>Intel Core i5</td>\n",
       "      <td>6</td>\n",
       "      <td>Free Dos</td>\n",
       "    </tr>\n",
       "    <tr>\n",
       "      <th>4617</th>\n",
       "      <td>4617</td>\n",
       "      <td>Dell</td>\n",
       "      <td>2 - 4 kg</td>\n",
       "      <td>Yok</td>\n",
       "      <td>15,6 inç</td>\n",
       "      <td>Nvidia GeForce RTX 3050</td>\n",
       "      <td>GDDR6</td>\n",
       "      <td>4 GB</td>\n",
       "      <td>Harici</td>\n",
       "      <td>120 Hz</td>\n",
       "      <td>...</td>\n",
       "      <td>512 GB</td>\n",
       "      <td>0.00</td>\n",
       "      <td>G15 5511 G55112306u04 I5-11260h 64gb 512ssd R...</td>\n",
       "      <td>1920 x 1080</td>\n",
       "      <td>Full HD (FHD)</td>\n",
       "      <td>11260H</td>\n",
       "      <td>11. Nesil</td>\n",
       "      <td>Intel Core i5</td>\n",
       "      <td>6</td>\n",
       "      <td>Free Dos</td>\n",
       "    </tr>\n",
       "  </tbody>\n",
       "</table>\n",
       "<p>4618 rows × 30 columns</p>\n",
       "</div>"
      ],
      "text/plain": [
       "      index   Brand Cihaz Ağırlığı Dokunmatik Ekran Ekran Boyutu  \\\n",
       "0         0   Apple  Belirtilmemiş              Yok       13 inç   \n",
       "1         1  LENOVO   2 kg ve Altı              Yok       14 inç   \n",
       "2         2  LENOVO   4 kg ve Üstü              Yok       16 inç   \n",
       "3         3    ASUS       2 - 4 kg              Yok     15,6 inç   \n",
       "4         4  LENOVO       2 - 4 kg              Var     15,6 inç   \n",
       "...     ...     ...            ...              ...          ...   \n",
       "4613   4613    Dell       2 - 4 kg              Yok     15,6 inç   \n",
       "4614   4614    Dell       2 - 4 kg              Yok     15,6 inç   \n",
       "4615   4615    Dell       2 - 4 kg              Yok     15,6 inç   \n",
       "4616   4616    Dell       2 - 4 kg              Yok     15,6 inç   \n",
       "4617   4617    Dell       2 - 4 kg              Yok     15,6 inç   \n",
       "\n",
       "                     Ekran Kartı Ekran Kartı Bellek Tipi Ekran Kartı Hafızası  \\\n",
       "0                M1 7 Çekirdekli           Belirtilmemiş           Paylaşımlı   \n",
       "1         Intel UHD Graphics 600                    DDR4           Paylaşımlı   \n",
       "2     Nvidia GeForce RTX 3050 Ti                   GDDR6                 4 GB   \n",
       "3        Nvidia GeForce GTX 1650                   GDDR6                 4 GB   \n",
       "4                  Belirtilmemiş           Belirtilmemiş           Paylaşımlı   \n",
       "...                          ...                     ...                  ...   \n",
       "4613     Nvidia GeForce RTX 3050                   GDDR6                 4 GB   \n",
       "4614     Nvidia GeForce RTX 3050                   GDDR6                 4 GB   \n",
       "4615     Nvidia GeForce RTX 3050                   GDDR6                 4 GB   \n",
       "4616     Nvidia GeForce RTX 3050                   GDDR6                 4 GB   \n",
       "4617     Nvidia GeForce RTX 3050                   GDDR6                 4 GB   \n",
       "\n",
       "     Ekran Kartı Tipi Ekran Yenileme Hızı  ... SSD Kapasitesi  Star  \\\n",
       "0              Dahili       Belirtilmemiş  ...         256 GB  4.84   \n",
       "1              Dahili       Belirtilmemiş  ...         128 GB  4.25   \n",
       "2              Harici              165 Hz  ...         512 GB  4.36   \n",
       "3              Harici              144 Hz  ...         512 GB  4.74   \n",
       "4              Dahili       Belirtilmemiş  ...         128 GB  4.60   \n",
       "...               ...                 ...  ...            ...   ...   \n",
       "4613           Harici              120 Hz  ...         512 GB  0.00   \n",
       "4614           Harici              120 Hz  ...         512 GB  0.00   \n",
       "4615           Harici              120 Hz  ...           1 TB  0.00   \n",
       "4616           Harici              120 Hz  ...         512 GB  0.00   \n",
       "4617           Harici              120 Hz  ...         512 GB  0.00   \n",
       "\n",
       "                                                  Title     Çözünürlük  \\\n",
       "0      Macbook Air 13'' M1 8gb 256gb Ssd Uzay Grisi ...    2560 x 1600   \n",
       "1      Ideapad Intel Celeron N4020 4GB 128GB SSD 14\"...     1366 x 768   \n",
       "2      Ideapad Gaming 3 82sc0062tx Amd Ryzen5 6600h ...  Belirtilmemiş   \n",
       "3      Tuf Gamıng A15 Fx506lhb-hn347 Intel I5-10300h...    1920 x 1080   \n",
       "4      Yoga C630 Intel Core I5 8250u 8gb 128gb Ssd C...    1920 x 1080   \n",
       "...                                                 ...            ...   \n",
       "4613   G15 5511 G55112306u08 I5-11260h 64gb 512ssd R...    1920 x 1080   \n",
       "4614   G15 5511 G55112306u02 I5-11260h 32gb 512ssd R...    1920 x 1080   \n",
       "4615   G15 5511 G55112306u01 I5-11260h 16gb 1tbssd R...    1920 x 1080   \n",
       "4616   G15 5511 G55112306u I5-11260h 16gb 512ssd Rtx...    1920 x 1080   \n",
       "4617   G15 5511 G55112306u04 I5-11260h 64gb 512ssd R...    1920 x 1080   \n",
       "\n",
       "     Çözünürlük Standartı İşlemci Modeli  İşlemci Nesli   İşlemci Tipi  \\\n",
       "0                  Retina  Belirtilmemiş  Belirtilmemiş       Apple M1   \n",
       "1           HD Ready (HD)          N4020  Belirtilmemiş  Intel Celeron   \n",
       "2                   WUXGA          6600H       6. Nesil    AMD Ryzen 5   \n",
       "3           Full HD (FHD)         10300H  Belirtilmemiş  Intel Core i5   \n",
       "4           Full HD (FHD)          8250U       8. Nesil  Intel Core i5   \n",
       "...                   ...            ...            ...            ...   \n",
       "4613        Full HD (FHD)         11260H      11. Nesil  Intel Core i5   \n",
       "4614        Full HD (FHD)         11260H      11. Nesil  Intel Core i5   \n",
       "4615        Full HD (FHD)         11260H      11. Nesil  Intel Core i5   \n",
       "4616        Full HD (FHD)         11260H      11. Nesil  Intel Core i5   \n",
       "4617        Full HD (FHD)         11260H      11. Nesil  Intel Core i5   \n",
       "\n",
       "     İşlemci Çekirdek Sayısı İşletim Sistemi  \n",
       "0                          8          Mac Os  \n",
       "1                          2        Free Dos  \n",
       "2                          6        Free Dos  \n",
       "3                          4        Free Dos  \n",
       "4              Belirtilmemiş       Chrome OS  \n",
       "...                      ...             ...  \n",
       "4613                       6         Windows  \n",
       "4614                       6        Free Dos  \n",
       "4615                       6        Free Dos  \n",
       "4616                       6        Free Dos  \n",
       "4617                       6        Free Dos  \n",
       "\n",
       "[4618 rows x 30 columns]"
      ]
     },
     "execution_count": 14,
     "metadata": {},
     "output_type": "execute_result"
    }
   ],
   "source": [
    "new_df"
   ]
  },
  {
   "cell_type": "code",
   "execution_count": 15,
   "metadata": {},
   "outputs": [
    {
     "data": {
      "text/plain": [
       "2 kg ve Altı     2168\n",
       "2 - 4 kg         1901\n",
       "Belirtilmemiş     540\n",
       "4 kg ve Üstü        9\n",
       "Name: Cihaz Ağırlığı, dtype: int64"
      ]
     },
     "execution_count": 15,
     "metadata": {},
     "output_type": "execute_result"
    }
   ],
   "source": [
    "new_df[\"Cihaz Ağırlığı\"].value_counts()"
   ]
  },
  {
   "cell_type": "code",
   "execution_count": 16,
   "metadata": {},
   "outputs": [
    {
     "name": "stderr",
     "output_type": "stream",
     "text": [
      "<ipython-input-16-c0b2430d7a0c>:1: SettingWithCopyWarning: \n",
      "A value is trying to be set on a copy of a slice from a DataFrame.\n",
      "Try using .loc[row_indexer,col_indexer] = value instead\n",
      "\n",
      "See the caveats in the documentation: https://pandas.pydata.org/pandas-docs/stable/user_guide/indexing.html#returning-a-view-versus-a-copy\n",
      "  new_df[\"Cihaz Ağırlığı\"] = new_df[\"Cihaz Ağırlığı\"].apply(lambda x: 3 if x == \"2 kg ve Altı\" else(2 if x == \"2 - 4 kg\" else (1 if x == \"4 kg ve Üstü\" else np.NaN)))\n"
     ]
    }
   ],
   "source": [
    "new_df[\"Cihaz Ağırlığı\"] = new_df[\"Cihaz Ağırlığı\"].apply(lambda x: 3 if x == \"2 kg ve Altı\" else(2 if x == \"2 - 4 kg\" else (1 if x == \"4 kg ve Üstü\" else np.NaN)))"
   ]
  },
  {
   "cell_type": "code",
   "execution_count": 17,
   "metadata": {},
   "outputs": [
    {
     "data": {
      "text/plain": [
       "3.0    2168\n",
       "2.0    1901\n",
       "1.0       9\n",
       "Name: Cihaz Ağırlığı, dtype: int64"
      ]
     },
     "execution_count": 17,
     "metadata": {},
     "output_type": "execute_result"
    }
   ],
   "source": [
    "new_df[\"Cihaz Ağırlığı\"].value_counts()"
   ]
  },
  {
   "cell_type": "code",
   "execution_count": 18,
   "metadata": {},
   "outputs": [
    {
     "data": {
      "text/plain": [
       "Yok    4413\n",
       "Var     205\n",
       "Name: Dokunmatik Ekran, dtype: int64"
      ]
     },
     "execution_count": 18,
     "metadata": {},
     "output_type": "execute_result"
    }
   ],
   "source": [
    "new_df[\"Dokunmatik Ekran\"].value_counts()"
   ]
  },
  {
   "cell_type": "code",
   "execution_count": 19,
   "metadata": {},
   "outputs": [
    {
     "name": "stderr",
     "output_type": "stream",
     "text": [
      "<ipython-input-19-edcb41c46297>:1: SettingWithCopyWarning: \n",
      "A value is trying to be set on a copy of a slice from a DataFrame.\n",
      "Try using .loc[row_indexer,col_indexer] = value instead\n",
      "\n",
      "See the caveats in the documentation: https://pandas.pydata.org/pandas-docs/stable/user_guide/indexing.html#returning-a-view-versus-a-copy\n",
      "  new_df[\"Dokunmatik Ekran\"] = new_df[\"Dokunmatik Ekran\"].apply(lambda x: 1 if x==\"Var\" else 0)\n"
     ]
    }
   ],
   "source": [
    "new_df[\"Dokunmatik Ekran\"] = new_df[\"Dokunmatik Ekran\"].apply(lambda x: 1 if x==\"Var\" else 0)"
   ]
  },
  {
   "cell_type": "code",
   "execution_count": 20,
   "metadata": {},
   "outputs": [
    {
     "data": {
      "text/plain": [
       "0    4413\n",
       "1     205\n",
       "Name: Dokunmatik Ekran, dtype: int64"
      ]
     },
     "execution_count": 20,
     "metadata": {},
     "output_type": "execute_result"
    }
   ],
   "source": [
    "new_df[\"Dokunmatik Ekran\"].value_counts()"
   ]
  },
  {
   "cell_type": "code",
   "execution_count": 21,
   "metadata": {},
   "outputs": [
    {
     "data": {
      "text/plain": [
       "15,6 inç         2945\n",
       "14 inç            921\n",
       "17,3 inç          342\n",
       "16 inç            105\n",
       "13,3 inç           90\n",
       "Belirtilmemiş      45\n",
       "13 inç             30\n",
       "16,1 inç           29\n",
       "17 inç             27\n",
       "13,6 inç           23\n",
       "15 inç             18\n",
       "13,4 inç           11\n",
       "10 inç              8\n",
       "10,6 inç            5\n",
       "11,6 inç            5\n",
       "14,1 inç            3\n",
       "14,5 inç            2\n",
       "15,4 inç            2\n",
       "12 inç              2\n",
       "14,2 inç            2\n",
       "10,1 inç            1\n",
       "11 inç              1\n",
       "10,5 inç            1\n",
       "Name: Ekran Boyutu, dtype: int64"
      ]
     },
     "execution_count": 21,
     "metadata": {},
     "output_type": "execute_result"
    }
   ],
   "source": [
    "new_df[\"Ekran Boyutu\"].value_counts()"
   ]
  },
  {
   "cell_type": "code",
   "execution_count": 22,
   "metadata": {},
   "outputs": [
    {
     "name": "stderr",
     "output_type": "stream",
     "text": [
      "<ipython-input-22-153de3882a88>:1: SettingWithCopyWarning: \n",
      "A value is trying to be set on a copy of a slice from a DataFrame.\n",
      "Try using .loc[row_indexer,col_indexer] = value instead\n",
      "\n",
      "See the caveats in the documentation: https://pandas.pydata.org/pandas-docs/stable/user_guide/indexing.html#returning-a-view-versus-a-copy\n",
      "  new_df[\"Ekran Boyutu\"] = new_df[\"Ekran Boyutu\"].apply(lambda x: np.nan if x==\"Belirtilmemiş\" else float(x.split(\" \")[0].replace(\",\",\".\")))\n"
     ]
    }
   ],
   "source": [
    "new_df[\"Ekran Boyutu\"] = new_df[\"Ekran Boyutu\"].apply(lambda x: np.nan if x==\"Belirtilmemiş\" else float(x.split(\" \")[0].replace(\",\",\".\")))"
   ]
  },
  {
   "cell_type": "code",
   "execution_count": 23,
   "metadata": {},
   "outputs": [
    {
     "data": {
      "text/plain": [
       "15.6    2945\n",
       "14.0     921\n",
       "17.3     342\n",
       "16.0     105\n",
       "13.3      90\n",
       "13.0      30\n",
       "16.1      29\n",
       "17.0      27\n",
       "13.6      23\n",
       "15.0      18\n",
       "13.4      11\n",
       "10.0       8\n",
       "10.6       5\n",
       "11.6       5\n",
       "14.1       3\n",
       "15.4       2\n",
       "14.5       2\n",
       "14.2       2\n",
       "12.0       2\n",
       "10.1       1\n",
       "10.5       1\n",
       "11.0       1\n",
       "Name: Ekran Boyutu, dtype: int64"
      ]
     },
     "execution_count": 23,
     "metadata": {},
     "output_type": "execute_result"
    }
   ],
   "source": [
    "new_df[\"Ekran Boyutu\"].value_counts()"
   ]
  },
  {
   "cell_type": "code",
   "execution_count": 24,
   "metadata": {},
   "outputs": [
    {
     "data": {
      "text/plain": [
       "Dahili Ekran Kartı              472\n",
       "Intel Iris Graphics             446\n",
       "Nvidia GeForce MX450            434\n",
       "Nvidia RTX A2000                356\n",
       "Nvidia GeForce RTX3060          292\n",
       "                               ... \n",
       "AMD Radeon Vega 10                1\n",
       "Nvidia Quadro P2200               1\n",
       "Intel Iris Plus Graphics 645      1\n",
       "Nvidia GeForce MX150              1\n",
       "Nvidia RTX A5000                  1\n",
       "Name: Ekran Kartı, Length: 94, dtype: int64"
      ]
     },
     "execution_count": 24,
     "metadata": {},
     "output_type": "execute_result"
    }
   ],
   "source": [
    "new_df[\"Ekran Kartı\"].value_counts()"
   ]
  },
  {
   "cell_type": "code",
   "execution_count": 25,
   "metadata": {},
   "outputs": [],
   "source": [
    "### dön düzenle\n",
    "# new_df[\"Ekran Kartı_Puan\"] = \n",
    "# ekran_kartlari = {'Nvidia GeForce GTX 1650':28, 'Intel Iris Graphics':4.5,\n",
    "#        'Nvidia GeForce RTX3060':60, 'Nvidia GeForce RTX 3050 Ti':60,'M1 7 Çekirdekli':12,\n",
    "#        'Nvidia GeForce RTX 3050': 40, 'M2 8 Çekirdekli':40, 'Intel UHD Graphics':5,\n",
    "#        'AMD Radeon Graphics':10 , 'AMD Radeon R5':8, \n",
    "#        'Dahili Ekran Kartı':4, \n",
    "#        'AMD Radeon R7':10,\n",
    "#        'Belirtilmemiş':4, \n",
    "#         'Paylaşımlı':4, \n",
    "#           'Intel Iris Pro Graphics':10,'Intel UHD Graphics 600':10,\n",
    "#             'M1 Pro 14 Çekirdekli': 80, \n",
    "#         'AMD Radeon R3':4,'AMD':4,\n",
    "#            'Nvidia GeForce MX130':4,'Nvidia GeForce MX550':4,'Intel HD Graphics 515':4,\n",
    "#         'Nvidia GeForce RTX 3080':93, 'Nvidia GeForce MX330':4, 'M2 10 Çekirdekli':100,\n",
    "#        'Nvidia GeForce MX350':10, 'Nvidia GeForce RTX 3070':45,\n",
    "#        'Intel HD Graphics':5, 'Intel HD 620':5, \n",
    "#        'Nvidia GeForce MX150':10, 'Nvidia GeForce RTX 3080 Ti': 98,\n",
    "#        'Nvidia GeForce RTX 3070Ti':82, 'AMD Radeon Pro 5500M':18,\n",
    "#        'Nvidia GeForce GTX1650 Ti':25,\n",
    "#        'Nvidia GeForce RTX 3070 Max-Q':80, }"
   ]
  },
  {
   "cell_type": "code",
   "execution_count": 26,
   "metadata": {},
   "outputs": [
    {
     "data": {
      "text/plain": [
       "GDDR6            2217\n",
       "Belirtilmemiş     930\n",
       "GDDR5             495\n",
       "DDR4              385\n",
       "SD                343\n",
       "DDR               125\n",
       "DDR5               74\n",
       "DDR3               24\n",
       "DDR2                6\n",
       "GDDR4               6\n",
       "DDR2 + DDR3         5\n",
       "HBM2                4\n",
       "GDDR5X              2\n",
       "GDDR6X              2\n",
       "Name: Ekran Kartı Bellek Tipi, dtype: int64"
      ]
     },
     "execution_count": 26,
     "metadata": {},
     "output_type": "execute_result"
    }
   ],
   "source": [
    "new_df[\"Ekran Kartı Bellek Tipi\"].value_counts()"
   ]
  },
  {
   "cell_type": "markdown",
   "metadata": {},
   "source": [
    "# <font color=\"red\"> Ekran hafızasına ve ekran yenileme hızına tekrar bak"
   ]
  },
  {
   "cell_type": "code",
   "execution_count": 27,
   "metadata": {},
   "outputs": [
    {
     "data": {
      "text/plain": [
       "Paylaşımlı      1649\n",
       "4 GB            1409\n",
       "2 GB             765\n",
       "6 GB             417\n",
       "8 GB             239\n",
       "16 GB             32\n",
       "3 GB              13\n",
       "Paylaşımsız       13\n",
       "12 GB             11\n",
       "4 GB ve altı      11\n",
       "10 GB             10\n",
       "1 GB               9\n",
       "32 GB              2\n",
       "Name: Ekran Kartı Hafızası, dtype: int64"
      ]
     },
     "execution_count": 27,
     "metadata": {},
     "output_type": "execute_result"
    }
   ],
   "source": [
    "new_df[\"Ekran Kartı Hafızası\"].value_counts() "
   ]
  },
  {
   "cell_type": "code",
   "execution_count": 30,
   "metadata": {},
   "outputs": [
    {
     "name": "stderr",
     "output_type": "stream",
     "text": [
      "<ipython-input-30-72137e49cae0>:1: SettingWithCopyWarning: \n",
      "A value is trying to be set on a copy of a slice from a DataFrame.\n",
      "Try using .loc[row_indexer,col_indexer] = value instead\n",
      "\n",
      "See the caveats in the documentation: https://pandas.pydata.org/pandas-docs/stable/user_guide/indexing.html#returning-a-view-versus-a-copy\n",
      "  new_df['Ekran Kartı Hafızası']= new_df['Ekran Kartı Hafızası'].str.replace(\" GB\",\"\")\n",
      "<ipython-input-30-72137e49cae0>:2: SettingWithCopyWarning: \n",
      "A value is trying to be set on a copy of a slice from a DataFrame.\n",
      "Try using .loc[row_indexer,col_indexer] = value instead\n",
      "\n",
      "See the caveats in the documentation: https://pandas.pydata.org/pandas-docs/stable/user_guide/indexing.html#returning-a-view-versus-a-copy\n",
      "  new_df[\"Ekran Kartı Hafızası\"] = new_df[\"Ekran Kartı Hafızası\"].replace(\"Paylaşımlı\",0)\n",
      "<ipython-input-30-72137e49cae0>:3: SettingWithCopyWarning: \n",
      "A value is trying to be set on a copy of a slice from a DataFrame.\n",
      "Try using .loc[row_indexer,col_indexer] = value instead\n",
      "\n",
      "See the caveats in the documentation: https://pandas.pydata.org/pandas-docs/stable/user_guide/indexing.html#returning-a-view-versus-a-copy\n",
      "  new_df[\"Ekran Kartı Hafızası\"] = new_df[\"Ekran Kartı Hafızası\"].replace([\"Paylaşımsız\",\"4 ve altı\"],np.NaN)\n",
      "<ipython-input-30-72137e49cae0>:4: SettingWithCopyWarning: \n",
      "A value is trying to be set on a copy of a slice from a DataFrame.\n",
      "Try using .loc[row_indexer,col_indexer] = value instead\n",
      "\n",
      "See the caveats in the documentation: https://pandas.pydata.org/pandas-docs/stable/user_guide/indexing.html#returning-a-view-versus-a-copy\n",
      "  new_df[\"Ekran Kartı Hafızası\"] = new_df[\"Ekran Kartı Hafızası\"].astype(float)\n"
     ]
    }
   ],
   "source": [
    "new_df['Ekran Kartı Hafızası']= new_df['Ekran Kartı Hafızası'].str.replace(\" GB\",\"\")\n",
    "new_df[\"Ekran Kartı Hafızası\"] = new_df[\"Ekran Kartı Hafızası\"].replace(\"Paylaşımlı\",0)\n",
    "new_df[\"Ekran Kartı Hafızası\"] = new_df[\"Ekran Kartı Hafızası\"].replace([\"Paylaşımsız\",\"4 ve altı\"],np.NaN)\n",
    "new_df[\"Ekran Kartı Hafızası\"] = new_df[\"Ekran Kartı Hafızası\"].astype(float)\n",
    "# new_df[\"Ekran Kartı Hafızası\"] = new_df[\"Ekran Kartı Hafızası\"].apply(lambda x: 0 if x == \"Paylaşımlı\" else (np.NaN if (x == \"Paylaşımsız\" or x == \"4 GB ve altı\") else (int(x.split(\" \")[0]) if isinstance(x,str))))"
   ]
  },
  {
   "cell_type": "code",
   "execution_count": 31,
   "metadata": {},
   "outputs": [
    {
     "data": {
      "text/plain": [
       "4.0     1409\n",
       "2.0      765\n",
       "6.0      417\n",
       "8.0      239\n",
       "16.0      32\n",
       "3.0       13\n",
       "12.0      11\n",
       "10.0      10\n",
       "1.0        9\n",
       "32.0       2\n",
       "Name: Ekran Kartı Hafızası, dtype: int64"
      ]
     },
     "execution_count": 31,
     "metadata": {},
     "output_type": "execute_result"
    }
   ],
   "source": [
    "new_df[\"Ekran Kartı Hafızası\"].value_counts() "
   ]
  },
  {
   "cell_type": "code",
   "execution_count": 32,
   "metadata": {},
   "outputs": [
    {
     "data": {
      "text/plain": [
       "Belirtilmemiş    2829\n",
       "60 Hz             686\n",
       "144 Hz            385\n",
       "Yok               175\n",
       "165 Hz            146\n",
       "120 Hz            129\n",
       "360 Hz             18\n",
       "90 Hz              17\n",
       "240 Hz             12\n",
       "300 Hz              7\n",
       "Name: Ekran Yenileme Hızı, dtype: int64"
      ]
     },
     "execution_count": 32,
     "metadata": {},
     "output_type": "execute_result"
    }
   ],
   "source": [
    "new_df[\"Ekran Yenileme Hızı\"].value_counts() "
   ]
  },
  {
   "cell_type": "code",
   "execution_count": null,
   "metadata": {},
   "outputs": [],
   "source": [
    "# for ix,memory in enumerate(new_df[\"Ekran Yenileme Hızı\"]):\n",
    "#     if memory == \"Belirtilmemiş\" or memory == \"Yok\":\n",
    "#         new_df[\"Ekran Yenileme Hızı\"].iloc[ix] = np.nan;\n",
    "#     elif isinstance(memory,str):\n",
    "#         new_df[\"Ekran Yenileme Hızı\"].iloc[ix] = int(memory.split(\" \")[0]);\n",
    "#     else:\n",
    "#         pass;"
   ]
  },
  {
   "cell_type": "code",
   "execution_count": null,
   "metadata": {},
   "outputs": [],
   "source": [
    "# new_df[\"Ekran Yenileme Hızı\"].value_counts() "
   ]
  },
  {
   "cell_type": "code",
   "execution_count": 33,
   "metadata": {},
   "outputs": [
    {
     "data": {
      "text/plain": [
       "2 Yıl    2784\n",
       "3 Yıl     936\n",
       "1 Yıl       7\n",
       "Name: Garanti Süresi, dtype: int64"
      ]
     },
     "execution_count": 33,
     "metadata": {},
     "output_type": "execute_result"
    }
   ],
   "source": [
    "new_df[\"Garanti Süresi\"].value_counts()"
   ]
  },
  {
   "cell_type": "code",
   "execution_count": 34,
   "metadata": {},
   "outputs": [
    {
     "data": {
      "text/plain": [
       "array(['2 Yıl', nan, '1 Yıl', '3 Yıl'], dtype=object)"
      ]
     },
     "execution_count": 34,
     "metadata": {},
     "output_type": "execute_result"
    }
   ],
   "source": [
    "new_df[\"Garanti Süresi\"].unique()"
   ]
  },
  {
   "cell_type": "code",
   "execution_count": 35,
   "metadata": {},
   "outputs": [
    {
     "name": "stderr",
     "output_type": "stream",
     "text": [
      "<ipython-input-35-c6f70970266a>:1: SettingWithCopyWarning: \n",
      "A value is trying to be set on a copy of a slice from a DataFrame.\n",
      "Try using .loc[row_indexer,col_indexer] = value instead\n",
      "\n",
      "See the caveats in the documentation: https://pandas.pydata.org/pandas-docs/stable/user_guide/indexing.html#returning-a-view-versus-a-copy\n",
      "  new_df[\"Garanti Süresi\"] = new_df[\"Garanti Süresi\"].str.replace(\" Yıl\",\"\")\n",
      "<ipython-input-35-c6f70970266a>:2: SettingWithCopyWarning: \n",
      "A value is trying to be set on a copy of a slice from a DataFrame.\n",
      "Try using .loc[row_indexer,col_indexer] = value instead\n",
      "\n",
      "See the caveats in the documentation: https://pandas.pydata.org/pandas-docs/stable/user_guide/indexing.html#returning-a-view-versus-a-copy\n",
      "  new_df[\"Garanti Süresi\"] = new_df[\"Garanti Süresi\"].astype(float)\n"
     ]
    }
   ],
   "source": [
    "new_df[\"Garanti Süresi\"] = new_df[\"Garanti Süresi\"].str.replace(\" Yıl\",\"\")\n",
    "new_df[\"Garanti Süresi\"] = new_df[\"Garanti Süresi\"].astype(float)"
   ]
  },
  {
   "cell_type": "code",
   "execution_count": 36,
   "metadata": {},
   "outputs": [
    {
     "data": {
      "text/plain": [
       "2.0    2784\n",
       "3.0     936\n",
       "1.0       7\n",
       "Name: Garanti Süresi, dtype: int64"
      ]
     },
     "execution_count": 36,
     "metadata": {},
     "output_type": "execute_result"
    }
   ],
   "source": [
    "new_df[\"Garanti Süresi\"].value_counts()"
   ]
  },
  {
   "cell_type": "code",
   "execution_count": 37,
   "metadata": {},
   "outputs": [
    {
     "name": "stderr",
     "output_type": "stream",
     "text": [
      "<ipython-input-37-86bee1bac976>:7: SettingWithCopyWarning: \n",
      "A value is trying to be set on a copy of a slice from a DataFrame.\n",
      "Try using .loc[row_indexer,col_indexer] = value instead\n",
      "\n",
      "See the caveats in the documentation: https://pandas.pydata.org/pandas-docs/stable/user_guide/indexing.html#returning-a-view-versus-a-copy\n",
      "  new_df[\"Garanti Tipi\"] = new_df[\"Garanti Tipi\"].replace(marka_garantili,\"Marka Grantili\")\n"
     ]
    }
   ],
   "source": [
    "marka_garantili = ['Asus Türkiye Garantili',\n",
    "       'Lenovo Türkiye Garantili', 'Dell Türkiye Garantili',\n",
    "       'ACER Türkiye Garantili', 'Apple Türkiye Garantili',\n",
    "       'MSI Türkiye Garantili', 'HP Türkiye Garantili', 'Casper Türkiye Garantili',\n",
    "       'Samsung TR Garantili']\n",
    "\n",
    "new_df[\"Garanti Tipi\"] = new_df[\"Garanti Tipi\"].replace(marka_garantili,\"Marka Grantili\")"
   ]
  },
  {
   "cell_type": "code",
   "execution_count": 38,
   "metadata": {},
   "outputs": [
    {
     "data": {
      "text/plain": [
       "array(['Resmi Distribütör Garantili', 'Marka Grantili',\n",
       "       'İthalatçı Garantili'], dtype=object)"
      ]
     },
     "execution_count": 38,
     "metadata": {},
     "output_type": "execute_result"
    }
   ],
   "source": [
    "new_df[\"Garanti Tipi\"].unique()"
   ]
  },
  {
   "cell_type": "code",
   "execution_count": 39,
   "metadata": {
    "scrolled": true
   },
   "outputs": [
    {
     "data": {
      "text/plain": [
       "HDD Yok    3220\n",
       "Yok         720\n",
       "1 TB        238\n",
       "512 GB       73\n",
       "256 GB       61\n",
       "500 GB       37\n",
       "250 GB       24\n",
       "2 TB         14\n",
       "128 GB       13\n",
       "32 GB         7\n",
       "4 TB          1\n",
       "Name: Hard Disk Kapasitesi, dtype: int64"
      ]
     },
     "execution_count": 39,
     "metadata": {},
     "output_type": "execute_result"
    }
   ],
   "source": [
    "new_df[\"Hard Disk Kapasitesi\"].value_counts()"
   ]
  },
  {
   "cell_type": "code",
   "execution_count": 40,
   "metadata": {},
   "outputs": [
    {
     "name": "stderr",
     "output_type": "stream",
     "text": [
      "<ipython-input-40-61475941a693>:1: SettingWithCopyWarning: \n",
      "A value is trying to be set on a copy of a slice from a DataFrame.\n",
      "Try using .loc[row_indexer,col_indexer] = value instead\n",
      "\n",
      "See the caveats in the documentation: https://pandas.pydata.org/pandas-docs/stable/user_guide/indexing.html#returning-a-view-versus-a-copy\n",
      "  new_df[\"Hard Disk Kapasitesi\"] = new_df[\"Hard Disk Kapasitesi\"].replace([\"HDD Yok\",\"Yok\"],0)\n",
      "<ipython-input-40-61475941a693>:2: SettingWithCopyWarning: \n",
      "A value is trying to be set on a copy of a slice from a DataFrame.\n",
      "Try using .loc[row_indexer,col_indexer] = value instead\n",
      "\n",
      "See the caveats in the documentation: https://pandas.pydata.org/pandas-docs/stable/user_guide/indexing.html#returning-a-view-versus-a-copy\n",
      "  new_df[\"Hard Disk Kapasitesi\"] = new_df[\"Hard Disk Kapasitesi\"].str.replace(\" GB\",\"\")\n",
      "<ipython-input-40-61475941a693>:3: SettingWithCopyWarning: \n",
      "A value is trying to be set on a copy of a slice from a DataFrame.\n",
      "Try using .loc[row_indexer,col_indexer] = value instead\n",
      "\n",
      "See the caveats in the documentation: https://pandas.pydata.org/pandas-docs/stable/user_guide/indexing.html#returning-a-view-versus-a-copy\n",
      "  new_df[\"Hard Disk Kapasitesi\"] = new_df[\"Hard Disk Kapasitesi\"].str.replace(\" TB\",\"\")\n",
      "<ipython-input-40-61475941a693>:4: SettingWithCopyWarning: \n",
      "A value is trying to be set on a copy of a slice from a DataFrame.\n",
      "Try using .loc[row_indexer,col_indexer] = value instead\n",
      "\n",
      "See the caveats in the documentation: https://pandas.pydata.org/pandas-docs/stable/user_guide/indexing.html#returning-a-view-versus-a-copy\n",
      "  new_df[\"Hard Disk Kapasitesi\"] = new_df[\"Hard Disk Kapasitesi\"].astype(float)\n",
      "<ipython-input-40-61475941a693>:5: SettingWithCopyWarning: \n",
      "A value is trying to be set on a copy of a slice from a DataFrame.\n",
      "Try using .loc[row_indexer,col_indexer] = value instead\n",
      "\n",
      "See the caveats in the documentation: https://pandas.pydata.org/pandas-docs/stable/user_guide/indexing.html#returning-a-view-versus-a-copy\n",
      "  new_df[\"Hard Disk Kapasitesi\"] = new_df[\"Hard Disk Kapasitesi\"].replace([1,2,4],[1024,2*1024,4*1024])\n"
     ]
    }
   ],
   "source": [
    "new_df[\"Hard Disk Kapasitesi\"] = new_df[\"Hard Disk Kapasitesi\"].replace([\"HDD Yok\",\"Yok\"],0)\n",
    "new_df[\"Hard Disk Kapasitesi\"] = new_df[\"Hard Disk Kapasitesi\"].str.replace(\" GB\",\"\")\n",
    "new_df[\"Hard Disk Kapasitesi\"] = new_df[\"Hard Disk Kapasitesi\"].str.replace(\" TB\",\"\")\n",
    "new_df[\"Hard Disk Kapasitesi\"] = new_df[\"Hard Disk Kapasitesi\"].astype(float)\n",
    "new_df[\"Hard Disk Kapasitesi\"] = new_df[\"Hard Disk Kapasitesi\"].replace([1,2,4],[1024,2*1024,4*1024])"
   ]
  },
  {
   "cell_type": "code",
   "execution_count": 41,
   "metadata": {},
   "outputs": [
    {
     "data": {
      "text/plain": [
       "1024.0    238\n",
       "512.0      73\n",
       "256.0      61\n",
       "500.0      37\n",
       "250.0      24\n",
       "2048.0     14\n",
       "128.0      13\n",
       "32.0        7\n",
       "4096.0      1\n",
       "Name: Hard Disk Kapasitesi, dtype: int64"
      ]
     },
     "execution_count": 41,
     "metadata": {},
     "output_type": "execute_result"
    }
   ],
   "source": [
    "new_df[\"Hard Disk Kapasitesi\"].value_counts()"
   ]
  },
  {
   "cell_type": "code",
   "execution_count": 42,
   "metadata": {},
   "outputs": [
    {
     "name": "stderr",
     "output_type": "stream",
     "text": [
      "C:\\Users\\MERVE\\anaconda3\\lib\\site-packages\\pandas\\core\\frame.py:4163: SettingWithCopyWarning: \n",
      "A value is trying to be set on a copy of a slice from a DataFrame\n",
      "\n",
      "See the caveats in the documentation: https://pandas.pydata.org/pandas-docs/stable/user_guide/indexing.html#returning-a-view-versus-a-copy\n",
      "  return super().drop(\n"
     ]
    }
   ],
   "source": [
    "new_df.drop([\"Klavye\"],axis=1,inplace=True)"
   ]
  },
  {
   "cell_type": "code",
   "execution_count": 43,
   "metadata": {},
   "outputs": [],
   "source": [
    "new_df.reset_index(inplace=True)"
   ]
  },
  {
   "cell_type": "code",
   "execution_count": 44,
   "metadata": {},
   "outputs": [
    {
     "data": {
      "text/plain": [
       "array(['Ev - Okul', 'Oyun', 'Ofis - İş', 'Tasarım'], dtype=object)"
      ]
     },
     "execution_count": 44,
     "metadata": {},
     "output_type": "execute_result"
    }
   ],
   "source": [
    "new_df[\"Kullanım Amacı\"].unique()"
   ]
  },
  {
   "cell_type": "code",
   "execution_count": 45,
   "metadata": {},
   "outputs": [
    {
     "data": {
      "text/plain": [
       "array(['Yok', 'Çoklu Kopyalama Sistemleri', nan, 'DVD RW', 'DVD Yazıcı',\n",
       "       'Blu-Ray Okuyucu', 'DVD Okuyucu', 'DVD Dual Yazıcı',\n",
       "       'DVD Super Multi'], dtype=object)"
      ]
     },
     "execution_count": 45,
     "metadata": {},
     "output_type": "execute_result"
    }
   ],
   "source": [
    "new_df[\"Optik Sürücü Tipi\"].unique()"
   ]
  },
  {
   "cell_type": "code",
   "execution_count": 46,
   "metadata": {},
   "outputs": [],
   "source": [
    "new_df.drop([\"Optik Sürücü Tipi\"],axis=1,inplace=True)"
   ]
  },
  {
   "cell_type": "code",
   "execution_count": 47,
   "metadata": {},
   "outputs": [],
   "source": [
    "new_df.drop([\"level_0\",\"index\"],axis=1,inplace=True)"
   ]
  },
  {
   "cell_type": "code",
   "execution_count": 48,
   "metadata": {},
   "outputs": [],
   "source": [
    "new_df.reset_index(inplace=True)"
   ]
  },
  {
   "cell_type": "code",
   "execution_count": 49,
   "metadata": {},
   "outputs": [
    {
     "data": {
      "text/plain": [
       "array(['8 GB', '4 GB', '16 GB', '1 GB', '32 GB', '12 GB', '64 GB',\n",
       "       '24 GB', '20 GB', '48 GB', '3 GB', '128 GB', '40 GB', '36 GB'],\n",
       "      dtype=object)"
      ]
     },
     "execution_count": 49,
     "metadata": {},
     "output_type": "execute_result"
    }
   ],
   "source": [
    "new_df[\"Ram (Sistem Belleği)\"].unique()"
   ]
  },
  {
   "cell_type": "code",
   "execution_count": 50,
   "metadata": {},
   "outputs": [
    {
     "name": "stderr",
     "output_type": "stream",
     "text": [
      "<ipython-input-50-7cc64591a2d2>:1: SettingWithCopyWarning: \n",
      "A value is trying to be set on a copy of a slice from a DataFrame.\n",
      "Try using .loc[row_indexer,col_indexer] = value instead\n",
      "\n",
      "See the caveats in the documentation: https://pandas.pydata.org/pandas-docs/stable/user_guide/indexing.html#returning-a-view-versus-a-copy\n",
      "  new_df[\"Ram (Sistem Belleği)\"] = new_df[\"Ram (Sistem Belleği)\"].apply(lambda x: int(x.split(\" \")[0]))\n"
     ]
    }
   ],
   "source": [
    "new_df[\"Ram (Sistem Belleği)\"] = new_df[\"Ram (Sistem Belleği)\"].apply(lambda x: int(x.split(\" \")[0]))"
   ]
  },
  {
   "cell_type": "code",
   "execution_count": 51,
   "metadata": {},
   "outputs": [
    {
     "data": {
      "text/plain": [
       "array(['Belirtilmemiş', 'DDR4', 'DDR5', nan, 'DDR6', 'LPDDR4', 'LPDDR4X',\n",
       "       'LPDDR5', 'DDR2', 'DDR3', 'LPDDR3', 'DDR1'], dtype=object)"
      ]
     },
     "execution_count": 51,
     "metadata": {},
     "output_type": "execute_result"
    }
   ],
   "source": [
    "new_df[\"Ram (Sistem Belleği) Tipi\"].unique()"
   ]
  },
  {
   "cell_type": "code",
   "execution_count": 52,
   "metadata": {},
   "outputs": [
    {
     "name": "stderr",
     "output_type": "stream",
     "text": [
      "<ipython-input-52-fe8eb4249e3b>:1: SettingWithCopyWarning: \n",
      "A value is trying to be set on a copy of a slice from a DataFrame.\n",
      "Try using .loc[row_indexer,col_indexer] = value instead\n",
      "\n",
      "See the caveats in the documentation: https://pandas.pydata.org/pandas-docs/stable/user_guide/indexing.html#returning-a-view-versus-a-copy\n",
      "  new_df[\"Ram (Sistem Belleği) Tipi\"]=new_df[\"Ram (Sistem Belleği) Tipi\"].replace([\"DDR1\",'DDR2',\"DDR3\",'DDR4','LPDDR3','LPDDR4','LPDDR4X','DDR5','LPDDR5','DDR6',\"Belirtilmemiş\",np.NaN],[1,2,3,4,5,6,7,8,9,10,3,3])\n"
     ]
    },
    {
     "data": {
      "text/plain": [
       "array([ 3,  4,  8, 10,  6,  7,  9,  2,  5,  1], dtype=int64)"
      ]
     },
     "execution_count": 52,
     "metadata": {},
     "output_type": "execute_result"
    }
   ],
   "source": [
    "new_df[\"Ram (Sistem Belleği) Tipi\"]=new_df[\"Ram (Sistem Belleği) Tipi\"].replace([\"DDR1\",'DDR2',\"DDR3\",'DDR4','LPDDR3','LPDDR4','LPDDR4X','DDR5','LPDDR5','DDR6',\"Belirtilmemiş\",np.NaN],[1,2,3,4,5,6,7,8,9,10,3,3])\n",
    "new_df[\"Ram (Sistem Belleği) Tipi\"].unique()"
   ]
  },
  {
   "cell_type": "code",
   "execution_count": 53,
   "metadata": {},
   "outputs": [],
   "source": [
    "new_df.drop([\"Renk\"],axis=1,inplace=True)"
   ]
  },
  {
   "cell_type": "code",
   "execution_count": 54,
   "metadata": {},
   "outputs": [],
   "source": [
    "new_df.reset_index(inplace=True)"
   ]
  },
  {
   "cell_type": "code",
   "execution_count": 55,
   "metadata": {},
   "outputs": [
    {
     "data": {
      "text/plain": [
       "512 GB     1635\n",
       "1 TB       1050\n",
       "256 GB      836\n",
       "2 TB        623\n",
       "SSD Yok     131\n",
       "500 GB      127\n",
       "128 GB      101\n",
       "Yok          26\n",
       "250 GB       26\n",
       "240 GB       20\n",
       "4 TB         12\n",
       "120 GB       12\n",
       "8 GB         11\n",
       "480 GB        6\n",
       "64 GB         2\n",
       "Name: SSD Kapasitesi, dtype: int64"
      ]
     },
     "execution_count": 55,
     "metadata": {},
     "output_type": "execute_result"
    }
   ],
   "source": [
    "new_df[\"SSD Kapasitesi\"].value_counts()"
   ]
  },
  {
   "cell_type": "code",
   "execution_count": 56,
   "metadata": {},
   "outputs": [
    {
     "name": "stderr",
     "output_type": "stream",
     "text": [
      "<ipython-input-56-ee8ef22df9d9>:1: SettingWithCopyWarning: \n",
      "A value is trying to be set on a copy of a slice from a DataFrame.\n",
      "Try using .loc[row_indexer,col_indexer] = value instead\n",
      "\n",
      "See the caveats in the documentation: https://pandas.pydata.org/pandas-docs/stable/user_guide/indexing.html#returning-a-view-versus-a-copy\n",
      "  new_df[\"SSD Kapasitesi\"] = new_df[\"SSD Kapasitesi\"].replace([\"SSD Yok\",\"Yok\"],0)\n",
      "<ipython-input-56-ee8ef22df9d9>:2: SettingWithCopyWarning: \n",
      "A value is trying to be set on a copy of a slice from a DataFrame.\n",
      "Try using .loc[row_indexer,col_indexer] = value instead\n",
      "\n",
      "See the caveats in the documentation: https://pandas.pydata.org/pandas-docs/stable/user_guide/indexing.html#returning-a-view-versus-a-copy\n",
      "  new_df[\"SSD Kapasitesi\"] = new_df[\"SSD Kapasitesi\"].str.replace(\" GB\",\"\")\n",
      "<ipython-input-56-ee8ef22df9d9>:3: SettingWithCopyWarning: \n",
      "A value is trying to be set on a copy of a slice from a DataFrame.\n",
      "Try using .loc[row_indexer,col_indexer] = value instead\n",
      "\n",
      "See the caveats in the documentation: https://pandas.pydata.org/pandas-docs/stable/user_guide/indexing.html#returning-a-view-versus-a-copy\n",
      "  new_df[\"SSD Kapasitesi\"] = new_df[\"SSD Kapasitesi\"].str.replace(\" TB\",\"\")\n",
      "<ipython-input-56-ee8ef22df9d9>:4: SettingWithCopyWarning: \n",
      "A value is trying to be set on a copy of a slice from a DataFrame.\n",
      "Try using .loc[row_indexer,col_indexer] = value instead\n",
      "\n",
      "See the caveats in the documentation: https://pandas.pydata.org/pandas-docs/stable/user_guide/indexing.html#returning-a-view-versus-a-copy\n",
      "  new_df[\"SSD Kapasitesi\"] = new_df[\"SSD Kapasitesi\"].astype(float)\n",
      "<ipython-input-56-ee8ef22df9d9>:5: SettingWithCopyWarning: \n",
      "A value is trying to be set on a copy of a slice from a DataFrame.\n",
      "Try using .loc[row_indexer,col_indexer] = value instead\n",
      "\n",
      "See the caveats in the documentation: https://pandas.pydata.org/pandas-docs/stable/user_guide/indexing.html#returning-a-view-versus-a-copy\n",
      "  new_df[\"SSD Kapasitesi\"] = new_df[\"SSD Kapasitesi\"].replace([1,2,4],[1024,2*1024,4*1024])\n"
     ]
    }
   ],
   "source": [
    "new_df[\"SSD Kapasitesi\"] = new_df[\"SSD Kapasitesi\"].replace([\"SSD Yok\",\"Yok\"],0)\n",
    "new_df[\"SSD Kapasitesi\"] = new_df[\"SSD Kapasitesi\"].str.replace(\" GB\",\"\")\n",
    "new_df[\"SSD Kapasitesi\"] = new_df[\"SSD Kapasitesi\"].str.replace(\" TB\",\"\")\n",
    "new_df[\"SSD Kapasitesi\"] = new_df[\"SSD Kapasitesi\"].astype(float)\n",
    "new_df[\"SSD Kapasitesi\"] = new_df[\"SSD Kapasitesi\"].replace([1,2,4],[1024,2*1024,4*1024])"
   ]
  },
  {
   "cell_type": "code",
   "execution_count": 57,
   "metadata": {},
   "outputs": [
    {
     "data": {
      "text/plain": [
       "1920 x 1080      3888\n",
       "1366 x 768        207\n",
       "1920 x 1200       136\n",
       "2560 x 1600        83\n",
       "2560 x 1440        67\n",
       "3840 x 2400        57\n",
       "3840 x 2160        36\n",
       "2880 x 1800        26\n",
       "1280 x 800         23\n",
       "3072 x 1920        18\n",
       "2160 x 1440        11\n",
       "2560 x 1664        10\n",
       "Belirtilmemiş       8\n",
       "1440 x 900          7\n",
       "3456 x 2234         7\n",
       "2340 x 1440         6\n",
       "1600 x 900          6\n",
       "3456 x 2160         6\n",
       "2880 x 1620         4\n",
       "3024 x 1964         3\n",
       "2550 x 1600         3\n",
       "4096 x 2160         2\n",
       "3200 x 1800         1\n",
       "4480 x 2520         1\n",
       "1920 x 1280         1\n",
       "1024 x 768          1\n",
       "Name: Çözünürlük, dtype: int64"
      ]
     },
     "execution_count": 57,
     "metadata": {},
     "output_type": "execute_result"
    }
   ],
   "source": [
    "new_df[\"Çözünürlük\"].value_counts()"
   ]
  },
  {
   "cell_type": "code",
   "execution_count": 58,
   "metadata": {},
   "outputs": [
    {
     "name": "stderr",
     "output_type": "stream",
     "text": [
      "C:\\Users\\MERVE\\anaconda3\\lib\\site-packages\\pandas\\core\\indexing.py:670: SettingWithCopyWarning: \n",
      "A value is trying to be set on a copy of a slice from a DataFrame\n",
      "\n",
      "See the caveats in the documentation: https://pandas.pydata.org/pandas-docs/stable/user_guide/indexing.html#returning-a-view-versus-a-copy\n",
      "  iloc._setitem_with_indexer(indexer, value)\n",
      "<ipython-input-58-cb40a429d2a7>:7: SettingWithCopyWarning: \n",
      "A value is trying to be set on a copy of a slice from a DataFrame\n",
      "\n",
      "See the caveats in the documentation: https://pandas.pydata.org/pandas-docs/stable/user_guide/indexing.html#returning-a-view-versus-a-copy\n",
      "  new_df[\"Çözünürlük\"].iloc[index] = int(res[0])\n",
      "<ipython-input-58-cb40a429d2a7>:5: SettingWithCopyWarning: \n",
      "A value is trying to be set on a copy of a slice from a DataFrame\n",
      "\n",
      "See the caveats in the documentation: https://pandas.pydata.org/pandas-docs/stable/user_guide/indexing.html#returning-a-view-versus-a-copy\n",
      "  new_df[\"Çözünürlük\"].iloc[index] = np.nan\n"
     ]
    }
   ],
   "source": [
    "res_sort = sorted(new_df[\"Çözünürlük\"].unique())\n",
    "index = 0\n",
    "for res in new_df[\"Çözünürlük\"]:\n",
    "    if res == \"Belirtilmemiş\":\n",
    "        new_df[\"Çözünürlük\"].iloc[index] = np.nan\n",
    "    else:\n",
    "        new_df[\"Çözünürlük\"].iloc[index] = int(res[0])\n",
    "    index += 1"
   ]
  },
  {
   "cell_type": "code",
   "execution_count": 102,
   "metadata": {},
   "outputs": [
    {
     "name": "stderr",
     "output_type": "stream",
     "text": [
      "<ipython-input-102-b46abab17124>:1: SettingWithCopyWarning: \n",
      "A value is trying to be set on a copy of a slice from a DataFrame.\n",
      "Try using .loc[row_indexer,col_indexer] = value instead\n",
      "\n",
      "See the caveats in the documentation: https://pandas.pydata.org/pandas-docs/stable/user_guide/indexing.html#returning-a-view-versus-a-copy\n",
      "  new_df[\"Çözünürlük\"] = new_df[\"Çözünürlük\"].astype(float)\n"
     ]
    }
   ],
   "source": [
    "new_df[\"Çözünürlük\"] = new_df[\"Çözünürlük\"].astype(float)"
   ]
  },
  {
   "cell_type": "code",
   "execution_count": 59,
   "metadata": {},
   "outputs": [
    {
     "data": {
      "text/plain": [
       "1    4269\n",
       "2     210\n",
       "3     128\n",
       "4       3\n",
       "Name: Çözünürlük, dtype: int64"
      ]
     },
     "execution_count": 59,
     "metadata": {},
     "output_type": "execute_result"
    }
   ],
   "source": [
    "new_df[\"Çözünürlük\"].value_counts()"
   ]
  },
  {
   "cell_type": "code",
   "execution_count": 60,
   "metadata": {},
   "outputs": [
    {
     "data": {
      "text/plain": [
       "array(['Retina', 'HD Ready (HD)', 'WUXGA', 'Full HD (FHD)',\n",
       "       'Ultra HD 4K (UHD)', 'QHD', 'Full HD Ultra Wide', 'FHD+', 'WQHD',\n",
       "       'WQXGA', nan], dtype=object)"
      ]
     },
     "execution_count": 60,
     "metadata": {},
     "output_type": "execute_result"
    }
   ],
   "source": [
    "new_df[\"Çözünürlük Standartı\"].unique()"
   ]
  },
  {
   "cell_type": "code",
   "execution_count": 61,
   "metadata": {},
   "outputs": [
    {
     "name": "stderr",
     "output_type": "stream",
     "text": [
      "<ipython-input-61-70b4374f334e>:1: SettingWithCopyWarning: \n",
      "A value is trying to be set on a copy of a slice from a DataFrame.\n",
      "Try using .loc[row_indexer,col_indexer] = value instead\n",
      "\n",
      "See the caveats in the documentation: https://pandas.pydata.org/pandas-docs/stable/user_guide/indexing.html#returning-a-view-versus-a-copy\n",
      "  new_df['Çözünürlük Standartı'] = new_df['Çözünürlük Standartı'].replace(['Full HD (FHD)',\"FHD+\",\"WUXGA\",'HD Ready (HD)',\n"
     ]
    }
   ],
   "source": [
    "new_df['Çözünürlük Standartı'] = new_df['Çözünürlük Standartı'].replace(['Full HD (FHD)',\"FHD+\",\"WUXGA\",'HD Ready (HD)',\n",
    "                                                               'Retina','Ultra HD 4K (UHD)','WQHD','QHD','Full HD Ultra Wide','WQXGA'],\n",
    "                                                              [2,2,2,1,4,4,3,3,3,2])"
   ]
  },
  {
   "cell_type": "code",
   "execution_count": 62,
   "metadata": {},
   "outputs": [
    {
     "data": {
      "text/plain": [
       "array([ 4.,  1.,  2.,  3., nan])"
      ]
     },
     "execution_count": 62,
     "metadata": {},
     "output_type": "execute_result"
    }
   ],
   "source": [
    "new_df[\"Çözünürlük Standartı\"].unique()"
   ]
  },
  {
   "cell_type": "code",
   "execution_count": 63,
   "metadata": {},
   "outputs": [
    {
     "data": {
      "text/plain": [
       "array(['Belirtilmemiş', 'N4020', '6600H', '10300H', '8250U', '3500U',\n",
       "       '5600H', '11500', '1135G7', '3250U', '5300U', '5625U', '1235U',\n",
       "       'N4120', '11260H', '4800H', '5500U', '5700U', '1005G1', '6800H',\n",
       "       '11400', '6305', '4600H', '5800H', '12650H', 'N4000', '11800H',\n",
       "       '1165G7', '12700H', '1115G4', '9980HK', '1260p', '11370H',\n",
       "       '11400H', '2600', '12500H', '12900HX', '10110U', '1035G4',\n",
       "       '1035G1', 'N5000', '1065G7', '6800HS', '1280P', '3020e', '1255U',\n",
       "       '11300H', 'i5 10400', '8565U', '3150U', '12900H', '9425', '11600H',\n",
       "       'i7-11370H', '11375H', 'M5Y71', '10500H', '9300H', '11950H',\n",
       "       '10210U', '4500U', '12800HX', '6900HX', 'i3-1115G4', 'i5-1135G7',\n",
       "       '1000M', '10870H', 'Ryzen 3 3250U', '2200', '9850H', 'i5-10310U',\n",
       "       '3200U', '5900HX', '11900H', '10885H', 'AMD Ryzen 7 5800H',\n",
       "       '10400', '10750H', '3700U', '11390H', '1195G7', '9225', '5200',\n",
       "       '5800HS', 'Ryzen 5 5600', 'i5-11320H', '3550H', '1185G7', '4700U',\n",
       "       '5600U', '3450U', '7300HQ', '3050U', '7020U', '10400H', '9125',\n",
       "       '10875H', '12900HK', '11600K', '1155G7', '8265U', '3600', '12600K',\n",
       "       'N4200', '5850U', 'N3350', '5800U', '9750H', '10510U', '2430M',\n",
       "       '10200H', '8850H', '11800', '11850H', 'W-11955M', '4300U', '5600G',\n",
       "       '10850H', '1145G7', '10700', '10310U', '5405U', '12950HX', '1265U',\n",
       "       '4405U', '10610U', '10885M', '8750H', '8650U'], dtype=object)"
      ]
     },
     "execution_count": 63,
     "metadata": {},
     "output_type": "execute_result"
    }
   ],
   "source": [
    "new_df[\"İşlemci Modeli\"].unique()"
   ]
  },
  {
   "cell_type": "code",
   "execution_count": 64,
   "metadata": {},
   "outputs": [],
   "source": [
    "new_df.drop(\"İşlemci Modeli\",axis=1,inplace=True)"
   ]
  },
  {
   "cell_type": "code",
   "execution_count": 65,
   "metadata": {},
   "outputs": [],
   "source": [
    "new_df.drop(\"level_0\",axis=1,inplace=True)"
   ]
  },
  {
   "cell_type": "code",
   "execution_count": 66,
   "metadata": {},
   "outputs": [],
   "source": [
    "new_df.reset_index(inplace=True)"
   ]
  },
  {
   "cell_type": "code",
   "execution_count": 67,
   "metadata": {},
   "outputs": [
    {
     "name": "stdout",
     "output_type": "stream",
     "text": [
      "<class 'pandas.core.frame.DataFrame'>\n",
      "RangeIndex: 4618 entries, 0 to 4617\n",
      "Data columns (total 27 columns):\n",
      " #   Column                     Non-Null Count  Dtype  \n",
      "---  ------                     --------------  -----  \n",
      " 0   level_0                    4618 non-null   int64  \n",
      " 1   index                      4618 non-null   int64  \n",
      " 2   Brand                      4618 non-null   object \n",
      " 3   Cihaz Ağırlığı             4078 non-null   float64\n",
      " 4   Dokunmatik Ekran           4618 non-null   int64  \n",
      " 5   Ekran Boyutu               4573 non-null   float64\n",
      " 6   Ekran Kartı                4618 non-null   object \n",
      " 7   Ekran Kartı Bellek Tipi    4618 non-null   object \n",
      " 8   Ekran Kartı Hafızası       2907 non-null   float64\n",
      " 9   Ekran Kartı Tipi           4618 non-null   object \n",
      " 10  Ekran Yenileme Hızı        4404 non-null   object \n",
      " 11  Garanti Süresi             3727 non-null   float64\n",
      " 12  Garanti Tipi               4618 non-null   object \n",
      " 13  Hard Disk Kapasitesi       468 non-null    float64\n",
      " 14  Kullanım Amacı             4618 non-null   object \n",
      " 15  Price                      4618 non-null   float64\n",
      " 16  Ram (Sistem Belleği)       4618 non-null   int64  \n",
      " 17  Ram (Sistem Belleği) Tipi  4618 non-null   int64  \n",
      " 18  SSD Kapasitesi             4461 non-null   float64\n",
      " 19  Star                       4618 non-null   float64\n",
      " 20  Title                      4618 non-null   object \n",
      " 21  Çözünürlük                 4610 non-null   object \n",
      " 22  Çözünürlük Standartı       4597 non-null   float64\n",
      " 23  İşlemci Nesli              4527 non-null   object \n",
      " 24  İşlemci Tipi               4618 non-null   object \n",
      " 25  İşlemci Çekirdek Sayısı    4504 non-null   object \n",
      " 26  İşletim Sistemi            4618 non-null   object \n",
      "dtypes: float64(9), int64(5), object(13)\n",
      "memory usage: 974.2+ KB\n"
     ]
    }
   ],
   "source": [
    "new_df.info()"
   ]
  },
  {
   "cell_type": "code",
   "execution_count": 68,
   "metadata": {},
   "outputs": [
    {
     "data": {
      "text/plain": [
       "11. Nesil        2273\n",
       "12. Nesil         641\n",
       "10. Nesil         466\n",
       "Belirtilmemiş     312\n",
       "5. Nesil          282\n",
       "6. Nesil          125\n",
       "4. Nesil          106\n",
       "Ryzen              87\n",
       "Yok                85\n",
       "3. Nesil           53\n",
       "1. Nesil           38\n",
       "8. Nesil           24\n",
       "7. Nesil           13\n",
       "2. Nesil           11\n",
       "9. Nesil           11\n",
       "Name: İşlemci Nesli, dtype: int64"
      ]
     },
     "execution_count": 68,
     "metadata": {},
     "output_type": "execute_result"
    }
   ],
   "source": [
    "new_df[\"İşlemci Nesli\"].value_counts()"
   ]
  },
  {
   "cell_type": "markdown",
   "metadata": {},
   "source": [
    "# işlemci nesli düzenle"
   ]
  },
  {
   "cell_type": "code",
   "execution_count": 69,
   "metadata": {},
   "outputs": [],
   "source": [
    "# tipler=['AMD E', 'AMD A9','AMD A4', 'AMD', 'AMD Athlon']\n",
    "# for ix, tip in (new_df[new_df[\"İşlemci Nesli\"]==\"Ryzen\"][\"İşlemci Tipi\"]):\n",
    "#     print(ix)\n",
    "# #     if tip in tipler:\n",
    "# #         new_df[\"İşlemci Nesli\"].iloc[ix] = \"1. Nesil\"\n",
    "# #     else:\n",
    "# #         new_df[\"İşlemci Nesli\"].iloc[ix] = tip[-1] + \". Nesil\""
   ]
  },
  {
   "cell_type": "code",
   "execution_count": 70,
   "metadata": {},
   "outputs": [
    {
     "data": {
      "text/plain": [
       "8                1402\n",
       "4                1366\n",
       "Belirtilmemiş     610\n",
       "10                309\n",
       "6                 277\n",
       "2                 249\n",
       "14                155\n",
       "12                 76\n",
       "1                  40\n",
       "16                 20\n",
       "Name: İşlemci Çekirdek Sayısı, dtype: int64"
      ]
     },
     "execution_count": 70,
     "metadata": {},
     "output_type": "execute_result"
    }
   ],
   "source": [
    "new_df[\"İşlemci Çekirdek Sayısı\"].value_counts()"
   ]
  },
  {
   "cell_type": "code",
   "execution_count": 71,
   "metadata": {},
   "outputs": [
    {
     "data": {
      "text/plain": [
       "array(['8', '2', '6', '4', 'Belirtilmemiş', '16', '10', nan, '1', '12',\n",
       "       '14'], dtype=object)"
      ]
     },
     "execution_count": 71,
     "metadata": {},
     "output_type": "execute_result"
    }
   ],
   "source": [
    "new_df[\"İşlemci Çekirdek Sayısı\"].unique()"
   ]
  },
  {
   "cell_type": "code",
   "execution_count": 72,
   "metadata": {},
   "outputs": [
    {
     "name": "stderr",
     "output_type": "stream",
     "text": [
      "<ipython-input-72-d92e72f51ff6>:1: SettingWithCopyWarning: \n",
      "A value is trying to be set on a copy of a slice from a DataFrame.\n",
      "Try using .loc[row_indexer,col_indexer] = value instead\n",
      "\n",
      "See the caveats in the documentation: https://pandas.pydata.org/pandas-docs/stable/user_guide/indexing.html#returning-a-view-versus-a-copy\n",
      "  new_df[\"İşlemci Çekirdek Sayısı\"] = new_df[\"İşlemci Çekirdek Sayısı\"].replace(\"Belirtilmemiş\",np.NaN)\n",
      "<ipython-input-72-d92e72f51ff6>:2: SettingWithCopyWarning: \n",
      "A value is trying to be set on a copy of a slice from a DataFrame.\n",
      "Try using .loc[row_indexer,col_indexer] = value instead\n",
      "\n",
      "See the caveats in the documentation: https://pandas.pydata.org/pandas-docs/stable/user_guide/indexing.html#returning-a-view-versus-a-copy\n",
      "  new_df[\"İşlemci Çekirdek Sayısı\"] = new_df[\"İşlemci Çekirdek Sayısı\"].astype(float)\n"
     ]
    }
   ],
   "source": [
    "new_df[\"İşlemci Çekirdek Sayısı\"] = new_df[\"İşlemci Çekirdek Sayısı\"].replace(\"Belirtilmemiş\",np.NaN)\n",
    "new_df[\"İşlemci Çekirdek Sayısı\"] = new_df[\"İşlemci Çekirdek Sayısı\"].astype(float)"
   ]
  },
  {
   "cell_type": "code",
   "execution_count": 73,
   "metadata": {},
   "outputs": [
    {
     "data": {
      "text/plain": [
       "8.0     1402\n",
       "4.0     1366\n",
       "10.0     309\n",
       "6.0      277\n",
       "2.0      249\n",
       "14.0     155\n",
       "12.0      76\n",
       "1.0       40\n",
       "16.0      20\n",
       "Name: İşlemci Çekirdek Sayısı, dtype: int64"
      ]
     },
     "execution_count": 73,
     "metadata": {},
     "output_type": "execute_result"
    }
   ],
   "source": [
    "new_df[\"İşlemci Çekirdek Sayısı\"].value_counts()"
   ]
  },
  {
   "cell_type": "code",
   "execution_count": 74,
   "metadata": {},
   "outputs": [
    {
     "data": {
      "text/plain": [
       "8.0     1402\n",
       "4.0     1366\n",
       "10.0     309\n",
       "6.0      277\n",
       "2.0      249\n",
       "14.0     155\n",
       "12.0      76\n",
       "1.0       40\n",
       "16.0      20\n",
       "Name: İşlemci Çekirdek Sayısı, dtype: int64"
      ]
     },
     "execution_count": 74,
     "metadata": {},
     "output_type": "execute_result"
    }
   ],
   "source": [
    "new_df[\"İşlemci Çekirdek Sayısı\"].value_counts()"
   ]
  },
  {
   "cell_type": "code",
   "execution_count": 75,
   "metadata": {},
   "outputs": [
    {
     "data": {
      "text/plain": [
       "Windows       2797\n",
       "Free Dos      1535\n",
       "Mac Os         105\n",
       "Windows 11      74\n",
       "Linux           48\n",
       "Ubuntu          46\n",
       "Android          8\n",
       "Chrome OS        5\n",
       "Name: İşletim Sistemi, dtype: int64"
      ]
     },
     "execution_count": 75,
     "metadata": {},
     "output_type": "execute_result"
    }
   ],
   "source": [
    "new_df[\"İşletim Sistemi\"].value_counts()"
   ]
  },
  {
   "cell_type": "code",
   "execution_count": 76,
   "metadata": {},
   "outputs": [
    {
     "name": "stderr",
     "output_type": "stream",
     "text": [
      "<ipython-input-76-50d7599dc930>:1: SettingWithCopyWarning: \n",
      "A value is trying to be set on a copy of a slice from a DataFrame.\n",
      "Try using .loc[row_indexer,col_indexer] = value instead\n",
      "\n",
      "See the caveats in the documentation: https://pandas.pydata.org/pandas-docs/stable/user_guide/indexing.html#returning-a-view-versus-a-copy\n",
      "  new_df[\"İşletim Sistemi\"] = new_df[\"İşletim Sistemi\"].replace([\"Linux\",\"Android\",\"Ubuntu\",\"Chrome OS\"],\"Diğer\")\n"
     ]
    }
   ],
   "source": [
    "new_df[\"İşletim Sistemi\"] = new_df[\"İşletim Sistemi\"].replace([\"Linux\",\"Android\",\"Ubuntu\",\"Chrome OS\"],\"Diğer\")"
   ]
  },
  {
   "cell_type": "code",
   "execution_count": 77,
   "metadata": {},
   "outputs": [
    {
     "data": {
      "text/plain": [
       "Windows       2797\n",
       "Free Dos      1535\n",
       "Diğer          107\n",
       "Mac Os         105\n",
       "Windows 11      74\n",
       "Name: İşletim Sistemi, dtype: int64"
      ]
     },
     "execution_count": 77,
     "metadata": {},
     "output_type": "execute_result"
    }
   ],
   "source": [
    "new_df[\"İşletim Sistemi\"].value_counts()"
   ]
  },
  {
   "cell_type": "code",
   "execution_count": 78,
   "metadata": {},
   "outputs": [
    {
     "name": "stdout",
     "output_type": "stream",
     "text": [
      "<class 'pandas.core.frame.DataFrame'>\n",
      "RangeIndex: 4618 entries, 0 to 4617\n",
      "Data columns (total 27 columns):\n",
      " #   Column                     Non-Null Count  Dtype  \n",
      "---  ------                     --------------  -----  \n",
      " 0   level_0                    4618 non-null   int64  \n",
      " 1   index                      4618 non-null   int64  \n",
      " 2   Brand                      4618 non-null   object \n",
      " 3   Cihaz Ağırlığı             4078 non-null   float64\n",
      " 4   Dokunmatik Ekran           4618 non-null   int64  \n",
      " 5   Ekran Boyutu               4573 non-null   float64\n",
      " 6   Ekran Kartı                4618 non-null   object \n",
      " 7   Ekran Kartı Bellek Tipi    4618 non-null   object \n",
      " 8   Ekran Kartı Hafızası       2907 non-null   float64\n",
      " 9   Ekran Kartı Tipi           4618 non-null   object \n",
      " 10  Ekran Yenileme Hızı        4404 non-null   object \n",
      " 11  Garanti Süresi             3727 non-null   float64\n",
      " 12  Garanti Tipi               4618 non-null   object \n",
      " 13  Hard Disk Kapasitesi       468 non-null    float64\n",
      " 14  Kullanım Amacı             4618 non-null   object \n",
      " 15  Price                      4618 non-null   float64\n",
      " 16  Ram (Sistem Belleği)       4618 non-null   int64  \n",
      " 17  Ram (Sistem Belleği) Tipi  4618 non-null   int64  \n",
      " 18  SSD Kapasitesi             4461 non-null   float64\n",
      " 19  Star                       4618 non-null   float64\n",
      " 20  Title                      4618 non-null   object \n",
      " 21  Çözünürlük                 4610 non-null   object \n",
      " 22  Çözünürlük Standartı       4597 non-null   float64\n",
      " 23  İşlemci Nesli              4527 non-null   object \n",
      " 24  İşlemci Tipi               4618 non-null   object \n",
      " 25  İşlemci Çekirdek Sayısı    3894 non-null   float64\n",
      " 26  İşletim Sistemi            4618 non-null   object \n",
      "dtypes: float64(10), int64(5), object(12)\n",
      "memory usage: 974.2+ KB\n"
     ]
    }
   ],
   "source": [
    "new_df.info()"
   ]
  },
  {
   "cell_type": "code",
   "execution_count": 79,
   "metadata": {},
   "outputs": [],
   "source": [
    "new_df.drop([\"level_0\",\"index\"],axis=1,inplace=True)"
   ]
  },
  {
   "cell_type": "code",
   "execution_count": 80,
   "metadata": {},
   "outputs": [
    {
     "name": "stdout",
     "output_type": "stream",
     "text": [
      "<class 'pandas.core.frame.DataFrame'>\n",
      "RangeIndex: 4618 entries, 0 to 4617\n",
      "Data columns (total 25 columns):\n",
      " #   Column                     Non-Null Count  Dtype  \n",
      "---  ------                     --------------  -----  \n",
      " 0   Brand                      4618 non-null   object \n",
      " 1   Cihaz Ağırlığı             4078 non-null   float64\n",
      " 2   Dokunmatik Ekran           4618 non-null   int64  \n",
      " 3   Ekran Boyutu               4573 non-null   float64\n",
      " 4   Ekran Kartı                4618 non-null   object \n",
      " 5   Ekran Kartı Bellek Tipi    4618 non-null   object \n",
      " 6   Ekran Kartı Hafızası       2907 non-null   float64\n",
      " 7   Ekran Kartı Tipi           4618 non-null   object \n",
      " 8   Ekran Yenileme Hızı        4404 non-null   object \n",
      " 9   Garanti Süresi             3727 non-null   float64\n",
      " 10  Garanti Tipi               4618 non-null   object \n",
      " 11  Hard Disk Kapasitesi       468 non-null    float64\n",
      " 12  Kullanım Amacı             4618 non-null   object \n",
      " 13  Price                      4618 non-null   float64\n",
      " 14  Ram (Sistem Belleği)       4618 non-null   int64  \n",
      " 15  Ram (Sistem Belleği) Tipi  4618 non-null   int64  \n",
      " 16  SSD Kapasitesi             4461 non-null   float64\n",
      " 17  Star                       4618 non-null   float64\n",
      " 18  Title                      4618 non-null   object \n",
      " 19  Çözünürlük                 4610 non-null   object \n",
      " 20  Çözünürlük Standartı       4597 non-null   float64\n",
      " 21  İşlemci Nesli              4527 non-null   object \n",
      " 22  İşlemci Tipi               4618 non-null   object \n",
      " 23  İşlemci Çekirdek Sayısı    3894 non-null   float64\n",
      " 24  İşletim Sistemi            4618 non-null   object \n",
      "dtypes: float64(10), int64(3), object(12)\n",
      "memory usage: 902.1+ KB\n"
     ]
    }
   ],
   "source": [
    "new_df.info()"
   ]
  },
  {
   "cell_type": "code",
   "execution_count": 81,
   "metadata": {},
   "outputs": [],
   "source": [
    "new_df.drop(\"Hard Disk Kapasitesi\",inplace=True,axis=1)"
   ]
  },
  {
   "cell_type": "code",
   "execution_count": 86,
   "metadata": {},
   "outputs": [],
   "source": [
    "new_df.reset_index(inplace=True)"
   ]
  },
  {
   "cell_type": "code",
   "execution_count": 87,
   "metadata": {},
   "outputs": [
    {
     "name": "stderr",
     "output_type": "stream",
     "text": [
      "C:\\Users\\MERVE\\anaconda3\\lib\\site-packages\\pandas\\core\\frame.py:4163: SettingWithCopyWarning: \n",
      "A value is trying to be set on a copy of a slice from a DataFrame\n",
      "\n",
      "See the caveats in the documentation: https://pandas.pydata.org/pandas-docs/stable/user_guide/indexing.html#returning-a-view-versus-a-copy\n",
      "  return super().drop(\n"
     ]
    }
   ],
   "source": [
    "new_df.drop(\"index\",inplace=True,axis=1)"
   ]
  },
  {
   "cell_type": "code",
   "execution_count": 89,
   "metadata": {},
   "outputs": [
    {
     "name": "stderr",
     "output_type": "stream",
     "text": [
      "C:\\Users\\MERVE\\anaconda3\\lib\\site-packages\\pandas\\core\\frame.py:4163: SettingWithCopyWarning: \n",
      "A value is trying to be set on a copy of a slice from a DataFrame\n",
      "\n",
      "See the caveats in the documentation: https://pandas.pydata.org/pandas-docs/stable/user_guide/indexing.html#returning-a-view-versus-a-copy\n",
      "  return super().drop(\n"
     ]
    }
   ],
   "source": [
    "new_df.drop(\"level_0\",inplace=True,axis=1)"
   ]
  },
  {
   "cell_type": "code",
   "execution_count": 91,
   "metadata": {},
   "outputs": [
    {
     "name": "stdout",
     "output_type": "stream",
     "text": [
      "<class 'pandas.core.frame.DataFrame'>\n",
      "RangeIndex: 4618 entries, 0 to 4617\n",
      "Data columns (total 24 columns):\n",
      " #   Column                     Non-Null Count  Dtype  \n",
      "---  ------                     --------------  -----  \n",
      " 0   Brand                      4618 non-null   object \n",
      " 1   Cihaz Ağırlığı             4078 non-null   float64\n",
      " 2   Dokunmatik Ekran           4618 non-null   int64  \n",
      " 3   Ekran Boyutu               4573 non-null   float64\n",
      " 4   Ekran Kartı                4618 non-null   object \n",
      " 5   Ekran Kartı Bellek Tipi    4618 non-null   object \n",
      " 6   Ekran Kartı Hafızası       2907 non-null   float64\n",
      " 7   Ekran Kartı Tipi           4618 non-null   object \n",
      " 8   Ekran Yenileme Hızı        4404 non-null   object \n",
      " 9   Garanti Süresi             3727 non-null   float64\n",
      " 10  Garanti Tipi               4618 non-null   object \n",
      " 11  Kullanım Amacı             4618 non-null   object \n",
      " 12  Price                      4618 non-null   float64\n",
      " 13  Ram (Sistem Belleği)       4618 non-null   int64  \n",
      " 14  Ram (Sistem Belleği) Tipi  4618 non-null   int64  \n",
      " 15  SSD Kapasitesi             4461 non-null   float64\n",
      " 16  Star                       4618 non-null   float64\n",
      " 17  Title                      4618 non-null   object \n",
      " 18  Çözünürlük                 4610 non-null   object \n",
      " 19  Çözünürlük Standartı       4597 non-null   float64\n",
      " 20  İşlemci Nesli              4527 non-null   object \n",
      " 21  İşlemci Tipi               4618 non-null   object \n",
      " 22  İşlemci Çekirdek Sayısı    3894 non-null   float64\n",
      " 23  İşletim Sistemi            4618 non-null   object \n",
      "dtypes: float64(9), int64(3), object(12)\n",
      "memory usage: 866.0+ KB\n"
     ]
    }
   ],
   "source": [
    "new_df.info()"
   ]
  },
  {
   "cell_type": "code",
   "execution_count": 90,
   "metadata": {},
   "outputs": [
    {
     "data": {
      "text/html": [
       "<div>\n",
       "<style scoped>\n",
       "    .dataframe tbody tr th:only-of-type {\n",
       "        vertical-align: middle;\n",
       "    }\n",
       "\n",
       "    .dataframe tbody tr th {\n",
       "        vertical-align: top;\n",
       "    }\n",
       "\n",
       "    .dataframe thead th {\n",
       "        text-align: right;\n",
       "    }\n",
       "</style>\n",
       "<table border=\"1\" class=\"dataframe\">\n",
       "  <thead>\n",
       "    <tr style=\"text-align: right;\">\n",
       "      <th></th>\n",
       "      <th>Brand</th>\n",
       "      <th>Cihaz Ağırlığı</th>\n",
       "      <th>Dokunmatik Ekran</th>\n",
       "      <th>Ekran Boyutu</th>\n",
       "      <th>Ekran Kartı</th>\n",
       "      <th>Ekran Kartı Bellek Tipi</th>\n",
       "      <th>Ekran Kartı Hafızası</th>\n",
       "      <th>Ekran Kartı Tipi</th>\n",
       "      <th>Ekran Yenileme Hızı</th>\n",
       "      <th>Garanti Süresi</th>\n",
       "      <th>...</th>\n",
       "      <th>Ram (Sistem Belleği) Tipi</th>\n",
       "      <th>SSD Kapasitesi</th>\n",
       "      <th>Star</th>\n",
       "      <th>Title</th>\n",
       "      <th>Çözünürlük</th>\n",
       "      <th>Çözünürlük Standartı</th>\n",
       "      <th>İşlemci Nesli</th>\n",
       "      <th>İşlemci Tipi</th>\n",
       "      <th>İşlemci Çekirdek Sayısı</th>\n",
       "      <th>İşletim Sistemi</th>\n",
       "    </tr>\n",
       "  </thead>\n",
       "  <tbody>\n",
       "    <tr>\n",
       "      <th>0</th>\n",
       "      <td>Apple</td>\n",
       "      <td>NaN</td>\n",
       "      <td>0</td>\n",
       "      <td>13.0</td>\n",
       "      <td>M1 7 Çekirdekli</td>\n",
       "      <td>Belirtilmemiş</td>\n",
       "      <td>NaN</td>\n",
       "      <td>Dahili</td>\n",
       "      <td>Belirtilmemiş</td>\n",
       "      <td>2.0</td>\n",
       "      <td>...</td>\n",
       "      <td>3</td>\n",
       "      <td>256.0</td>\n",
       "      <td>4.84</td>\n",
       "      <td>Macbook Air 13'' M1 8gb 256gb Ssd Uzay Grisi ...</td>\n",
       "      <td>2</td>\n",
       "      <td>4.0</td>\n",
       "      <td>Belirtilmemiş</td>\n",
       "      <td>Apple M1</td>\n",
       "      <td>8.0</td>\n",
       "      <td>Mac Os</td>\n",
       "    </tr>\n",
       "    <tr>\n",
       "      <th>1</th>\n",
       "      <td>LENOVO</td>\n",
       "      <td>3.0</td>\n",
       "      <td>0</td>\n",
       "      <td>14.0</td>\n",
       "      <td>Intel UHD Graphics 600</td>\n",
       "      <td>DDR4</td>\n",
       "      <td>NaN</td>\n",
       "      <td>Dahili</td>\n",
       "      <td>Belirtilmemiş</td>\n",
       "      <td>2.0</td>\n",
       "      <td>...</td>\n",
       "      <td>4</td>\n",
       "      <td>128.0</td>\n",
       "      <td>4.25</td>\n",
       "      <td>Ideapad Intel Celeron N4020 4GB 128GB SSD 14\"...</td>\n",
       "      <td>1</td>\n",
       "      <td>1.0</td>\n",
       "      <td>Belirtilmemiş</td>\n",
       "      <td>Intel Celeron</td>\n",
       "      <td>2.0</td>\n",
       "      <td>Free Dos</td>\n",
       "    </tr>\n",
       "    <tr>\n",
       "      <th>2</th>\n",
       "      <td>LENOVO</td>\n",
       "      <td>1.0</td>\n",
       "      <td>0</td>\n",
       "      <td>16.0</td>\n",
       "      <td>Nvidia GeForce RTX 3050 Ti</td>\n",
       "      <td>GDDR6</td>\n",
       "      <td>4.0</td>\n",
       "      <td>Harici</td>\n",
       "      <td>165 Hz</td>\n",
       "      <td>2.0</td>\n",
       "      <td>...</td>\n",
       "      <td>8</td>\n",
       "      <td>512.0</td>\n",
       "      <td>4.36</td>\n",
       "      <td>Ideapad Gaming 3 82sc0062tx Amd Ryzen5 6600h ...</td>\n",
       "      <td>NaN</td>\n",
       "      <td>2.0</td>\n",
       "      <td>6. Nesil</td>\n",
       "      <td>AMD Ryzen 5</td>\n",
       "      <td>6.0</td>\n",
       "      <td>Free Dos</td>\n",
       "    </tr>\n",
       "    <tr>\n",
       "      <th>3</th>\n",
       "      <td>ASUS</td>\n",
       "      <td>2.0</td>\n",
       "      <td>0</td>\n",
       "      <td>15.6</td>\n",
       "      <td>Nvidia GeForce GTX 1650</td>\n",
       "      <td>GDDR6</td>\n",
       "      <td>4.0</td>\n",
       "      <td>Harici</td>\n",
       "      <td>144 Hz</td>\n",
       "      <td>2.0</td>\n",
       "      <td>...</td>\n",
       "      <td>4</td>\n",
       "      <td>512.0</td>\n",
       "      <td>4.74</td>\n",
       "      <td>Tuf Gamıng A15 Fx506lhb-hn347 Intel I5-10300h...</td>\n",
       "      <td>1</td>\n",
       "      <td>2.0</td>\n",
       "      <td>Belirtilmemiş</td>\n",
       "      <td>Intel Core i5</td>\n",
       "      <td>4.0</td>\n",
       "      <td>Free Dos</td>\n",
       "    </tr>\n",
       "    <tr>\n",
       "      <th>4</th>\n",
       "      <td>LENOVO</td>\n",
       "      <td>2.0</td>\n",
       "      <td>1</td>\n",
       "      <td>15.6</td>\n",
       "      <td>Belirtilmemiş</td>\n",
       "      <td>Belirtilmemiş</td>\n",
       "      <td>NaN</td>\n",
       "      <td>Dahili</td>\n",
       "      <td>Belirtilmemiş</td>\n",
       "      <td>2.0</td>\n",
       "      <td>...</td>\n",
       "      <td>3</td>\n",
       "      <td>128.0</td>\n",
       "      <td>4.60</td>\n",
       "      <td>Yoga C630 Intel Core I5 8250u 8gb 128gb Ssd C...</td>\n",
       "      <td>1</td>\n",
       "      <td>2.0</td>\n",
       "      <td>8. Nesil</td>\n",
       "      <td>Intel Core i5</td>\n",
       "      <td>NaN</td>\n",
       "      <td>Diğer</td>\n",
       "    </tr>\n",
       "    <tr>\n",
       "      <th>...</th>\n",
       "      <td>...</td>\n",
       "      <td>...</td>\n",
       "      <td>...</td>\n",
       "      <td>...</td>\n",
       "      <td>...</td>\n",
       "      <td>...</td>\n",
       "      <td>...</td>\n",
       "      <td>...</td>\n",
       "      <td>...</td>\n",
       "      <td>...</td>\n",
       "      <td>...</td>\n",
       "      <td>...</td>\n",
       "      <td>...</td>\n",
       "      <td>...</td>\n",
       "      <td>...</td>\n",
       "      <td>...</td>\n",
       "      <td>...</td>\n",
       "      <td>...</td>\n",
       "      <td>...</td>\n",
       "      <td>...</td>\n",
       "      <td>...</td>\n",
       "    </tr>\n",
       "    <tr>\n",
       "      <th>4613</th>\n",
       "      <td>Dell</td>\n",
       "      <td>2.0</td>\n",
       "      <td>0</td>\n",
       "      <td>15.6</td>\n",
       "      <td>Nvidia GeForce RTX 3050</td>\n",
       "      <td>GDDR6</td>\n",
       "      <td>4.0</td>\n",
       "      <td>Harici</td>\n",
       "      <td>120 Hz</td>\n",
       "      <td>2.0</td>\n",
       "      <td>...</td>\n",
       "      <td>4</td>\n",
       "      <td>512.0</td>\n",
       "      <td>0.00</td>\n",
       "      <td>G15 5511 G55112306u08 I5-11260h 64gb 512ssd R...</td>\n",
       "      <td>1</td>\n",
       "      <td>2.0</td>\n",
       "      <td>11. Nesil</td>\n",
       "      <td>Intel Core i5</td>\n",
       "      <td>6.0</td>\n",
       "      <td>Windows</td>\n",
       "    </tr>\n",
       "    <tr>\n",
       "      <th>4614</th>\n",
       "      <td>Dell</td>\n",
       "      <td>2.0</td>\n",
       "      <td>0</td>\n",
       "      <td>15.6</td>\n",
       "      <td>Nvidia GeForce RTX 3050</td>\n",
       "      <td>GDDR6</td>\n",
       "      <td>4.0</td>\n",
       "      <td>Harici</td>\n",
       "      <td>120 Hz</td>\n",
       "      <td>2.0</td>\n",
       "      <td>...</td>\n",
       "      <td>4</td>\n",
       "      <td>512.0</td>\n",
       "      <td>0.00</td>\n",
       "      <td>G15 5511 G55112306u02 I5-11260h 32gb 512ssd R...</td>\n",
       "      <td>1</td>\n",
       "      <td>2.0</td>\n",
       "      <td>11. Nesil</td>\n",
       "      <td>Intel Core i5</td>\n",
       "      <td>6.0</td>\n",
       "      <td>Free Dos</td>\n",
       "    </tr>\n",
       "    <tr>\n",
       "      <th>4615</th>\n",
       "      <td>Dell</td>\n",
       "      <td>2.0</td>\n",
       "      <td>0</td>\n",
       "      <td>15.6</td>\n",
       "      <td>Nvidia GeForce RTX 3050</td>\n",
       "      <td>GDDR6</td>\n",
       "      <td>4.0</td>\n",
       "      <td>Harici</td>\n",
       "      <td>120 Hz</td>\n",
       "      <td>2.0</td>\n",
       "      <td>...</td>\n",
       "      <td>4</td>\n",
       "      <td>1024.0</td>\n",
       "      <td>0.00</td>\n",
       "      <td>G15 5511 G55112306u01 I5-11260h 16gb 1tbssd R...</td>\n",
       "      <td>1</td>\n",
       "      <td>2.0</td>\n",
       "      <td>11. Nesil</td>\n",
       "      <td>Intel Core i5</td>\n",
       "      <td>6.0</td>\n",
       "      <td>Free Dos</td>\n",
       "    </tr>\n",
       "    <tr>\n",
       "      <th>4616</th>\n",
       "      <td>Dell</td>\n",
       "      <td>2.0</td>\n",
       "      <td>0</td>\n",
       "      <td>15.6</td>\n",
       "      <td>Nvidia GeForce RTX 3050</td>\n",
       "      <td>GDDR6</td>\n",
       "      <td>4.0</td>\n",
       "      <td>Harici</td>\n",
       "      <td>120 Hz</td>\n",
       "      <td>2.0</td>\n",
       "      <td>...</td>\n",
       "      <td>4</td>\n",
       "      <td>512.0</td>\n",
       "      <td>0.00</td>\n",
       "      <td>G15 5511 G55112306u I5-11260h 16gb 512ssd Rtx...</td>\n",
       "      <td>1</td>\n",
       "      <td>2.0</td>\n",
       "      <td>11. Nesil</td>\n",
       "      <td>Intel Core i5</td>\n",
       "      <td>6.0</td>\n",
       "      <td>Free Dos</td>\n",
       "    </tr>\n",
       "    <tr>\n",
       "      <th>4617</th>\n",
       "      <td>Dell</td>\n",
       "      <td>2.0</td>\n",
       "      <td>0</td>\n",
       "      <td>15.6</td>\n",
       "      <td>Nvidia GeForce RTX 3050</td>\n",
       "      <td>GDDR6</td>\n",
       "      <td>4.0</td>\n",
       "      <td>Harici</td>\n",
       "      <td>120 Hz</td>\n",
       "      <td>2.0</td>\n",
       "      <td>...</td>\n",
       "      <td>4</td>\n",
       "      <td>512.0</td>\n",
       "      <td>0.00</td>\n",
       "      <td>G15 5511 G55112306u04 I5-11260h 64gb 512ssd R...</td>\n",
       "      <td>1</td>\n",
       "      <td>2.0</td>\n",
       "      <td>11. Nesil</td>\n",
       "      <td>Intel Core i5</td>\n",
       "      <td>6.0</td>\n",
       "      <td>Free Dos</td>\n",
       "    </tr>\n",
       "  </tbody>\n",
       "</table>\n",
       "<p>4618 rows × 24 columns</p>\n",
       "</div>"
      ],
      "text/plain": [
       "       Brand  Cihaz Ağırlığı  Dokunmatik Ekran  Ekran Boyutu  \\\n",
       "0      Apple             NaN                 0          13.0   \n",
       "1     LENOVO             3.0                 0          14.0   \n",
       "2     LENOVO             1.0                 0          16.0   \n",
       "3       ASUS             2.0                 0          15.6   \n",
       "4     LENOVO             2.0                 1          15.6   \n",
       "...      ...             ...               ...           ...   \n",
       "4613    Dell             2.0                 0          15.6   \n",
       "4614    Dell             2.0                 0          15.6   \n",
       "4615    Dell             2.0                 0          15.6   \n",
       "4616    Dell             2.0                 0          15.6   \n",
       "4617    Dell             2.0                 0          15.6   \n",
       "\n",
       "                     Ekran Kartı Ekran Kartı Bellek Tipi  \\\n",
       "0                M1 7 Çekirdekli           Belirtilmemiş   \n",
       "1         Intel UHD Graphics 600                    DDR4   \n",
       "2     Nvidia GeForce RTX 3050 Ti                   GDDR6   \n",
       "3        Nvidia GeForce GTX 1650                   GDDR6   \n",
       "4                  Belirtilmemiş           Belirtilmemiş   \n",
       "...                          ...                     ...   \n",
       "4613     Nvidia GeForce RTX 3050                   GDDR6   \n",
       "4614     Nvidia GeForce RTX 3050                   GDDR6   \n",
       "4615     Nvidia GeForce RTX 3050                   GDDR6   \n",
       "4616     Nvidia GeForce RTX 3050                   GDDR6   \n",
       "4617     Nvidia GeForce RTX 3050                   GDDR6   \n",
       "\n",
       "      Ekran Kartı Hafızası Ekran Kartı Tipi Ekran Yenileme Hızı  \\\n",
       "0                      NaN           Dahili       Belirtilmemiş   \n",
       "1                      NaN           Dahili       Belirtilmemiş   \n",
       "2                      4.0           Harici              165 Hz   \n",
       "3                      4.0           Harici              144 Hz   \n",
       "4                      NaN           Dahili       Belirtilmemiş   \n",
       "...                    ...              ...                 ...   \n",
       "4613                   4.0           Harici              120 Hz   \n",
       "4614                   4.0           Harici              120 Hz   \n",
       "4615                   4.0           Harici              120 Hz   \n",
       "4616                   4.0           Harici              120 Hz   \n",
       "4617                   4.0           Harici              120 Hz   \n",
       "\n",
       "      Garanti Süresi  ... Ram (Sistem Belleği) Tipi SSD Kapasitesi  Star  \\\n",
       "0                2.0  ...                         3          256.0  4.84   \n",
       "1                2.0  ...                         4          128.0  4.25   \n",
       "2                2.0  ...                         8          512.0  4.36   \n",
       "3                2.0  ...                         4          512.0  4.74   \n",
       "4                2.0  ...                         3          128.0  4.60   \n",
       "...              ...  ...                       ...            ...   ...   \n",
       "4613             2.0  ...                         4          512.0  0.00   \n",
       "4614             2.0  ...                         4          512.0  0.00   \n",
       "4615             2.0  ...                         4         1024.0  0.00   \n",
       "4616             2.0  ...                         4          512.0  0.00   \n",
       "4617             2.0  ...                         4          512.0  0.00   \n",
       "\n",
       "                                                  Title  Çözünürlük  \\\n",
       "0      Macbook Air 13'' M1 8gb 256gb Ssd Uzay Grisi ...           2   \n",
       "1      Ideapad Intel Celeron N4020 4GB 128GB SSD 14\"...           1   \n",
       "2      Ideapad Gaming 3 82sc0062tx Amd Ryzen5 6600h ...         NaN   \n",
       "3      Tuf Gamıng A15 Fx506lhb-hn347 Intel I5-10300h...           1   \n",
       "4      Yoga C630 Intel Core I5 8250u 8gb 128gb Ssd C...           1   \n",
       "...                                                 ...         ...   \n",
       "4613   G15 5511 G55112306u08 I5-11260h 64gb 512ssd R...           1   \n",
       "4614   G15 5511 G55112306u02 I5-11260h 32gb 512ssd R...           1   \n",
       "4615   G15 5511 G55112306u01 I5-11260h 16gb 1tbssd R...           1   \n",
       "4616   G15 5511 G55112306u I5-11260h 16gb 512ssd Rtx...           1   \n",
       "4617   G15 5511 G55112306u04 I5-11260h 64gb 512ssd R...           1   \n",
       "\n",
       "      Çözünürlük Standartı  İşlemci Nesli   İşlemci Tipi  \\\n",
       "0                      4.0  Belirtilmemiş       Apple M1   \n",
       "1                      1.0  Belirtilmemiş  Intel Celeron   \n",
       "2                      2.0       6. Nesil    AMD Ryzen 5   \n",
       "3                      2.0  Belirtilmemiş  Intel Core i5   \n",
       "4                      2.0       8. Nesil  Intel Core i5   \n",
       "...                    ...            ...            ...   \n",
       "4613                   2.0      11. Nesil  Intel Core i5   \n",
       "4614                   2.0      11. Nesil  Intel Core i5   \n",
       "4615                   2.0      11. Nesil  Intel Core i5   \n",
       "4616                   2.0      11. Nesil  Intel Core i5   \n",
       "4617                   2.0      11. Nesil  Intel Core i5   \n",
       "\n",
       "     İşlemci Çekirdek Sayısı  İşletim Sistemi  \n",
       "0                        8.0           Mac Os  \n",
       "1                        2.0         Free Dos  \n",
       "2                        6.0         Free Dos  \n",
       "3                        4.0         Free Dos  \n",
       "4                        NaN            Diğer  \n",
       "...                      ...              ...  \n",
       "4613                     6.0          Windows  \n",
       "4614                     6.0         Free Dos  \n",
       "4615                     6.0         Free Dos  \n",
       "4616                     6.0         Free Dos  \n",
       "4617                     6.0         Free Dos  \n",
       "\n",
       "[4618 rows x 24 columns]"
      ]
     },
     "execution_count": 90,
     "metadata": {},
     "output_type": "execute_result"
    }
   ],
   "source": [
    "new_df"
   ]
  },
  {
   "cell_type": "code",
   "execution_count": 93,
   "metadata": {},
   "outputs": [
    {
     "name": "stderr",
     "output_type": "stream",
     "text": [
      "<ipython-input-93-6b34463e2f37>:1: SettingWithCopyWarning: \n",
      "A value is trying to be set on a copy of a slice from a DataFrame\n",
      "\n",
      "See the caveats in the documentation: https://pandas.pydata.org/pandas-docs/stable/user_guide/indexing.html#returning-a-view-versus-a-copy\n",
      "  new_df.dropna(inplace = True)\n"
     ]
    }
   ],
   "source": [
    "new_df.dropna(inplace = True)"
   ]
  },
  {
   "cell_type": "code",
   "execution_count": 103,
   "metadata": {},
   "outputs": [
    {
     "name": "stdout",
     "output_type": "stream",
     "text": [
      "<class 'pandas.core.frame.DataFrame'>\n",
      "Int64Index: 1818 entries, 3 to 4617\n",
      "Data columns (total 24 columns):\n",
      " #   Column                     Non-Null Count  Dtype  \n",
      "---  ------                     --------------  -----  \n",
      " 0   Brand                      1818 non-null   object \n",
      " 1   Cihaz Ağırlığı             1818 non-null   float64\n",
      " 2   Dokunmatik Ekran           1818 non-null   int64  \n",
      " 3   Ekran Boyutu               1818 non-null   float64\n",
      " 4   Ekran Kartı                1818 non-null   object \n",
      " 5   Ekran Kartı Bellek Tipi    1818 non-null   object \n",
      " 6   Ekran Kartı Hafızası       1818 non-null   float64\n",
      " 7   Ekran Kartı Tipi           1818 non-null   object \n",
      " 8   Ekran Yenileme Hızı        1818 non-null   object \n",
      " 9   Garanti Süresi             1818 non-null   float64\n",
      " 10  Garanti Tipi               1818 non-null   object \n",
      " 11  Kullanım Amacı             1818 non-null   object \n",
      " 12  Price                      1818 non-null   float64\n",
      " 13  Ram (Sistem Belleği)       1818 non-null   int64  \n",
      " 14  Ram (Sistem Belleği) Tipi  1818 non-null   int64  \n",
      " 15  SSD Kapasitesi             1818 non-null   float64\n",
      " 16  Star                       1818 non-null   float64\n",
      " 17  Title                      1818 non-null   object \n",
      " 18  Çözünürlük                 1818 non-null   float64\n",
      " 19  Çözünürlük Standartı       1818 non-null   float64\n",
      " 20  İşlemci Nesli              1818 non-null   object \n",
      " 21  İşlemci Tipi               1818 non-null   object \n",
      " 22  İşlemci Çekirdek Sayısı    1818 non-null   float64\n",
      " 23  İşletim Sistemi            1818 non-null   object \n",
      "dtypes: float64(10), int64(3), object(11)\n",
      "memory usage: 355.1+ KB\n"
     ]
    }
   ],
   "source": [
    "new_df.info()"
   ]
  },
  {
   "cell_type": "code",
   "execution_count": null,
   "metadata": {},
   "outputs": [],
   "source": [
    "new_df"
   ]
  },
  {
   "cell_type": "code",
   "execution_count": 104,
   "metadata": {},
   "outputs": [],
   "source": [
    "from sklearn.model_selection import train_test_split\n",
    "\n",
    "# X ve Y değişkenlerimizi oluşturma\n",
    "X = new_df.loc[:,['Cihaz Ağırlığı','Ekran Boyutu', 'Ekran Kartı Hafızası',\"Garanti Süresi\",\"SSD Kapasitesi\",\"Çözünürlük\",\"Çözünürlük Standartı\",\"Ram (Sistem Belleği)\",\"Ram (Sistem Belleği) Tipi\"]]\n",
    "y = new_df.Price\n",
    "\n",
    "# Train/Test Ayrımı\n",
    "X_train, x_test, Y_train, y_test = train_test_split(X, y, test_size=0.2, random_state=42)\n",
    "\n",
    "# Train/Validation Ayrımı\n",
    "x_train, x_val, y_train, y_val = train_test_split(X_train, Y_train, test_size=0.25, random_state=42)"
   ]
  },
  {
   "cell_type": "code",
   "execution_count": 105,
   "metadata": {},
   "outputs": [
    {
     "name": "stdout",
     "output_type": "stream",
     "text": [
      "X Train: (1090, 9)\n",
      "X Validation: (364, 9)\n",
      "X test: (364, 9)\n"
     ]
    }
   ],
   "source": [
    "print('X Train:', x_train.shape)\n",
    "print('X Validation:', x_val.shape)\n",
    "print('X test:', x_test.shape)"
   ]
  },
  {
   "cell_type": "code",
   "execution_count": 106,
   "metadata": {},
   "outputs": [
    {
     "name": "stdout",
     "output_type": "stream",
     "text": [
      "MSE:  155353575.3759222\n",
      "R2 Score:  0.6917717556994434\n"
     ]
    }
   ],
   "source": [
    "from sklearn.linear_model import LinearRegression\n",
    "\n",
    "# Modeli Oluşturma\n",
    "lreg = LinearRegression()\n",
    "\n",
    "lreg.fit(x_train,y_train)\n",
    "\n",
    "pred = lreg.predict(x_val)\n",
    "\n",
    "# MSE Hesabı\n",
    "mse = np.mean((pred - y_val)**2)\n",
    "print(\"MSE: \", mse)\n",
    "\n",
    "# R2 Skor\n",
    "print(\"R2 Score: \", lreg.score(x_val, y_val))"
   ]
  },
  {
   "cell_type": "code",
   "execution_count": 107,
   "metadata": {},
   "outputs": [
    {
     "data": {
      "text/plain": [
       "array([ 2.35870308e+03,  5.34707535e+03,  4.44184912e+03,  2.24907708e+04,\n",
       "        4.78066954e+00,  7.25279835e+03, -1.04835792e+03,  2.17139760e+02,\n",
       "        4.21727962e+01])"
      ]
     },
     "execution_count": 107,
     "metadata": {},
     "output_type": "execute_result"
    }
   ],
   "source": [
    "# Modelimizde yer alan katsayı değerleri\n",
    "lreg.coef_"
   ]
  },
  {
   "cell_type": "code",
   "execution_count": 108,
   "metadata": {
    "scrolled": true
   },
   "outputs": [
    {
     "data": {
      "text/html": [
       "<div>\n",
       "<style scoped>\n",
       "    .dataframe tbody tr th:only-of-type {\n",
       "        vertical-align: middle;\n",
       "    }\n",
       "\n",
       "    .dataframe tbody tr th {\n",
       "        vertical-align: top;\n",
       "    }\n",
       "\n",
       "    .dataframe thead th {\n",
       "        text-align: right;\n",
       "    }\n",
       "</style>\n",
       "<table border=\"1\" class=\"dataframe\">\n",
       "  <thead>\n",
       "    <tr style=\"text-align: right;\">\n",
       "      <th></th>\n",
       "      <th>Cihaz Ağırlığı</th>\n",
       "      <th>Dokunmatik Ekran</th>\n",
       "      <th>Ekran Boyutu</th>\n",
       "      <th>Ekran Kartı Hafızası</th>\n",
       "      <th>Ekran Kartı Tipi</th>\n",
       "      <th>Ekran Yenileme Hızı</th>\n",
       "      <th>Garanti Süresi</th>\n",
       "      <th>Price</th>\n",
       "      <th>Ram (Sistem Belleği)</th>\n",
       "      <th>Ram (Sistem Belleği) Tipi</th>\n",
       "      <th>...</th>\n",
       "      <th>İşlemci Tipi_Intel Core i3</th>\n",
       "      <th>İşlemci Tipi_Intel Core i5</th>\n",
       "      <th>İşlemci Tipi_Intel Core i7</th>\n",
       "      <th>İşlemci Tipi_Intel Core i9</th>\n",
       "      <th>İşlemci Tipi_Intel Xeon W Serisi</th>\n",
       "      <th>İşlemci Tipi_M2</th>\n",
       "      <th>İşletim Sistemi_Free Dos</th>\n",
       "      <th>İşletim Sistemi_Mac Os</th>\n",
       "      <th>İşletim Sistemi_Windows</th>\n",
       "      <th>İşletim Sistemi_Windows 11</th>\n",
       "    </tr>\n",
       "  </thead>\n",
       "  <tbody>\n",
       "    <tr>\n",
       "      <th>3</th>\n",
       "      <td>2.0</td>\n",
       "      <td>0</td>\n",
       "      <td>15.6</td>\n",
       "      <td>4.0</td>\n",
       "      <td>Harici</td>\n",
       "      <td>144 Hz</td>\n",
       "      <td>2.0</td>\n",
       "      <td>15190.57</td>\n",
       "      <td>8</td>\n",
       "      <td>4</td>\n",
       "      <td>...</td>\n",
       "      <td>0</td>\n",
       "      <td>1</td>\n",
       "      <td>0</td>\n",
       "      <td>0</td>\n",
       "      <td>0</td>\n",
       "      <td>0</td>\n",
       "      <td>1</td>\n",
       "      <td>0</td>\n",
       "      <td>0</td>\n",
       "      <td>0</td>\n",
       "    </tr>\n",
       "    <tr>\n",
       "      <th>6</th>\n",
       "      <td>3.0</td>\n",
       "      <td>0</td>\n",
       "      <td>13.6</td>\n",
       "      <td>8.0</td>\n",
       "      <td>Dahili</td>\n",
       "      <td>120 Hz</td>\n",
       "      <td>2.0</td>\n",
       "      <td>23505.49</td>\n",
       "      <td>8</td>\n",
       "      <td>8</td>\n",
       "      <td>...</td>\n",
       "      <td>0</td>\n",
       "      <td>0</td>\n",
       "      <td>0</td>\n",
       "      <td>0</td>\n",
       "      <td>0</td>\n",
       "      <td>1</td>\n",
       "      <td>0</td>\n",
       "      <td>1</td>\n",
       "      <td>0</td>\n",
       "      <td>0</td>\n",
       "    </tr>\n",
       "    <tr>\n",
       "      <th>7</th>\n",
       "      <td>2.0</td>\n",
       "      <td>0</td>\n",
       "      <td>15.6</td>\n",
       "      <td>4.0</td>\n",
       "      <td>Harici</td>\n",
       "      <td>144 Hz</td>\n",
       "      <td>2.0</td>\n",
       "      <td>20759.00</td>\n",
       "      <td>16</td>\n",
       "      <td>4</td>\n",
       "      <td>...</td>\n",
       "      <td>0</td>\n",
       "      <td>0</td>\n",
       "      <td>0</td>\n",
       "      <td>0</td>\n",
       "      <td>0</td>\n",
       "      <td>0</td>\n",
       "      <td>1</td>\n",
       "      <td>0</td>\n",
       "      <td>0</td>\n",
       "      <td>0</td>\n",
       "    </tr>\n",
       "    <tr>\n",
       "      <th>8</th>\n",
       "      <td>2.0</td>\n",
       "      <td>0</td>\n",
       "      <td>15.6</td>\n",
       "      <td>4.0</td>\n",
       "      <td>Harici</td>\n",
       "      <td>144 Hz</td>\n",
       "      <td>2.0</td>\n",
       "      <td>15599.00</td>\n",
       "      <td>8</td>\n",
       "      <td>4</td>\n",
       "      <td>...</td>\n",
       "      <td>0</td>\n",
       "      <td>0</td>\n",
       "      <td>0</td>\n",
       "      <td>0</td>\n",
       "      <td>0</td>\n",
       "      <td>0</td>\n",
       "      <td>1</td>\n",
       "      <td>0</td>\n",
       "      <td>0</td>\n",
       "      <td>0</td>\n",
       "    </tr>\n",
       "    <tr>\n",
       "      <th>10</th>\n",
       "      <td>2.0</td>\n",
       "      <td>0</td>\n",
       "      <td>15.6</td>\n",
       "      <td>4.0</td>\n",
       "      <td>Harici</td>\n",
       "      <td>120 Hz</td>\n",
       "      <td>2.0</td>\n",
       "      <td>17950.00</td>\n",
       "      <td>16</td>\n",
       "      <td>4</td>\n",
       "      <td>...</td>\n",
       "      <td>0</td>\n",
       "      <td>1</td>\n",
       "      <td>0</td>\n",
       "      <td>0</td>\n",
       "      <td>0</td>\n",
       "      <td>0</td>\n",
       "      <td>1</td>\n",
       "      <td>0</td>\n",
       "      <td>0</td>\n",
       "      <td>0</td>\n",
       "    </tr>\n",
       "    <tr>\n",
       "      <th>...</th>\n",
       "      <td>...</td>\n",
       "      <td>...</td>\n",
       "      <td>...</td>\n",
       "      <td>...</td>\n",
       "      <td>...</td>\n",
       "      <td>...</td>\n",
       "      <td>...</td>\n",
       "      <td>...</td>\n",
       "      <td>...</td>\n",
       "      <td>...</td>\n",
       "      <td>...</td>\n",
       "      <td>...</td>\n",
       "      <td>...</td>\n",
       "      <td>...</td>\n",
       "      <td>...</td>\n",
       "      <td>...</td>\n",
       "      <td>...</td>\n",
       "      <td>...</td>\n",
       "      <td>...</td>\n",
       "      <td>...</td>\n",
       "      <td>...</td>\n",
       "    </tr>\n",
       "    <tr>\n",
       "      <th>4613</th>\n",
       "      <td>2.0</td>\n",
       "      <td>0</td>\n",
       "      <td>15.6</td>\n",
       "      <td>4.0</td>\n",
       "      <td>Harici</td>\n",
       "      <td>120 Hz</td>\n",
       "      <td>2.0</td>\n",
       "      <td>29999.00</td>\n",
       "      <td>64</td>\n",
       "      <td>4</td>\n",
       "      <td>...</td>\n",
       "      <td>0</td>\n",
       "      <td>1</td>\n",
       "      <td>0</td>\n",
       "      <td>0</td>\n",
       "      <td>0</td>\n",
       "      <td>0</td>\n",
       "      <td>0</td>\n",
       "      <td>0</td>\n",
       "      <td>1</td>\n",
       "      <td>0</td>\n",
       "    </tr>\n",
       "    <tr>\n",
       "      <th>4614</th>\n",
       "      <td>2.0</td>\n",
       "      <td>0</td>\n",
       "      <td>15.6</td>\n",
       "      <td>4.0</td>\n",
       "      <td>Harici</td>\n",
       "      <td>120 Hz</td>\n",
       "      <td>2.0</td>\n",
       "      <td>29999.00</td>\n",
       "      <td>32</td>\n",
       "      <td>4</td>\n",
       "      <td>...</td>\n",
       "      <td>0</td>\n",
       "      <td>1</td>\n",
       "      <td>0</td>\n",
       "      <td>0</td>\n",
       "      <td>0</td>\n",
       "      <td>0</td>\n",
       "      <td>1</td>\n",
       "      <td>0</td>\n",
       "      <td>0</td>\n",
       "      <td>0</td>\n",
       "    </tr>\n",
       "    <tr>\n",
       "      <th>4615</th>\n",
       "      <td>2.0</td>\n",
       "      <td>0</td>\n",
       "      <td>15.6</td>\n",
       "      <td>4.0</td>\n",
       "      <td>Harici</td>\n",
       "      <td>120 Hz</td>\n",
       "      <td>2.0</td>\n",
       "      <td>29999.00</td>\n",
       "      <td>16</td>\n",
       "      <td>4</td>\n",
       "      <td>...</td>\n",
       "      <td>0</td>\n",
       "      <td>1</td>\n",
       "      <td>0</td>\n",
       "      <td>0</td>\n",
       "      <td>0</td>\n",
       "      <td>0</td>\n",
       "      <td>1</td>\n",
       "      <td>0</td>\n",
       "      <td>0</td>\n",
       "      <td>0</td>\n",
       "    </tr>\n",
       "    <tr>\n",
       "      <th>4616</th>\n",
       "      <td>2.0</td>\n",
       "      <td>0</td>\n",
       "      <td>15.6</td>\n",
       "      <td>4.0</td>\n",
       "      <td>Harici</td>\n",
       "      <td>120 Hz</td>\n",
       "      <td>2.0</td>\n",
       "      <td>29999.00</td>\n",
       "      <td>16</td>\n",
       "      <td>4</td>\n",
       "      <td>...</td>\n",
       "      <td>0</td>\n",
       "      <td>1</td>\n",
       "      <td>0</td>\n",
       "      <td>0</td>\n",
       "      <td>0</td>\n",
       "      <td>0</td>\n",
       "      <td>1</td>\n",
       "      <td>0</td>\n",
       "      <td>0</td>\n",
       "      <td>0</td>\n",
       "    </tr>\n",
       "    <tr>\n",
       "      <th>4617</th>\n",
       "      <td>2.0</td>\n",
       "      <td>0</td>\n",
       "      <td>15.6</td>\n",
       "      <td>4.0</td>\n",
       "      <td>Harici</td>\n",
       "      <td>120 Hz</td>\n",
       "      <td>2.0</td>\n",
       "      <td>29999.00</td>\n",
       "      <td>64</td>\n",
       "      <td>4</td>\n",
       "      <td>...</td>\n",
       "      <td>0</td>\n",
       "      <td>1</td>\n",
       "      <td>0</td>\n",
       "      <td>0</td>\n",
       "      <td>0</td>\n",
       "      <td>0</td>\n",
       "      <td>1</td>\n",
       "      <td>0</td>\n",
       "      <td>0</td>\n",
       "      <td>0</td>\n",
       "    </tr>\n",
       "  </tbody>\n",
       "</table>\n",
       "<p>1818 rows × 117 columns</p>\n",
       "</div>"
      ],
      "text/plain": [
       "      Cihaz Ağırlığı  Dokunmatik Ekran  Ekran Boyutu  Ekran Kartı Hafızası  \\\n",
       "3                2.0                 0          15.6                   4.0   \n",
       "6                3.0                 0          13.6                   8.0   \n",
       "7                2.0                 0          15.6                   4.0   \n",
       "8                2.0                 0          15.6                   4.0   \n",
       "10               2.0                 0          15.6                   4.0   \n",
       "...              ...               ...           ...                   ...   \n",
       "4613             2.0                 0          15.6                   4.0   \n",
       "4614             2.0                 0          15.6                   4.0   \n",
       "4615             2.0                 0          15.6                   4.0   \n",
       "4616             2.0                 0          15.6                   4.0   \n",
       "4617             2.0                 0          15.6                   4.0   \n",
       "\n",
       "     Ekran Kartı Tipi Ekran Yenileme Hızı  Garanti Süresi     Price  \\\n",
       "3              Harici              144 Hz             2.0  15190.57   \n",
       "6              Dahili              120 Hz             2.0  23505.49   \n",
       "7              Harici              144 Hz             2.0  20759.00   \n",
       "8              Harici              144 Hz             2.0  15599.00   \n",
       "10             Harici              120 Hz             2.0  17950.00   \n",
       "...               ...                 ...             ...       ...   \n",
       "4613           Harici              120 Hz             2.0  29999.00   \n",
       "4614           Harici              120 Hz             2.0  29999.00   \n",
       "4615           Harici              120 Hz             2.0  29999.00   \n",
       "4616           Harici              120 Hz             2.0  29999.00   \n",
       "4617           Harici              120 Hz             2.0  29999.00   \n",
       "\n",
       "      Ram (Sistem Belleği)  Ram (Sistem Belleği) Tipi  ...  \\\n",
       "3                        8                          4  ...   \n",
       "6                        8                          8  ...   \n",
       "7                       16                          4  ...   \n",
       "8                        8                          4  ...   \n",
       "10                      16                          4  ...   \n",
       "...                    ...                        ...  ...   \n",
       "4613                    64                          4  ...   \n",
       "4614                    32                          4  ...   \n",
       "4615                    16                          4  ...   \n",
       "4616                    16                          4  ...   \n",
       "4617                    64                          4  ...   \n",
       "\n",
       "      İşlemci Tipi_Intel Core i3  İşlemci Tipi_Intel Core i5  \\\n",
       "3                              0                           1   \n",
       "6                              0                           0   \n",
       "7                              0                           0   \n",
       "8                              0                           0   \n",
       "10                             0                           1   \n",
       "...                          ...                         ...   \n",
       "4613                           0                           1   \n",
       "4614                           0                           1   \n",
       "4615                           0                           1   \n",
       "4616                           0                           1   \n",
       "4617                           0                           1   \n",
       "\n",
       "     İşlemci Tipi_Intel Core i7  İşlemci Tipi_Intel Core i9  \\\n",
       "3                             0                           0   \n",
       "6                             0                           0   \n",
       "7                             0                           0   \n",
       "8                             0                           0   \n",
       "10                            0                           0   \n",
       "...                         ...                         ...   \n",
       "4613                          0                           0   \n",
       "4614                          0                           0   \n",
       "4615                          0                           0   \n",
       "4616                          0                           0   \n",
       "4617                          0                           0   \n",
       "\n",
       "      İşlemci Tipi_Intel Xeon W Serisi  İşlemci Tipi_M2  \\\n",
       "3                                    0                0   \n",
       "6                                    0                1   \n",
       "7                                    0                0   \n",
       "8                                    0                0   \n",
       "10                                   0                0   \n",
       "...                                ...              ...   \n",
       "4613                                 0                0   \n",
       "4614                                 0                0   \n",
       "4615                                 0                0   \n",
       "4616                                 0                0   \n",
       "4617                                 0                0   \n",
       "\n",
       "      İşletim Sistemi_Free Dos  İşletim Sistemi_Mac Os  \\\n",
       "3                            1                       0   \n",
       "6                            0                       1   \n",
       "7                            1                       0   \n",
       "8                            1                       0   \n",
       "10                           1                       0   \n",
       "...                        ...                     ...   \n",
       "4613                         0                       0   \n",
       "4614                         1                       0   \n",
       "4615                         1                       0   \n",
       "4616                         1                       0   \n",
       "4617                         1                       0   \n",
       "\n",
       "      İşletim Sistemi_Windows  İşletim Sistemi_Windows 11  \n",
       "3                           0                           0  \n",
       "6                           0                           0  \n",
       "7                           0                           0  \n",
       "8                           0                           0  \n",
       "10                          0                           0  \n",
       "...                       ...                         ...  \n",
       "4613                        1                           0  \n",
       "4614                        0                           0  \n",
       "4615                        0                           0  \n",
       "4616                        0                           0  \n",
       "4617                        0                           0  \n",
       "\n",
       "[1818 rows x 117 columns]"
      ]
     },
     "execution_count": 108,
     "metadata": {},
     "output_type": "execute_result"
    }
   ],
   "source": [
    "new_df = pd.get_dummies(new_df, columns=[\"Brand\",\"Ekran Kartı\",\"Ekran Kartı Bellek Tipi\",\"Garanti Tipi\",\"Kullanım Amacı\",\"İşlemci Nesli\",\"İşlemci Tipi\",\"İşletim Sistemi\"], drop_first=True)\n",
    "new_df"
   ]
  },
  {
   "cell_type": "code",
   "execution_count": 120,
   "metadata": {},
   "outputs": [],
   "source": [
    "from sklearn.model_selection import train_test_split\n",
    "\n",
    "# X ve Y değişkenlerimizi oluşturma\n",
    "X1 = new_df.drop([\"Price\",\"Ekran Kartı Tipi\",\"Ekran Yenileme Hızı\",\"Title\"],axis=1)\n",
    "y1 = new_df.Price\n",
    "\n",
    "# Train/Test Ayrımı\n",
    "X1_train, x1_test, Y1_train, y1_test = train_test_split(X1, y1, test_size=0.2, random_state=42)\n",
    "\n",
    "# Train/Validation Ayrımı\n",
    "x1_train, x1_val, y1_train, y1_val = train_test_split(X1_train, Y1_train, test_size=0.25, random_state=42)"
   ]
  },
  {
   "cell_type": "code",
   "execution_count": 121,
   "metadata": {},
   "outputs": [
    {
     "name": "stdout",
     "output_type": "stream",
     "text": [
      "X Train: (1090, 113)\n",
      "X Validation: (364, 113)\n",
      "X test: (364, 113)\n"
     ]
    }
   ],
   "source": [
    "print('X Train:', x1_train.shape)\n",
    "print('X Validation:', x1_val.shape)\n",
    "print('X test:', x1_test.shape)"
   ]
  },
  {
   "cell_type": "code",
   "execution_count": 122,
   "metadata": {},
   "outputs": [
    {
     "name": "stdout",
     "output_type": "stream",
     "text": [
      "MSE:  47844840.52182265\n",
      "R2 Score:  0.9050737573487019\n"
     ]
    }
   ],
   "source": [
    "from sklearn.linear_model import LinearRegression\n",
    "\n",
    "# Modeli Oluşturma\n",
    "lreg = LinearRegression()\n",
    "\n",
    "lreg.fit(x1_train,y1_train)\n",
    "\n",
    "pred = lreg.predict(x1_val)\n",
    "\n",
    "# MSE Hesabı\n",
    "mse = np.mean((pred - y1_val)**2)\n",
    "print(\"MSE: \", mse)\n",
    "\n",
    "# R2 Skor\n",
    "print(\"R2 Score: \", lreg.score(x1_val, y1_val))"
   ]
  },
  {
   "cell_type": "code",
   "execution_count": 123,
   "metadata": {},
   "outputs": [
    {
     "data": {
      "text/plain": [
       "array([-1.58238387e+03,  9.72387001e+03,  2.72463716e+03,  1.75569298e+03,\n",
       "        4.97607244e+03,  1.03357492e+02,  7.38050855e+02,  2.11942028e+00,\n",
       "       -4.05290104e+02,  1.81302276e+03,  2.34577119e+03,  9.44218936e+02,\n",
       "        3.79431214e+03,  3.45766883e+03,  3.95898323e+03, -7.13053010e+02,\n",
       "        2.95485901e+03,  3.80428212e+03,  1.56041071e+04, -4.15156115e+03,\n",
       "        4.22915036e-10, -2.06505035e-10,  6.30833824e+03, -1.64618541e-10,\n",
       "        1.44609658e-10, -2.81326652e+03, -4.53613884e+03, -1.40689661e+04,\n",
       "       -1.00044417e-11, -1.11336515e+04, -1.14171537e+04,  2.20162240e+02,\n",
       "       -6.18456397e-11, -3.07083164e+03, -4.70810157e+03,  3.93490240e+04,\n",
       "       -6.54836185e-11,  1.18552176e+03, -6.57033628e+03,  4.01763158e+03,\n",
       "       -1.89249202e+03, -9.15472402e+03,  4.00177669e-11, -9.03253235e+03,\n",
       "        1.45519152e-11, -9.10083221e+03, -9.87454294e+03, -2.21403442e+03,\n",
       "       -8.02174084e+03, -5.29733662e+03, -2.40934894e+03,  3.48088641e+03,\n",
       "        9.16291744e+03, -6.84278111e+03,  3.90153050e+03,  9.08973402e+03,\n",
       "       -2.13602230e+03, -1.69268482e+01,  1.04584394e+03,  9.09494702e-13,\n",
       "        1.45519152e-11,  2.85505727e+04, -7.09336005e+03,  6.17122072e+03,\n",
       "        1.75767517e+03,  2.35311541e+04,  1.81898940e-11, -1.09139364e-11,\n",
       "       -3.29162522e+03,  1.04584394e+03, -4.70810157e+03,  3.63797881e-12,\n",
       "        5.19601391e+03,  7.49195267e+02,  1.32566471e+03,  1.90324242e+03,\n",
       "        3.35215753e+03,  6.30833824e+03,  2.28684061e+03,  3.83425326e+03,\n",
       "        2.90118435e+02, -5.67189083e+03, -2.43348491e+03,  3.71832945e+03,\n",
       "        8.87385319e+03,  2.27668402e+03,  0.00000000e+00, -1.31813391e+03,\n",
       "       -3.39955036e+03, -3.77330537e+03, -6.53878430e+03,  0.00000000e+00,\n",
       "       -1.77429205e+03,  6.30833824e+03, -1.08151369e+03, -3.29162522e+03,\n",
       "        0.00000000e+00,  4.23949590e+03,  5.90717680e+03,  7.46013816e+03,\n",
       "        2.20162240e+02, -5.66378224e+04, -1.77429205e+03, -8.73307890e+03,\n",
       "       -3.60138552e+03,  3.32028057e+03,  1.38843335e+04,  1.52182175e+04,\n",
       "       -3.07083164e+03,  3.30982613e+03,  3.45766883e+03,  6.23816770e+03,\n",
       "       -2.53884511e+03])"
      ]
     },
     "execution_count": 123,
     "metadata": {},
     "output_type": "execute_result"
    }
   ],
   "source": [
    "# Modelimizde yer alan katsayı değerleri\n",
    "lreg.coef_"
   ]
  },
  {
   "cell_type": "code",
   "execution_count": 124,
   "metadata": {},
   "outputs": [],
   "source": [
    "new_df['Price_Log'] = np.log(new_df['Price'])"
   ]
  },
  {
   "cell_type": "code",
   "execution_count": 126,
   "metadata": {},
   "outputs": [],
   "source": [
    "from sklearn.model_selection import train_test_split\n",
    "\n",
    "# X ve Y değişkenlerimizi oluşturma\n",
    "X2 = new_df.drop([\"Price\",\"Ekran Kartı Tipi\",\"Ekran Yenileme Hızı\",\"Title\"],axis=1)\n",
    "y2 = new_df.Price\n",
    "\n",
    "# Train/Test Ayrımı\n",
    "X2_train, x2_test, Y2_train, y2_test = train_test_split(X2, y2, test_size=0.2, random_state=42)\n",
    "\n",
    "# Train/Validation Ayrımı\n",
    "x2_train, x2_val, y2_train, y2_val = train_test_split(X2_train, Y2_train, test_size=0.25, random_state=42)"
   ]
  },
  {
   "cell_type": "code",
   "execution_count": 127,
   "metadata": {},
   "outputs": [
    {
     "name": "stdout",
     "output_type": "stream",
     "text": [
      "X Train: (1090, 114)\n",
      "X Validation: (364, 114)\n",
      "X test: (364, 114)\n"
     ]
    }
   ],
   "source": [
    "print('X Train:', x2_train.shape)\n",
    "print('X Validation:', x2_val.shape)\n",
    "print('X test:', x2_test.shape)"
   ]
  },
  {
   "cell_type": "code",
   "execution_count": 128,
   "metadata": {},
   "outputs": [
    {
     "name": "stdout",
     "output_type": "stream",
     "text": [
      "MSE:  14141453.383743294\n",
      "R2 Score:  0.9719427419820753\n"
     ]
    }
   ],
   "source": [
    "from sklearn.linear_model import LinearRegression\n",
    "\n",
    "# Modeli Oluşturma\n",
    "lreg = LinearRegression()\n",
    "\n",
    "lreg.fit(x2_train,y2_train)\n",
    "\n",
    "pred = lreg.predict(x2_val)\n",
    "\n",
    "# MSE Hesabı\n",
    "mse = np.mean((pred - y2_val)**2)\n",
    "print(\"MSE: \", mse)\n",
    "\n",
    "# R2 Skor\n",
    "print(\"R2 Score: \", lreg.score(x2_val, y2_val))"
   ]
  },
  {
   "cell_type": "code",
   "execution_count": 130,
   "metadata": {},
   "outputs": [],
   "source": [
    "import matplotlib.pyplot as plt\n",
    "import seaborn as sns"
   ]
  },
  {
   "cell_type": "code",
   "execution_count": 142,
   "metadata": {},
   "outputs": [
    {
     "data": {
      "image/png": "[encoded data removed]",
      "text/plain": [
       "<Figure size 1296x864 with 2 Axes>"
      ]
     },
     "metadata": {
      "needs_background": "light"
     },
     "output_type": "display_data"
    }
   ],
   "source": [
    "plt.figure(figsize=[18,12])\n",
    "sns.heatmap(new_df[[\"Cihaz Ağırlığı\",\"Dokunmatik Ekran\",\"Ekran Boyutu\",\"Ekran Kartı Hafızası\",\"Garanti Süresi\",\n",
    "                    \"Ram (Sistem Belleği)\",\"Ram (Sistem Belleği) Tipi\",\"SSD Kapasitesi\",\"Star\",\"Çözünürlük\",\n",
    "                    \"Çözünürlük Standartı\",\"İşlemci Çekirdek Sayısı\",\"Price\"]].corr(), cmap=\"seismic\", annot=True, vmin=-1, vmax=1, fmt='.1f');"
   ]
  },
  {
   "cell_type": "code",
   "execution_count": 141,
   "metadata": {},
   "outputs": [
    {
     "data": {
      "text/html": [
       "<div>\n",
       "<style scoped>\n",
       "    .dataframe tbody tr th:only-of-type {\n",
       "        vertical-align: middle;\n",
       "    }\n",
       "\n",
       "    .dataframe tbody tr th {\n",
       "        vertical-align: top;\n",
       "    }\n",
       "\n",
       "    .dataframe thead th {\n",
       "        text-align: right;\n",
       "    }\n",
       "</style>\n",
       "<table border=\"1\" class=\"dataframe\">\n",
       "  <thead>\n",
       "    <tr style=\"text-align: right;\">\n",
       "      <th></th>\n",
       "      <th>Brand_ASUS</th>\n",
       "      <th>Brand_Apple</th>\n",
       "      <th>Brand_Dell</th>\n",
       "      <th>Brand_HP</th>\n",
       "      <th>Brand_LENOVO</th>\n",
       "      <th>Brand_MSI</th>\n",
       "      <th>Ekran Kartı_AMD R7 250</th>\n",
       "      <th>Ekran Kartı_AMD Radeon 520</th>\n",
       "      <th>Ekran Kartı_AMD Radeon Graphics</th>\n",
       "      <th>Ekran Kartı_AMD Radeon Pro 5300M</th>\n",
       "      <th>...</th>\n",
       "      <th>İşlemci Tipi_Intel Core i5</th>\n",
       "      <th>İşlemci Tipi_Intel Core i7</th>\n",
       "      <th>İşlemci Tipi_Intel Core i9</th>\n",
       "      <th>İşlemci Tipi_Intel Xeon W Serisi</th>\n",
       "      <th>İşlemci Tipi_M2</th>\n",
       "      <th>İşletim Sistemi_Free Dos</th>\n",
       "      <th>İşletim Sistemi_Mac Os</th>\n",
       "      <th>İşletim Sistemi_Windows</th>\n",
       "      <th>İşletim Sistemi_Windows 11</th>\n",
       "      <th>Price_Log</th>\n",
       "    </tr>\n",
       "  </thead>\n",
       "  <tbody>\n",
       "    <tr>\n",
       "      <th>3</th>\n",
       "      <td>1</td>\n",
       "      <td>0</td>\n",
       "      <td>0</td>\n",
       "      <td>0</td>\n",
       "      <td>0</td>\n",
       "      <td>0</td>\n",
       "      <td>0</td>\n",
       "      <td>0</td>\n",
       "      <td>0</td>\n",
       "      <td>0</td>\n",
       "      <td>...</td>\n",
       "      <td>1</td>\n",
       "      <td>0</td>\n",
       "      <td>0</td>\n",
       "      <td>0</td>\n",
       "      <td>0</td>\n",
       "      <td>1</td>\n",
       "      <td>0</td>\n",
       "      <td>0</td>\n",
       "      <td>0</td>\n",
       "      <td>9.628430</td>\n",
       "    </tr>\n",
       "    <tr>\n",
       "      <th>6</th>\n",
       "      <td>0</td>\n",
       "      <td>1</td>\n",
       "      <td>0</td>\n",
       "      <td>0</td>\n",
       "      <td>0</td>\n",
       "      <td>0</td>\n",
       "      <td>0</td>\n",
       "      <td>0</td>\n",
       "      <td>0</td>\n",
       "      <td>0</td>\n",
       "      <td>...</td>\n",
       "      <td>0</td>\n",
       "      <td>0</td>\n",
       "      <td>0</td>\n",
       "      <td>0</td>\n",
       "      <td>1</td>\n",
       "      <td>0</td>\n",
       "      <td>1</td>\n",
       "      <td>0</td>\n",
       "      <td>0</td>\n",
       "      <td>10.064989</td>\n",
       "    </tr>\n",
       "    <tr>\n",
       "      <th>7</th>\n",
       "      <td>0</td>\n",
       "      <td>0</td>\n",
       "      <td>0</td>\n",
       "      <td>0</td>\n",
       "      <td>1</td>\n",
       "      <td>0</td>\n",
       "      <td>0</td>\n",
       "      <td>0</td>\n",
       "      <td>0</td>\n",
       "      <td>0</td>\n",
       "      <td>...</td>\n",
       "      <td>0</td>\n",
       "      <td>0</td>\n",
       "      <td>0</td>\n",
       "      <td>0</td>\n",
       "      <td>0</td>\n",
       "      <td>1</td>\n",
       "      <td>0</td>\n",
       "      <td>0</td>\n",
       "      <td>0</td>\n",
       "      <td>9.940735</td>\n",
       "    </tr>\n",
       "    <tr>\n",
       "      <th>8</th>\n",
       "      <td>0</td>\n",
       "      <td>0</td>\n",
       "      <td>0</td>\n",
       "      <td>0</td>\n",
       "      <td>0</td>\n",
       "      <td>0</td>\n",
       "      <td>0</td>\n",
       "      <td>0</td>\n",
       "      <td>0</td>\n",
       "      <td>0</td>\n",
       "      <td>...</td>\n",
       "      <td>0</td>\n",
       "      <td>0</td>\n",
       "      <td>0</td>\n",
       "      <td>0</td>\n",
       "      <td>0</td>\n",
       "      <td>1</td>\n",
       "      <td>0</td>\n",
       "      <td>0</td>\n",
       "      <td>0</td>\n",
       "      <td>9.654962</td>\n",
       "    </tr>\n",
       "    <tr>\n",
       "      <th>10</th>\n",
       "      <td>0</td>\n",
       "      <td>0</td>\n",
       "      <td>1</td>\n",
       "      <td>0</td>\n",
       "      <td>0</td>\n",
       "      <td>0</td>\n",
       "      <td>0</td>\n",
       "      <td>0</td>\n",
       "      <td>0</td>\n",
       "      <td>0</td>\n",
       "      <td>...</td>\n",
       "      <td>1</td>\n",
       "      <td>0</td>\n",
       "      <td>0</td>\n",
       "      <td>0</td>\n",
       "      <td>0</td>\n",
       "      <td>1</td>\n",
       "      <td>0</td>\n",
       "      <td>0</td>\n",
       "      <td>0</td>\n",
       "      <td>9.795345</td>\n",
       "    </tr>\n",
       "    <tr>\n",
       "      <th>...</th>\n",
       "      <td>...</td>\n",
       "      <td>...</td>\n",
       "      <td>...</td>\n",
       "      <td>...</td>\n",
       "      <td>...</td>\n",
       "      <td>...</td>\n",
       "      <td>...</td>\n",
       "      <td>...</td>\n",
       "      <td>...</td>\n",
       "      <td>...</td>\n",
       "      <td>...</td>\n",
       "      <td>...</td>\n",
       "      <td>...</td>\n",
       "      <td>...</td>\n",
       "      <td>...</td>\n",
       "      <td>...</td>\n",
       "      <td>...</td>\n",
       "      <td>...</td>\n",
       "      <td>...</td>\n",
       "      <td>...</td>\n",
       "      <td>...</td>\n",
       "    </tr>\n",
       "    <tr>\n",
       "      <th>4613</th>\n",
       "      <td>0</td>\n",
       "      <td>0</td>\n",
       "      <td>1</td>\n",
       "      <td>0</td>\n",
       "      <td>0</td>\n",
       "      <td>0</td>\n",
       "      <td>0</td>\n",
       "      <td>0</td>\n",
       "      <td>0</td>\n",
       "      <td>0</td>\n",
       "      <td>...</td>\n",
       "      <td>1</td>\n",
       "      <td>0</td>\n",
       "      <td>0</td>\n",
       "      <td>0</td>\n",
       "      <td>0</td>\n",
       "      <td>0</td>\n",
       "      <td>0</td>\n",
       "      <td>1</td>\n",
       "      <td>0</td>\n",
       "      <td>10.308919</td>\n",
       "    </tr>\n",
       "    <tr>\n",
       "      <th>4614</th>\n",
       "      <td>0</td>\n",
       "      <td>0</td>\n",
       "      <td>1</td>\n",
       "      <td>0</td>\n",
       "      <td>0</td>\n",
       "      <td>0</td>\n",
       "      <td>0</td>\n",
       "      <td>0</td>\n",
       "      <td>0</td>\n",
       "      <td>0</td>\n",
       "      <td>...</td>\n",
       "      <td>1</td>\n",
       "      <td>0</td>\n",
       "      <td>0</td>\n",
       "      <td>0</td>\n",
       "      <td>0</td>\n",
       "      <td>1</td>\n",
       "      <td>0</td>\n",
       "      <td>0</td>\n",
       "      <td>0</td>\n",
       "      <td>10.308919</td>\n",
       "    </tr>\n",
       "    <tr>\n",
       "      <th>4615</th>\n",
       "      <td>0</td>\n",
       "      <td>0</td>\n",
       "      <td>1</td>\n",
       "      <td>0</td>\n",
       "      <td>0</td>\n",
       "      <td>0</td>\n",
       "      <td>0</td>\n",
       "      <td>0</td>\n",
       "      <td>0</td>\n",
       "      <td>0</td>\n",
       "      <td>...</td>\n",
       "      <td>1</td>\n",
       "      <td>0</td>\n",
       "      <td>0</td>\n",
       "      <td>0</td>\n",
       "      <td>0</td>\n",
       "      <td>1</td>\n",
       "      <td>0</td>\n",
       "      <td>0</td>\n",
       "      <td>0</td>\n",
       "      <td>10.308919</td>\n",
       "    </tr>\n",
       "    <tr>\n",
       "      <th>4616</th>\n",
       "      <td>0</td>\n",
       "      <td>0</td>\n",
       "      <td>1</td>\n",
       "      <td>0</td>\n",
       "      <td>0</td>\n",
       "      <td>0</td>\n",
       "      <td>0</td>\n",
       "      <td>0</td>\n",
       "      <td>0</td>\n",
       "      <td>0</td>\n",
       "      <td>...</td>\n",
       "      <td>1</td>\n",
       "      <td>0</td>\n",
       "      <td>0</td>\n",
       "      <td>0</td>\n",
       "      <td>0</td>\n",
       "      <td>1</td>\n",
       "      <td>0</td>\n",
       "      <td>0</td>\n",
       "      <td>0</td>\n",
       "      <td>10.308919</td>\n",
       "    </tr>\n",
       "    <tr>\n",
       "      <th>4617</th>\n",
       "      <td>0</td>\n",
       "      <td>0</td>\n",
       "      <td>1</td>\n",
       "      <td>0</td>\n",
       "      <td>0</td>\n",
       "      <td>0</td>\n",
       "      <td>0</td>\n",
       "      <td>0</td>\n",
       "      <td>0</td>\n",
       "      <td>0</td>\n",
       "      <td>...</td>\n",
       "      <td>1</td>\n",
       "      <td>0</td>\n",
       "      <td>0</td>\n",
       "      <td>0</td>\n",
       "      <td>0</td>\n",
       "      <td>1</td>\n",
       "      <td>0</td>\n",
       "      <td>0</td>\n",
       "      <td>0</td>\n",
       "      <td>10.308919</td>\n",
       "    </tr>\n",
       "  </tbody>\n",
       "</table>\n",
       "<p>1818 rows × 102 columns</p>\n",
       "</div>"
      ],
      "text/plain": [
       "      Brand_ASUS  Brand_Apple  Brand_Dell  Brand_HP  Brand_LENOVO  Brand_MSI  \\\n",
       "3              1            0           0         0             0          0   \n",
       "6              0            1           0         0             0          0   \n",
       "7              0            0           0         0             1          0   \n",
       "8              0            0           0         0             0          0   \n",
       "10             0            0           1         0             0          0   \n",
       "...          ...          ...         ...       ...           ...        ...   \n",
       "4613           0            0           1         0             0          0   \n",
       "4614           0            0           1         0             0          0   \n",
       "4615           0            0           1         0             0          0   \n",
       "4616           0            0           1         0             0          0   \n",
       "4617           0            0           1         0             0          0   \n",
       "\n",
       "      Ekran Kartı_AMD R7 250  Ekran Kartı_AMD Radeon 520  \\\n",
       "3                          0                           0   \n",
       "6                          0                           0   \n",
       "7                          0                           0   \n",
       "8                          0                           0   \n",
       "10                         0                           0   \n",
       "...                      ...                         ...   \n",
       "4613                       0                           0   \n",
       "4614                       0                           0   \n",
       "4615                       0                           0   \n",
       "4616                       0                           0   \n",
       "4617                       0                           0   \n",
       "\n",
       "      Ekran Kartı_AMD Radeon Graphics  Ekran Kartı_AMD Radeon Pro 5300M  ...  \\\n",
       "3                                   0                                 0  ...   \n",
       "6                                   0                                 0  ...   \n",
       "7                                   0                                 0  ...   \n",
       "8                                   0                                 0  ...   \n",
       "10                                  0                                 0  ...   \n",
       "...                               ...                               ...  ...   \n",
       "4613                                0                                 0  ...   \n",
       "4614                                0                                 0  ...   \n",
       "4615                                0                                 0  ...   \n",
       "4616                                0                                 0  ...   \n",
       "4617                                0                                 0  ...   \n",
       "\n",
       "      İşlemci Tipi_Intel Core i5  İşlemci Tipi_Intel Core i7  \\\n",
       "3                              1                           0   \n",
       "6                              0                           0   \n",
       "7                              0                           0   \n",
       "8                              0                           0   \n",
       "10                             1                           0   \n",
       "...                          ...                         ...   \n",
       "4613                           1                           0   \n",
       "4614                           1                           0   \n",
       "4615                           1                           0   \n",
       "4616                           1                           0   \n",
       "4617                           1                           0   \n",
       "\n",
       "      İşlemci Tipi_Intel Core i9  İşlemci Tipi_Intel Xeon W Serisi  \\\n",
       "3                              0                                 0   \n",
       "6                              0                                 0   \n",
       "7                              0                                 0   \n",
       "8                              0                                 0   \n",
       "10                             0                                 0   \n",
       "...                          ...                               ...   \n",
       "4613                           0                                 0   \n",
       "4614                           0                                 0   \n",
       "4615                           0                                 0   \n",
       "4616                           0                                 0   \n",
       "4617                           0                                 0   \n",
       "\n",
       "      İşlemci Tipi_M2  İşletim Sistemi_Free Dos  İşletim Sistemi_Mac Os  \\\n",
       "3                   0                         1                       0   \n",
       "6                   1                         0                       1   \n",
       "7                   0                         1                       0   \n",
       "8                   0                         1                       0   \n",
       "10                  0                         1                       0   \n",
       "...               ...                       ...                     ...   \n",
       "4613                0                         0                       0   \n",
       "4614                0                         1                       0   \n",
       "4615                0                         1                       0   \n",
       "4616                0                         1                       0   \n",
       "4617                0                         1                       0   \n",
       "\n",
       "      İşletim Sistemi_Windows  İşletim Sistemi_Windows 11  Price_Log  \n",
       "3                           0                           0   9.628430  \n",
       "6                           0                           0  10.064989  \n",
       "7                           0                           0   9.940735  \n",
       "8                           0                           0   9.654962  \n",
       "10                          0                           0   9.795345  \n",
       "...                       ...                         ...        ...  \n",
       "4613                        1                           0  10.308919  \n",
       "4614                        0                           0  10.308919  \n",
       "4615                        0                           0  10.308919  \n",
       "4616                        0                           0  10.308919  \n",
       "4617                        0                           0  10.308919  \n",
       "\n",
       "[1818 rows x 102 columns]"
      ]
     },
     "execution_count": 141,
     "metadata": {},
     "output_type": "execute_result"
    }
   ],
   "source": [
    "new_df[new_df.columns[16:]]"
   ]
  },
  {
   "cell_type": "code",
   "execution_count": 144,
   "metadata": {},
   "outputs": [],
   "source": [
    "from sklearn.model_selection import train_test_split\n",
    "\n",
    "# X ve Y değişkenlerimizi oluşturma\n",
    "X3 = new_df.drop([\"Price\",\"Ekran Kartı Tipi\",\"Ekran Yenileme Hızı\",\"Title\"],axis=1)\n",
    "y3 = new_df.Price\n",
    "\n",
    "# Train/Test Ayrımı\n",
    "X3_train, x3_test, Y3_train, y3_test = train_test_split(X3, y3, test_size=0.2, random_state=42)\n",
    "\n",
    "# Train/Validation Ayrımı\n",
    "x3_train, x3_val, y3_train, y3_val = train_test_split(X3_train, Y3_train, test_size=0.25, random_state=42)"
   ]
  },
  {
   "cell_type": "code",
   "execution_count": 145,
   "metadata": {},
   "outputs": [
    {
     "name": "stdout",
     "output_type": "stream",
     "text": [
      "MSE:  7952743.152542414\n",
      "R2 Score:  0.9793426432058321\n"
     ]
    }
   ],
   "source": [
    "from sklearn.linear_model import LinearRegression\n",
    "\n",
    "# Modeli Oluşturma\n",
    "lreg = LinearRegression()\n",
    "\n",
    "lreg.fit(X3_train,Y3_train)\n",
    "\n",
    "pred = lreg.predict(x3_test)\n",
    "\n",
    "# MSE Hesabı\n",
    "mse = np.mean((pred - y3_test)**2)\n",
    "print(\"MSE: \", mse)\n",
    "\n",
    "# R2 Skor\n",
    "print(\"R2 Score: \", lreg.score(x3_test, y3_test))"
   ]
  },
  {
   "cell_type": "code",
   "execution_count": 148,
   "metadata": {},
   "outputs": [
    {
     "data": {
      "text/plain": [
       "<matplotlib.collections.PathCollection at 0x1f357e053a0>"
      ]
     },
     "execution_count": 148,
     "metadata": {},
     "output_type": "execute_result"
    },
    {
     "data": {
      "image/png": "[encoded data removed]",
      "text/plain": [
       "<Figure size 432x288 with 1 Axes>"
      ]
     },
     "metadata": {
      "needs_background": "light"
     },
     "output_type": "display_data"
    }
   ],
   "source": [
    "plt.scatter(pred,y3_test)"
   ]
  },
  {
   "cell_type": "code",
   "execution_count": null,
   "metadata": {},
   "outputs": [],
   "source": []
  }
 ],
 "metadata": {
  "kernelspec": {
   "display_name": "Python 3 (ipykernel)",
   "language": "python",
   "name": "python3"
  },
  "language_info": {
   "codemirror_mode": {
    "name": "ipython",
    "version": 3
   },
   "file_extension": ".py",
   "mimetype": "text/x-python",
   "name": "python",
   "nbconvert_exporter": "python",
   "pygments_lexer": "ipython3",
   "version": "3.9.12"
  }
 },
 "nbformat": 4,
 "nbformat_minor": 4
}
